{
 "cells": [
  {
   "cell_type": "code",
   "execution_count": 77,
   "metadata": {},
   "outputs": [],
   "source": [
    "from dataclasses import dataclass\n",
    "@dataclass\n",
    "class Button():\n",
    "    btnText : str\n",
    "    #btnVal: bool\n",
    "        \n",
    "class MyButton(Button):\n",
    "    def __init__(self,text,val):\n",
    "        self.text : str = text\n",
    "        self.val : bool = val\n",
    "        super().__init__(self.text)#, self.val)\n",
    "        \n",
    "class MultipleAnswer():\n",
    "    def __init__(self):\n",
    "        self.answers : list\n",
    "    def load_options(self, answers: dict):\n",
    "        buttons = []\n",
    "        for el in answers:\n",
    "            op = MyButton(el, answers[el])\n",
    "            buttons.append(op)\n",
    "        self.answers = buttons"
   ]
  },
  {
   "cell_type": "code",
   "execution_count": 1,
   "metadata": {},
   "outputs": [],
   "source": [
    "answers = {'Drunk': True, 'Dog': False}"
   ]
  },
  {
   "cell_type": "code",
   "execution_count": 44,
   "metadata": {},
   "outputs": [
    {
     "data": {
      "text/plain": [
       "'Drunk'"
      ]
     },
     "execution_count": 44,
     "metadata": {},
     "output_type": "execute_result"
    }
   ],
   "source": [
    "bt = Button('Drunk')\n",
    "bt.btnText"
   ]
  },
  {
   "cell_type": "code",
   "execution_count": 55,
   "metadata": {},
   "outputs": [
    {
     "data": {
      "text/plain": [
       "MyButton(btnText='Drunk')"
      ]
     },
     "execution_count": 55,
     "metadata": {},
     "output_type": "execute_result"
    }
   ],
   "source": [
    "btn = MyButton('Drunk', False)\n",
    "btn.text\n",
    "btn"
   ]
  },
  {
   "cell_type": "code",
   "execution_count": 85,
   "metadata": {},
   "outputs": [
    {
     "data": {
      "text/plain": [
       "[MyButton(btnText='drunk'), MyButton(btnText='dog'), MyButton(btnText='cat')]"
      ]
     },
     "execution_count": 85,
     "metadata": {},
     "output_type": "execute_result"
    }
   ],
   "source": [
    "answers = {'drunk': True, 'dog': False, 'cat': False}\n",
    "MA = MultipleAnswer()\n",
    "MA.load_options(answers)\n",
    "MA.answers"
   ]
  }
 ],
 "metadata": {
  "kernelspec": {
   "display_name": "Python 3",
   "language": "python",
   "name": "python3"
  },
  "language_info": {
   "codemirror_mode": {
    "name": "ipython",
    "version": 3
   },
   "file_extension": ".py",
   "mimetype": "text/x-python",
   "name": "python",
   "nbconvert_exporter": "python",
   "pygments_lexer": "ipython3",
   "version": "3.7.3"
  }
 },
 "nbformat": 4,
 "nbformat_minor": 2
}

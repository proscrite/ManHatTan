{
 "cells": [
  {
   "cell_type": "code",
   "execution_count": 1,
   "metadata": {},
   "outputs": [],
   "source": [
    "from googletrans import Translator\n",
    "translator = Translator()\n",
    "import pandas as pd\n",
    "import numpy as np\n",
    "import os\n",
    "import re\n",
    "import sys\n",
    "import datetime\n",
    "\n",
    "sys.path.append('../python_scripts/')\n",
    "from bulkTranslate import *"
   ]
  },
  {
   "cell_type": "code",
   "execution_count": 2,
   "metadata": {
    "cell_style": "split",
    "scrolled": true
   },
   "outputs": [],
   "source": [
    "def split_dest(dest_str : str) -> list:\n",
    "    \"\"\"Split translated chunk by line and clean numbers and blank spaces\"\"\"\n",
    "    dest_list = re.split('\\n', dest_str)\n",
    "    nonum = [re.sub(r'[0-9,.;:]', '', t) for t in dest_list]\n",
    "    dest_clean = [e.strip() for e in nonum]    \n",
    "    return dest_clean\n",
    "\n",
    "def bulk_translate(src : pd.Series, dest_lang : str) -> pd.Series:\n",
    "    \"\"\"Send single src_str for bulk translation request to server,\n",
    "    split retrieved dest_str into its entries using RegEx.\n",
    "    Returns dest : final formatted Series in dest_lang language\"\"\"\n",
    "\n",
    "    dest_str = translator.translate(src.to_string(), src=src.name, dest=dest_lang).text\n",
    "\n",
    "    dest_clean = split_dest(dest_str)\n",
    "\n",
    "    dest = pd.Series(dest_clean, name = dest_lang)\n",
    "    \n",
    "    print('Attempted translation of %i entries. Check DB for mistranslations.' %len(dest))\n",
    "    return dest"
   ]
  },
  {
   "cell_type": "code",
   "execution_count": 3,
   "metadata": {
    "cell_style": "split",
    "code_folding": []
   },
   "outputs": [],
   "source": [
    "def test_long_sentence(src):\n",
    "    \"\"\"Search entries with more than 3 words and drop them\"\"\"\n",
    "    for i,w in enumerate(src):\n",
    "        if ' ' in w:\n",
    "            sentence = w\n",
    "            if len(re.findall(' ', sentence)) >= 3:\n",
    "                print(\"Entry with more than 3 words detected: \", sentence)\n",
    "                src.pop(i)\n",
    "    src.reset_index(drop=True, inplace=True)\n",
    "    return src\n",
    "\n",
    "def test_split_dest(dest_str):\n",
    "    dest_list = re.split('\\n', dest_str)\n",
    "    dest_clean = split_dest(dest_str)\n",
    "    assert len(dest_clean) == len(dest_list), \"Incorrect split and number cleaning of dest_str\"\n",
    "\n",
    "def test_bulk_translate(src : pd.Series, dest_lang : str):\n",
    "    dest = bulk_translate(src, dest_lang)\n",
    "    assert len(src) == len(dest), 'bulk_translate error: len(dest) does not match len(src)'"
   ]
  },
  {
   "cell_type": "code",
   "execution_count": 4,
   "metadata": {
    "code_folding": [
     15
    ]
   },
   "outputs": [],
   "source": [
    "class Translation:\n",
    "\n",
    "    def __init__(self, cadera_path : str, dest : str = None, src : str = None, color : str = 'blue') -> pd.Series :\n",
    "        \"\"\" Import source CADERA file and keep only column specified as 'color' \"\"\"\n",
    "        self.dfSrc = pd.read_csv(cadera_path, index_col=0)[color].dropna()\n",
    "        self.src : str = src\n",
    "        self.dest : str = dest\n",
    "        self.translator = Translator()\n",
    "\n",
    "    def detect_src(self, N : int = 0):\n",
    "        \"\"\"Auto-detect languages in wordset given and arrange them by occurrences\n",
    "        Parameters:\n",
    "        N : int = 0\n",
    "            Number of words to sample from CADERA series. If left to 0, the whole Series is taken\"\"\"\n",
    "\n",
    "        def compute_highest_scoring_language(dictNorm : dict, dictWeights : dict) -> dict:\n",
    "            \"\"\"Return highest scoring weighted language over the sample.\n",
    "            The probability for each language results from summing over all occurrences the product of two factors:\n",
    "                - Occurrences_language / sum(occurrences_languages)\n",
    "                - confidence_occurrence \"\"\"\n",
    "            ret = dict()\n",
    "            normFactor = sum(dictNorm.values())\n",
    "            for key, language in dictWeights.items():\n",
    "                ret[key] = language*dictNorm.get(key, 1) / normFactor\n",
    "            return ret\n",
    "\n",
    "        if N != 0:\n",
    "            sample = self.dfSrc.sample(N)\n",
    "        else:\n",
    "            sample = self.dfSrc\n",
    "\n",
    "        lang = [translator.detect(w).lang for w in sample]\n",
    "        conf = [translator.detect(w).confidence for w in sample]\n",
    "        dfLang = pd.DataFrame({'lang':lang, 'conf':conf})\n",
    "\n",
    "        dictNorm = dfLang.lang.value_counts().to_dict()  # Dictionary with number of occurences per language\n",
    "        normFactor = sum(dictNorm.values())              # Total number of words in sample\n",
    "\n",
    "        a = dfLang.groupby('lang').sum().to_dict()['conf']\n",
    "        dictWeights = {k: v / normFactor for k, v in a.items()}   # Weights per language, averaged by occurrences\n",
    "\n",
    "        ret = compute_highest_scoring_language(dictNorm, dictWeights)\n",
    "        maximum = max(ret, key=ret.get)\n",
    "        return maximum, ret#[maximum]"
   ]
  },
  {
   "cell_type": "code",
   "execution_count": 25,
   "metadata": {},
   "outputs": [
    {
     "data": {
      "text/plain": [
       "'0                                             Ungeziefer\\n1                                          Versteifungen\\n2                                                 Umfang\\n3                                             flimmerten\\n4                                              versehen,\\n5                                           Fensterblech\\n6                                        undurchführbar,\\n7                                             schaukelte\\n8                                                 Jucken\\n9                                                   Pult\\n10                                                Zeiger\\n11                                          Donnerwetter\\n12                                              Rückgrat\\n13                                              Einwände\\n14                                         arbeitsscheue\\n15                                                derart\\n16                                           ausführlich\\n17                                                Faust.\\n18                                            Einbildung\\n19                                               Vorbote\\n20                                             tüchtigen\\n21                                               Willkür\\n22                                            Zuversicht\\n23                                            Munterkeit\\n24                                                Krach,\\n25                                             endgültig\\n26                                             erstarrte\\n27                                            Versäumnis\\n28                                               Lumpen,\\n29                                         Angelegenheit\\n30                                         verständigen:\\n31                                               gnädige\\n32                                           schluchzen.\\n33                                          Ungewißheit,\\n34                                               Rändern\\n35                                         verständigten\\n36                                            Zuversicht\\n37                                                Kiefer\\n38                                         Aufmunterung;\\n39                                               Klinke,\\n40                                                 plump\\n41                                          feindseligem\\n42                                           überreicher\\n43                                            Heidengeld\\n44                                               beirren\\n45                                                wehren\\n46                                             gefährdet\\n47                                                gefaßt\\n48                                            Zischlaute\\n49                                        Abenddämmerung\\n50                                     ohnmachtähnlichen\\n51                                                Narbe,\\n52                                               hinken.\\n53                                                  Napf\\n54                                               heiklen\\n55                                    Unannehmlichkeiten\\n56                                         nachdrücklich\\n57                                             verzehrte\\n58                                               tüchtig\\n59                                             verraten.\\n60                                            allmählich\\n61                                               scheute\\n62                                              zitterte\\n63                                       Vernunftgründen\\n64                                             billigte.\\n65                                               Plafond\\n66                                            Aufenthalt\\n67                                              ererbten\\n68                                          Einwirkungen\\n69                                            entbehren;\\n70                                                 Trotz\\n71                                           Entschlusse\\n72                                          unweigerlich\\n73                                              Ohnmacht\\n74                                               ätzende\\n75                                           besänftigen\\n76                                                wütend\\n77                                            ausgerückt\\n78                                            Krückstock\\n79                                             zerzauste\\n80                                        Scheitelfrisur\\n81                                           verbissenem\\n82                                              Sehkraft\\n83                                              Schonung\\n84                                              weigerte\\n85                                         Infolgedessen\\n86                                            Eigensinn,\\n87                                                Ärmel,\\n88                                               Achseln\\n89                                             erzielten\\n90                                           anstarrten.\\n91                                           Hausknecht,\\n92                                         unzugänglich,\\n93                                             gebührte.\\n94                                                Knäuel\\n95                                           vorbehalten\\n96                                            Schluchzen\\n97                                           überdrüssig\\n98                                               Abscheu\\n99                                                söhnte\\n100                                         Zimmerherren\\n101                                              rührte.\\n102                                         mannigfachen\\n103                                     Gleichgültigkeit\\n104    Und trotz dieses Zustandes hatte er keine Sche...\\n105                                              Polster\\n106                                                   30\\n107                                        Ratlosigkeit,\\n108                                             Andenken\\n109                                             Benehmen\\n110                                           behaglich.\\n111                                            krepiert;\\n112                                             mürrisch\\n113                                            bisweilen\\n114                                              üppigen'"
      ]
     },
     "execution_count": 25,
     "metadata": {},
     "output_type": "execute_result"
    }
   ],
   "source": [
    "cder_path = '/Users/pabloherrero/Documents/ManHatTan/CADERAs/Die_Verwandlung_updated.cder'\n",
    "cadera = pd.read_csv(cder_path, index_col=0)['blue']\n",
    "cadera.to_string()"
   ]
  },
  {
   "cell_type": "code",
   "execution_count": 27,
   "metadata": {},
   "outputs": [
    {
     "data": {
      "text/plain": [
       "('de', 1.0)"
      ]
     },
     "execution_count": 27,
     "metadata": {},
     "output_type": "execute_result"
    }
   ],
   "source": [
    "translator.detect(cadera.to_string()).lang, translator.detect(cadera.to_string()).confidence"
   ]
  },
  {
   "cell_type": "markdown",
   "metadata": {
    "heading_collapsed": true
   },
   "source": [
    "## Testing the package "
   ]
  },
  {
   "cell_type": "code",
   "execution_count": 40,
   "metadata": {
    "hidden": true
   },
   "outputs": [
    {
     "name": "stdout",
     "output_type": "stream",
     "text": [
      "Invalid lang\n",
      "['af', 'sq', 'am', 'ar', 'hy', 'az', 'eu', 'be', 'bn', 'bs', 'bg', 'ca', 'ceb', 'ny', 'zh-cn', 'zh-tw', 'co', 'hr', 'cs', 'da', 'nl', 'en', 'eo', 'et', 'tl', 'fi', 'fr', 'fy', 'gl', 'ka', 'de', 'el', 'gu', 'ht', 'ha', 'haw', 'iw', 'hi', 'hmn', 'hu', 'is', 'ig', 'id', 'ga', 'it', 'ja', 'jw', 'kn', 'kk', 'km', 'ko', 'ku', 'ky', 'lo', 'la', 'lv', 'lt', 'lb', 'mk', 'mg', 'ms', 'ml', 'mt', 'mi', 'mr', 'mn', 'my', 'ne', 'no', 'ps', 'fa', 'pl', 'pt', 'pa', 'ro', 'ru', 'sm', 'gd', 'sr', 'st', 'sn', 'sd', 'si', 'sk', 'sl', 'so', 'es', 'su', 'sw', 'sv', 'tg', 'ta', 'te', 'th', 'tr', 'uk', 'ur', 'uz', 'vi', 'cy', 'xh', 'yi', 'yo', 'zu', 'fil', 'he']\n"
     ]
    }
   ],
   "source": [
    "from googletrans import LANGCODES\n",
    "langKeys = list(LANGUAGES.keys())\n",
    "if 'ax' not in langKeys:\n",
    "    print('Invalid lang')\n",
    "print(langKeys)"
   ]
  },
  {
   "cell_type": "code",
   "execution_count": 2,
   "metadata": {
    "hidden": true,
    "scrolled": true
   },
   "outputs": [
    {
     "data": {
      "text/plain": [
       "('en', 0.70463574)"
      ]
     },
     "execution_count": 2,
     "metadata": {},
     "output_type": "execute_result"
    }
   ],
   "source": [
    "translator.detect('ciao').lang, translator.detect('ciao').confidence"
   ]
  },
  {
   "cell_type": "markdown",
   "metadata": {
    "hidden": true
   },
   "source": [
    "#####  Google's translate API might be blocking the IP, tested with"
   ]
  },
  {
   "cell_type": "code",
   "execution_count": 21,
   "metadata": {
    "hidden": true
   },
   "outputs": [
    {
     "data": {
      "text/plain": [
       "('Hello', 'Hello')"
      ]
     },
     "execution_count": 21,
     "metadata": {},
     "output_type": "execute_result"
    }
   ],
   "source": [
    "translator.translate('ciao', src='it', dest='en').text, translator.translate('ciao', src='it', dest='en').pronunciation"
   ]
  },
  {
   "cell_type": "code",
   "execution_count": 23,
   "metadata": {
    "hidden": true
   },
   "outputs": [
    {
     "data": {
      "text/plain": [
       "'ciao'"
      ]
     },
     "execution_count": 23,
     "metadata": {},
     "output_type": "execute_result"
    }
   ],
   "source": [
    "translator.translate('ciao', src='it', dest='en')."
   ]
  },
  {
   "cell_type": "code",
   "execution_count": 22,
   "metadata": {
    "hidden": true
   },
   "outputs": [
    {
     "data": {
      "text/plain": [
       "{'translation': [['Hello', 'ciao', None, None, 1]],\n",
       " 'all-translations': [['interjection',\n",
       "   ['Hello!',\n",
       "    'Hi!',\n",
       "    'Bye!',\n",
       "    'Bye-Bye!',\n",
       "    'Hallo!',\n",
       "    'So long!',\n",
       "    'Cheerio!',\n",
       "    'Hullo!'],\n",
       "   [['Hello!',\n",
       "     ['Ciao!', 'Salve!', 'Pronto!', 'Pronto?', 'Piacere!'],\n",
       "     None,\n",
       "     0.5028316],\n",
       "    ['Hi!', ['Ciao!', 'Salve!', 'Piacere!'], None, 0.22313017],\n",
       "    ['Bye!', ['Arrivederci!', 'Ciao!', 'Addio!']],\n",
       "    ['Bye-Bye!', ['Arrivederci!', 'Arrivederla!', 'Ciao!', 'Addio!']],\n",
       "    ['Hallo!', ['Ciao!', 'Salve!', 'Pronto!']],\n",
       "    ['So long!', ['Ci vediamo!', 'Ciao!']],\n",
       "    ['Cheerio!', ['Cincin!', 'Ciao!']],\n",
       "    ['Hullo!', ['Pronto!', 'Ciao!']]],\n",
       "   'Ciao!',\n",
       "   9]],\n",
       " 'original-language': 'it',\n",
       " 'possible-translations': [['ciao',\n",
       "   None,\n",
       "   [['Hello', 1000, True, False], ['Hi', 1000, True, False]],\n",
       "   [[0, 4]],\n",
       "   'ciao',\n",
       "   0,\n",
       "   0]],\n",
       " 'confidence': 0.9629139,\n",
       " 'possible-mistakes': None,\n",
       " 'language': [['it'], None, [0.9629139], ['it']],\n",
       " 'synonyms': None,\n",
       " 'definitions': None,\n",
       " 'examples': None,\n",
       " 'see-also': None}"
      ]
     },
     "execution_count": 22,
     "metadata": {},
     "output_type": "execute_result"
    }
   ],
   "source": [
    "translator.translate('ciao', src='it', dest='en').extra_data"
   ]
  },
  {
   "cell_type": "markdown",
   "metadata": {
    "heading_collapsed": true
   },
   "source": [
    "# Apply on data [tests] "
   ]
  },
  {
   "cell_type": "code",
   "execution_count": 27,
   "metadata": {
    "hidden": true
   },
   "outputs": [],
   "source": [
    "cadera_path = '/Users/pabloherrero/Documents/ManHatTan/CADERAs/Il castello dei destini incrociati - Notizbuch.cder'\n",
    "df = pd.read_csv(cadera_path, index_col=0)\n",
    "src = df.blue.dropna()\n",
    "src.name = 'it'"
   ]
  },
  {
   "cell_type": "markdown",
   "metadata": {
    "hidden": true
   },
   "source": [
    "## Request whole document translation instead of placing word-by-word requests\n",
    "\n",
    "Avoid excess of request firewall"
   ]
  },
  {
   "cell_type": "code",
   "execution_count": 28,
   "metadata": {
    "hidden": true
   },
   "outputs": [
    {
     "data": {
      "text/plain": [
       "'0            rimpicciolita\\n1              compiutezza\\n2                    rozzo\\n3            mi resi conto\\n4               cruciverba\\n5                  anziché\\n6                 riscosse\\n7               l’incastro\\n8                   tenuta\\n9                      giù\\n10                  matto?\\n11                coricavo\\n12                fumetti:\\n13          bruciacchiato:\\n14          sopravvissuti,\\n15               esaurito.\\n16                  Perciò\\n17             schiacciato\\n18                    fede\\n19                    anzi\\n20                  pecora\\n21             manganello,\\n22                 balilla\\n23               nuociuto:\\n24                 disagio\\n25                 altrui,\\n26                  preti»\\n27                 lontano\\n28             giovinezza,\\n29               ostaggio,\\n30                  scelta\\n31                slancio,\\n32                  galera\\n33                   buia,\\n34                  fiato;\\n35                  l’agio\\n36                  tappa,\\n37                locanda,\\n38                  panche\\n39               sfarzosa.\\n40                   cenno\\n41                zenzero,\\n42                   fetta\\n43              versassero\\n44               stoviglie\\n45                supporre\\n46                  labbra\\n47                 zingare\\n48             splendevano\\n49                  Eppure\\n50             somiglianza\\n51             s’accingeva\\n52                  biondo\\n53              facoltosa,\\n54                luttuosa\\n55    sfarzose, s’affrettò\\n56                   dubbi\\n57                stendeva\\n58               brigante.\\n59               spogliato\\n60              fanciulla,\\n61               boscaiolo\\n62                  l’Asso\\n63      dissetava bocconi.\\n64                 goderci\\n65                  tenera\\n66               dovizioso\\n67                  nozze,\\n68                 monello\\n69           sferragliante\\n70                   lame.\\n71           raccapriccio.\\n72                 strega?'"
      ]
     },
     "execution_count": 28,
     "metadata": {},
     "output_type": "execute_result"
    }
   ],
   "source": [
    "src.to_string()"
   ]
  },
  {
   "cell_type": "markdown",
   "metadata": {
    "hidden": true
   },
   "source": [
    "### Remove non-alphanumeric symbols"
   ]
  },
  {
   "cell_type": "code",
   "execution_count": 29,
   "metadata": {
    "hidden": true
   },
   "outputs": [],
   "source": [
    "src_str = re.sub('[\\W_](?<![\\n\\s])', '', src.to_string())"
   ]
  },
  {
   "cell_type": "code",
   "execution_count": 30,
   "metadata": {
    "hidden": true,
    "scrolled": true
   },
   "outputs": [],
   "source": [
    "src_list = re.split(pattern = '\\n\\d+\\s+', string = src_str)\n",
    "src_list[0] = re.sub(pattern='\\d\\s+', repl='', string= src_list[0])\n",
    "src = pd.Series(src_list, name = 'it')"
   ]
  },
  {
   "cell_type": "code",
   "execution_count": 31,
   "metadata": {
    "hidden": true,
    "scrolled": true
   },
   "outputs": [
    {
     "data": {
      "text/plain": [
       "'0 encogido\\n1 finalización\\n2 áspera\\n3 me di cuenta\\n4 crucigramas\\n5 en vez\\n6 cargada\\n7 lincastro\\n8 celebrada\\nun 9\\n10 loco\\n11 fueron a la cama\\n12 cómics\\n13 chamuscados\\n14 sobrevivientes\\n15 agotado\\n16 Por tanto,\\n17 aplastados\\n18 fe\\n19 de hecho\\n20 ovejas\\n21 porra\\n22 de la tabla\\n23 perjudicados\\n24 incómoda\\notras 25\\n26 sacerdotes\\n27 de distancia\\n28 jóvenes\\n29 rehenes\\n30 elección\\n31 de impulso\\n32 cárcel\\n33 oscuro\\n34 respiración\\n35 Lagio\\n36 paso\\n37 Inn\\n38 bancos\\n39 magnífica\\n40 cabeceo\\n41 jengibre\\n42 rebanada\\n43 estaban pagando\\n44 vajilla\\n45 asumen\\n46 labios\\nGypsy 47\\n48 brillado\\n49 Sin embargo,\\n50 similitud\\n51 saccingeva\\n52 rubia\\n53 ricos\\n54 luto\\n55 suntuosa saffrettò\\n56 dudas\\n57 estirada\\n58 ladrón\\n59 despojados\\n60 chica\\n61 leñador\\n62 Lasso\\n63 bocados inactivó\\n64 disfrutan\\n65 tierna\\n66 Dovizioso\\n67 boda\\n68 monello\\n69 traqueteo\\n70 cuchillas\\n71 de horror\\n72 bruja'"
      ]
     },
     "execution_count": 31,
     "metadata": {},
     "output_type": "execute_result"
    }
   ],
   "source": [
    "dest_str = translator.translate(src_str, src='it', dest='es').text\n",
    "dest_str"
   ]
  },
  {
   "cell_type": "markdown",
   "metadata": {
    "hidden": true
   },
   "source": [
    "## Split whole list by mathing pattern '\\n\\d+'"
   ]
  },
  {
   "cell_type": "code",
   "execution_count": 32,
   "metadata": {
    "cell_style": "split",
    "hidden": true,
    "scrolled": true
   },
   "outputs": [
    {
     "data": {
      "text/plain": [
       "0                encogido\n",
       "1            finalización\n",
       "2                  áspera\n",
       "3            me di cuenta\n",
       "4             crucigramas\n",
       "5                  en vez\n",
       "6                 cargada\n",
       "7               lincastro\n",
       "8         celebrada\\nun 9\n",
       "9                    loco\n",
       "10       fueron a la cama\n",
       "11                 cómics\n",
       "12            chamuscados\n",
       "13         sobrevivientes\n",
       "14                agotado\n",
       "15             Por tanto,\n",
       "16             aplastados\n",
       "17                     fe\n",
       "18               de hecho\n",
       "19                 ovejas\n",
       "20                  porra\n",
       "21            de la tabla\n",
       "22           perjudicados\n",
       "23     incómoda\\notras 25\n",
       "24             sacerdotes\n",
       "25           de distancia\n",
       "26                jóvenes\n",
       "27                rehenes\n",
       "28               elección\n",
       "29             de impulso\n",
       "             ...         \n",
       "40               rebanada\n",
       "41        estaban pagando\n",
       "42                vajilla\n",
       "43                 asumen\n",
       "44       labios\\nGypsy 47\n",
       "45               brillado\n",
       "46           Sin embargo,\n",
       "47              similitud\n",
       "48             saccingeva\n",
       "49                  rubia\n",
       "50                  ricos\n",
       "51                   luto\n",
       "52     suntuosa saffrettò\n",
       "53                  dudas\n",
       "54               estirada\n",
       "55                 ladrón\n",
       "56             despojados\n",
       "57                  chica\n",
       "58                leñador\n",
       "59                  Lasso\n",
       "60       bocados inactivó\n",
       "61              disfrutan\n",
       "62                 tierna\n",
       "63              Dovizioso\n",
       "64                   boda\n",
       "65                monello\n",
       "66              traqueteo\n",
       "67              cuchillas\n",
       "68              de horror\n",
       "69                  bruja\n",
       "Name: es, Length: 70, dtype: object"
      ]
     },
     "execution_count": 32,
     "metadata": {},
     "output_type": "execute_result"
    }
   ],
   "source": [
    "dest_list = re.split(pattern = '\\n\\d+', string = dest_str)\n",
    "dest_list[0] = dest_list[0][2:]\n",
    "dest = pd.Series(dest_list, name = 'es')\n",
    "dest"
   ]
  },
  {
   "cell_type": "code",
   "execution_count": 33,
   "metadata": {
    "cell_style": "split",
    "hidden": true
   },
   "outputs": [
    {
     "data": {
      "text/plain": [
       "' labios\\nGypsy 47'"
      ]
     },
     "execution_count": 33,
     "metadata": {},
     "output_type": "execute_result"
    }
   ],
   "source": [
    "dest[44]"
   ]
  },
  {
   "cell_type": "markdown",
   "metadata": {
    "hidden": true
   },
   "source": [
    "##### Some retrieved translation do not follow this pattern: loop over them"
   ]
  },
  {
   "cell_type": "code",
   "execution_count": 34,
   "metadata": {
    "cell_style": "center",
    "code_folding": [],
    "hidden": true,
    "scrolled": true
   },
   "outputs": [
    {
     "name": "stdout",
     "output_type": "stream",
     "text": [
      " celebrada un 9 8\n",
      " incómoda otras  24\n",
      " labios Gypsy  46\n"
     ]
    },
    {
     "data": {
      "text/plain": [
       "0                encogido\n",
       "1            finalización\n",
       "2                  áspera\n",
       "3            me di cuenta\n",
       "4             crucigramas\n",
       "5                  en vez\n",
       "6                 cargada\n",
       "7               lincastro\n",
       "8               celebrada\n",
       "9                    un 9\n",
       "10                   loco\n",
       "11       fueron a la cama\n",
       "12                 cómics\n",
       "13            chamuscados\n",
       "14         sobrevivientes\n",
       "15                agotado\n",
       "16             Por tanto,\n",
       "17             aplastados\n",
       "18                     fe\n",
       "19               de hecho\n",
       "20                 ovejas\n",
       "21                  porra\n",
       "22            de la tabla\n",
       "23           perjudicados\n",
       "24               incómoda\n",
       "25                 otras \n",
       "26             sacerdotes\n",
       "27           de distancia\n",
       "28                jóvenes\n",
       "29                rehenes\n",
       "             ...         \n",
       "43        estaban pagando\n",
       "44                vajilla\n",
       "45                 asumen\n",
       "46                 labios\n",
       "47                 Gypsy \n",
       "48               brillado\n",
       "49           Sin embargo,\n",
       "50              similitud\n",
       "51             saccingeva\n",
       "52                  rubia\n",
       "53                  ricos\n",
       "54                   luto\n",
       "55     suntuosa saffrettò\n",
       "56                  dudas\n",
       "57               estirada\n",
       "58                 ladrón\n",
       "59             despojados\n",
       "60                  chica\n",
       "61                leñador\n",
       "62                  Lasso\n",
       "63       bocados inactivó\n",
       "64              disfrutan\n",
       "65                 tierna\n",
       "66              Dovizioso\n",
       "67                   boda\n",
       "68                monello\n",
       "69              traqueteo\n",
       "70              cuchillas\n",
       "71              de horror\n",
       "72                  bruja\n",
       "Name: es, Length: 73, dtype: object"
      ]
     },
     "execution_count": 34,
     "metadata": {},
     "output_type": "execute_result"
    }
   ],
   "source": [
    "for i, w in enumerate(dest_list):\n",
    "    if('\\n' in w):\n",
    "        subsplit = re.split(pattern = '\\n', string = w)\n",
    "        subsplit[1] = re.split('\\w\\d', subsplit[1])[0]\n",
    "        dest_list[i] = subsplit[0]\n",
    "        dest_list.insert(i+1, subsplit[1])\n",
    "        print(subsplit[0], subsplit[1], i)\n",
    "dest = pd.Series(dest_list, name = 'es')\n",
    "dest"
   ]
  },
  {
   "cell_type": "markdown",
   "metadata": {
    "hidden": true
   },
   "source": [
    "## Append both columns in dictionary df"
   ]
  },
  {
   "cell_type": "code",
   "execution_count": 250,
   "metadata": {
    "hidden": true,
    "scrolled": true
   },
   "outputs": [
    {
     "data": {
      "text/html": [
       "<div>\n",
       "<style scoped>\n",
       "    .dataframe tbody tr th:only-of-type {\n",
       "        vertical-align: middle;\n",
       "    }\n",
       "\n",
       "    .dataframe tbody tr th {\n",
       "        vertical-align: top;\n",
       "    }\n",
       "\n",
       "    .dataframe thead th {\n",
       "        text-align: right;\n",
       "    }\n",
       "</style>\n",
       "<table border=\"1\" class=\"dataframe\">\n",
       "  <thead>\n",
       "    <tr style=\"text-align: right;\">\n",
       "      <th></th>\n",
       "      <th>it</th>\n",
       "      <th>es</th>\n",
       "      <th>creation_time</th>\n",
       "    </tr>\n",
       "  </thead>\n",
       "  <tbody>\n",
       "    <tr>\n",
       "      <th>0</th>\n",
       "      <td>rimpicciolita</td>\n",
       "      <td>encogido</td>\n",
       "      <td>2019-12-30 18:52:19.333246</td>\n",
       "    </tr>\n",
       "    <tr>\n",
       "      <th>1</th>\n",
       "      <td>compiutezza</td>\n",
       "      <td>finalización</td>\n",
       "      <td>2019-12-30 18:52:19.333246</td>\n",
       "    </tr>\n",
       "    <tr>\n",
       "      <th>2</th>\n",
       "      <td>rozzo</td>\n",
       "      <td>áspera</td>\n",
       "      <td>2019-12-30 18:52:19.333246</td>\n",
       "    </tr>\n",
       "    <tr>\n",
       "      <th>3</th>\n",
       "      <td>mi resi conto</td>\n",
       "      <td>me di cuenta</td>\n",
       "      <td>2019-12-30 18:52:19.333246</td>\n",
       "    </tr>\n",
       "    <tr>\n",
       "      <th>4</th>\n",
       "      <td>cruciverba</td>\n",
       "      <td>crucigramas</td>\n",
       "      <td>2019-12-30 18:52:19.333246</td>\n",
       "    </tr>\n",
       "    <tr>\n",
       "      <th>5</th>\n",
       "      <td>anziché</td>\n",
       "      <td>en vez</td>\n",
       "      <td>2019-12-30 18:52:19.333246</td>\n",
       "    </tr>\n",
       "    <tr>\n",
       "      <th>6</th>\n",
       "      <td>riscosse</td>\n",
       "      <td>cargada</td>\n",
       "      <td>2019-12-30 18:52:19.333246</td>\n",
       "    </tr>\n",
       "    <tr>\n",
       "      <th>7</th>\n",
       "      <td>lincastro</td>\n",
       "      <td>lincastro</td>\n",
       "      <td>2019-12-30 18:52:19.333246</td>\n",
       "    </tr>\n",
       "    <tr>\n",
       "      <th>8</th>\n",
       "      <td>tenuta</td>\n",
       "      <td>celebrada</td>\n",
       "      <td>2019-12-30 18:52:19.333246</td>\n",
       "    </tr>\n",
       "    <tr>\n",
       "      <th>9</th>\n",
       "      <td>giù</td>\n",
       "      <td>un 9</td>\n",
       "      <td>2019-12-30 18:52:19.333246</td>\n",
       "    </tr>\n",
       "    <tr>\n",
       "      <th>10</th>\n",
       "      <td>matto</td>\n",
       "      <td>loco</td>\n",
       "      <td>2019-12-30 18:52:19.333246</td>\n",
       "    </tr>\n",
       "    <tr>\n",
       "      <th>11</th>\n",
       "      <td>coricavo</td>\n",
       "      <td>fueron a la cama</td>\n",
       "      <td>2019-12-30 18:52:19.333246</td>\n",
       "    </tr>\n",
       "    <tr>\n",
       "      <th>12</th>\n",
       "      <td>fumetti</td>\n",
       "      <td>cómics</td>\n",
       "      <td>2019-12-30 18:52:19.333246</td>\n",
       "    </tr>\n",
       "    <tr>\n",
       "      <th>13</th>\n",
       "      <td>bruciacchiato</td>\n",
       "      <td>chamuscados</td>\n",
       "      <td>2019-12-30 18:52:19.333246</td>\n",
       "    </tr>\n",
       "    <tr>\n",
       "      <th>14</th>\n",
       "      <td>sopravvissuti</td>\n",
       "      <td>sobrevivientes</td>\n",
       "      <td>2019-12-30 18:52:19.333246</td>\n",
       "    </tr>\n",
       "    <tr>\n",
       "      <th>15</th>\n",
       "      <td>esaurito</td>\n",
       "      <td>agotado</td>\n",
       "      <td>2019-12-30 18:52:19.333246</td>\n",
       "    </tr>\n",
       "    <tr>\n",
       "      <th>16</th>\n",
       "      <td>Perciò</td>\n",
       "      <td>Por tanto,</td>\n",
       "      <td>2019-12-30 18:52:19.333246</td>\n",
       "    </tr>\n",
       "    <tr>\n",
       "      <th>17</th>\n",
       "      <td>schiacciato</td>\n",
       "      <td>aplastados</td>\n",
       "      <td>2019-12-30 18:52:19.333246</td>\n",
       "    </tr>\n",
       "    <tr>\n",
       "      <th>18</th>\n",
       "      <td>fede</td>\n",
       "      <td>fe</td>\n",
       "      <td>2019-12-30 18:52:19.333246</td>\n",
       "    </tr>\n",
       "    <tr>\n",
       "      <th>19</th>\n",
       "      <td>anzi</td>\n",
       "      <td>de hecho</td>\n",
       "      <td>2019-12-30 18:52:19.333246</td>\n",
       "    </tr>\n",
       "    <tr>\n",
       "      <th>20</th>\n",
       "      <td>pecora</td>\n",
       "      <td>ovejas</td>\n",
       "      <td>2019-12-30 18:52:19.333246</td>\n",
       "    </tr>\n",
       "    <tr>\n",
       "      <th>21</th>\n",
       "      <td>manganello</td>\n",
       "      <td>porra</td>\n",
       "      <td>2019-12-30 18:52:19.333246</td>\n",
       "    </tr>\n",
       "    <tr>\n",
       "      <th>22</th>\n",
       "      <td>balilla</td>\n",
       "      <td>de la tabla</td>\n",
       "      <td>2019-12-30 18:52:19.333246</td>\n",
       "    </tr>\n",
       "    <tr>\n",
       "      <th>23</th>\n",
       "      <td>nuociuto</td>\n",
       "      <td>perjudicados</td>\n",
       "      <td>2019-12-30 18:52:19.333246</td>\n",
       "    </tr>\n",
       "    <tr>\n",
       "      <th>24</th>\n",
       "      <td>disagio</td>\n",
       "      <td>incómoda</td>\n",
       "      <td>2019-12-30 18:52:19.333246</td>\n",
       "    </tr>\n",
       "    <tr>\n",
       "      <th>25</th>\n",
       "      <td>altrui</td>\n",
       "      <td>otras</td>\n",
       "      <td>2019-12-30 18:52:19.333246</td>\n",
       "    </tr>\n",
       "    <tr>\n",
       "      <th>26</th>\n",
       "      <td>preti</td>\n",
       "      <td>sacerdotes</td>\n",
       "      <td>2019-12-30 18:52:19.333246</td>\n",
       "    </tr>\n",
       "    <tr>\n",
       "      <th>27</th>\n",
       "      <td>lontano</td>\n",
       "      <td>de distancia</td>\n",
       "      <td>2019-12-30 18:52:19.333246</td>\n",
       "    </tr>\n",
       "    <tr>\n",
       "      <th>28</th>\n",
       "      <td>giovinezza</td>\n",
       "      <td>jóvenes</td>\n",
       "      <td>2019-12-30 18:52:19.333246</td>\n",
       "    </tr>\n",
       "    <tr>\n",
       "      <th>29</th>\n",
       "      <td>ostaggio</td>\n",
       "      <td>rehenes</td>\n",
       "      <td>2019-12-30 18:52:19.333246</td>\n",
       "    </tr>\n",
       "    <tr>\n",
       "      <th>...</th>\n",
       "      <td>...</td>\n",
       "      <td>...</td>\n",
       "      <td>...</td>\n",
       "    </tr>\n",
       "    <tr>\n",
       "      <th>43</th>\n",
       "      <td>versassero</td>\n",
       "      <td>estaban pagando</td>\n",
       "      <td>2019-12-30 18:52:19.333246</td>\n",
       "    </tr>\n",
       "    <tr>\n",
       "      <th>44</th>\n",
       "      <td>stoviglie</td>\n",
       "      <td>vajilla</td>\n",
       "      <td>2019-12-30 18:52:19.333246</td>\n",
       "    </tr>\n",
       "    <tr>\n",
       "      <th>45</th>\n",
       "      <td>supporre</td>\n",
       "      <td>asumen</td>\n",
       "      <td>2019-12-30 18:52:19.333246</td>\n",
       "    </tr>\n",
       "    <tr>\n",
       "      <th>46</th>\n",
       "      <td>labbra</td>\n",
       "      <td>labios</td>\n",
       "      <td>2019-12-30 18:52:19.333246</td>\n",
       "    </tr>\n",
       "    <tr>\n",
       "      <th>47</th>\n",
       "      <td>zingare</td>\n",
       "      <td>Gypsy</td>\n",
       "      <td>2019-12-30 18:52:19.333246</td>\n",
       "    </tr>\n",
       "    <tr>\n",
       "      <th>48</th>\n",
       "      <td>splendevano</td>\n",
       "      <td>brillado</td>\n",
       "      <td>2019-12-30 18:52:19.333246</td>\n",
       "    </tr>\n",
       "    <tr>\n",
       "      <th>49</th>\n",
       "      <td>Eppure</td>\n",
       "      <td>Sin embargo,</td>\n",
       "      <td>2019-12-30 18:52:19.333246</td>\n",
       "    </tr>\n",
       "    <tr>\n",
       "      <th>50</th>\n",
       "      <td>somiglianza</td>\n",
       "      <td>similitud</td>\n",
       "      <td>2019-12-30 18:52:19.333246</td>\n",
       "    </tr>\n",
       "    <tr>\n",
       "      <th>51</th>\n",
       "      <td>saccingeva</td>\n",
       "      <td>saccingeva</td>\n",
       "      <td>2019-12-30 18:52:19.333246</td>\n",
       "    </tr>\n",
       "    <tr>\n",
       "      <th>52</th>\n",
       "      <td>biondo</td>\n",
       "      <td>rubia</td>\n",
       "      <td>2019-12-30 18:52:19.333246</td>\n",
       "    </tr>\n",
       "    <tr>\n",
       "      <th>53</th>\n",
       "      <td>facoltosa</td>\n",
       "      <td>ricos</td>\n",
       "      <td>2019-12-30 18:52:19.333246</td>\n",
       "    </tr>\n",
       "    <tr>\n",
       "      <th>54</th>\n",
       "      <td>luttuosa</td>\n",
       "      <td>luto</td>\n",
       "      <td>2019-12-30 18:52:19.333246</td>\n",
       "    </tr>\n",
       "    <tr>\n",
       "      <th>55</th>\n",
       "      <td>sfarzose saffrettò</td>\n",
       "      <td>suntuosa saffrettò</td>\n",
       "      <td>2019-12-30 18:52:19.333246</td>\n",
       "    </tr>\n",
       "    <tr>\n",
       "      <th>56</th>\n",
       "      <td>dubbi</td>\n",
       "      <td>dudas</td>\n",
       "      <td>2019-12-30 18:52:19.333246</td>\n",
       "    </tr>\n",
       "    <tr>\n",
       "      <th>57</th>\n",
       "      <td>stendeva</td>\n",
       "      <td>estirada</td>\n",
       "      <td>2019-12-30 18:52:19.333246</td>\n",
       "    </tr>\n",
       "    <tr>\n",
       "      <th>58</th>\n",
       "      <td>brigante</td>\n",
       "      <td>ladrón</td>\n",
       "      <td>2019-12-30 18:52:19.333246</td>\n",
       "    </tr>\n",
       "    <tr>\n",
       "      <th>59</th>\n",
       "      <td>spogliato</td>\n",
       "      <td>despojados</td>\n",
       "      <td>2019-12-30 18:52:19.333246</td>\n",
       "    </tr>\n",
       "    <tr>\n",
       "      <th>60</th>\n",
       "      <td>fanciulla</td>\n",
       "      <td>chica</td>\n",
       "      <td>2019-12-30 18:52:19.333246</td>\n",
       "    </tr>\n",
       "    <tr>\n",
       "      <th>61</th>\n",
       "      <td>boscaiolo</td>\n",
       "      <td>leñador</td>\n",
       "      <td>2019-12-30 18:52:19.333246</td>\n",
       "    </tr>\n",
       "    <tr>\n",
       "      <th>62</th>\n",
       "      <td>lAsso</td>\n",
       "      <td>Lasso</td>\n",
       "      <td>2019-12-30 18:52:19.333246</td>\n",
       "    </tr>\n",
       "    <tr>\n",
       "      <th>63</th>\n",
       "      <td>dissetava bocconi</td>\n",
       "      <td>bocados inactivó</td>\n",
       "      <td>2019-12-30 18:52:19.333246</td>\n",
       "    </tr>\n",
       "    <tr>\n",
       "      <th>64</th>\n",
       "      <td>goderci</td>\n",
       "      <td>disfrutan</td>\n",
       "      <td>2019-12-30 18:52:19.333246</td>\n",
       "    </tr>\n",
       "    <tr>\n",
       "      <th>65</th>\n",
       "      <td>tenera</td>\n",
       "      <td>tierna</td>\n",
       "      <td>2019-12-30 18:52:19.333246</td>\n",
       "    </tr>\n",
       "    <tr>\n",
       "      <th>66</th>\n",
       "      <td>dovizioso</td>\n",
       "      <td>Dovizioso</td>\n",
       "      <td>2019-12-30 18:52:19.333246</td>\n",
       "    </tr>\n",
       "    <tr>\n",
       "      <th>67</th>\n",
       "      <td>nozze</td>\n",
       "      <td>boda</td>\n",
       "      <td>2019-12-30 18:52:19.333246</td>\n",
       "    </tr>\n",
       "    <tr>\n",
       "      <th>68</th>\n",
       "      <td>monello</td>\n",
       "      <td>monello</td>\n",
       "      <td>2019-12-30 18:52:19.333246</td>\n",
       "    </tr>\n",
       "    <tr>\n",
       "      <th>69</th>\n",
       "      <td>sferragliante</td>\n",
       "      <td>traqueteo</td>\n",
       "      <td>2019-12-30 18:52:19.333246</td>\n",
       "    </tr>\n",
       "    <tr>\n",
       "      <th>70</th>\n",
       "      <td>lame</td>\n",
       "      <td>cuchillas</td>\n",
       "      <td>2019-12-30 18:52:19.333246</td>\n",
       "    </tr>\n",
       "    <tr>\n",
       "      <th>71</th>\n",
       "      <td>raccapriccio</td>\n",
       "      <td>de horror</td>\n",
       "      <td>2019-12-30 18:52:19.333246</td>\n",
       "    </tr>\n",
       "    <tr>\n",
       "      <th>72</th>\n",
       "      <td>strega</td>\n",
       "      <td>bruja</td>\n",
       "      <td>2019-12-30 18:52:19.333246</td>\n",
       "    </tr>\n",
       "  </tbody>\n",
       "</table>\n",
       "<p>73 rows × 3 columns</p>\n",
       "</div>"
      ],
      "text/plain": [
       "                    it                   es              creation_time\n",
       "0        rimpicciolita             encogido 2019-12-30 18:52:19.333246\n",
       "1          compiutezza         finalización 2019-12-30 18:52:19.333246\n",
       "2                rozzo               áspera 2019-12-30 18:52:19.333246\n",
       "3        mi resi conto         me di cuenta 2019-12-30 18:52:19.333246\n",
       "4           cruciverba          crucigramas 2019-12-30 18:52:19.333246\n",
       "5              anziché               en vez 2019-12-30 18:52:19.333246\n",
       "6             riscosse              cargada 2019-12-30 18:52:19.333246\n",
       "7            lincastro            lincastro 2019-12-30 18:52:19.333246\n",
       "8               tenuta            celebrada 2019-12-30 18:52:19.333246\n",
       "9                  giù                 un 9 2019-12-30 18:52:19.333246\n",
       "10               matto                 loco 2019-12-30 18:52:19.333246\n",
       "11            coricavo     fueron a la cama 2019-12-30 18:52:19.333246\n",
       "12             fumetti               cómics 2019-12-30 18:52:19.333246\n",
       "13       bruciacchiato          chamuscados 2019-12-30 18:52:19.333246\n",
       "14       sopravvissuti       sobrevivientes 2019-12-30 18:52:19.333246\n",
       "15            esaurito              agotado 2019-12-30 18:52:19.333246\n",
       "16              Perciò           Por tanto, 2019-12-30 18:52:19.333246\n",
       "17         schiacciato           aplastados 2019-12-30 18:52:19.333246\n",
       "18                fede                   fe 2019-12-30 18:52:19.333246\n",
       "19                anzi             de hecho 2019-12-30 18:52:19.333246\n",
       "20              pecora               ovejas 2019-12-30 18:52:19.333246\n",
       "21          manganello                porra 2019-12-30 18:52:19.333246\n",
       "22             balilla          de la tabla 2019-12-30 18:52:19.333246\n",
       "23            nuociuto         perjudicados 2019-12-30 18:52:19.333246\n",
       "24             disagio             incómoda 2019-12-30 18:52:19.333246\n",
       "25              altrui               otras  2019-12-30 18:52:19.333246\n",
       "26               preti           sacerdotes 2019-12-30 18:52:19.333246\n",
       "27             lontano         de distancia 2019-12-30 18:52:19.333246\n",
       "28          giovinezza              jóvenes 2019-12-30 18:52:19.333246\n",
       "29            ostaggio              rehenes 2019-12-30 18:52:19.333246\n",
       "..                 ...                  ...                        ...\n",
       "43          versassero      estaban pagando 2019-12-30 18:52:19.333246\n",
       "44           stoviglie              vajilla 2019-12-30 18:52:19.333246\n",
       "45            supporre               asumen 2019-12-30 18:52:19.333246\n",
       "46              labbra               labios 2019-12-30 18:52:19.333246\n",
       "47             zingare               Gypsy  2019-12-30 18:52:19.333246\n",
       "48         splendevano             brillado 2019-12-30 18:52:19.333246\n",
       "49              Eppure         Sin embargo, 2019-12-30 18:52:19.333246\n",
       "50         somiglianza            similitud 2019-12-30 18:52:19.333246\n",
       "51          saccingeva           saccingeva 2019-12-30 18:52:19.333246\n",
       "52              biondo                rubia 2019-12-30 18:52:19.333246\n",
       "53           facoltosa                ricos 2019-12-30 18:52:19.333246\n",
       "54            luttuosa                 luto 2019-12-30 18:52:19.333246\n",
       "55  sfarzose saffrettò   suntuosa saffrettò 2019-12-30 18:52:19.333246\n",
       "56               dubbi                dudas 2019-12-30 18:52:19.333246\n",
       "57            stendeva             estirada 2019-12-30 18:52:19.333246\n",
       "58            brigante               ladrón 2019-12-30 18:52:19.333246\n",
       "59           spogliato           despojados 2019-12-30 18:52:19.333246\n",
       "60           fanciulla                chica 2019-12-30 18:52:19.333246\n",
       "61           boscaiolo              leñador 2019-12-30 18:52:19.333246\n",
       "62               lAsso                Lasso 2019-12-30 18:52:19.333246\n",
       "63   dissetava bocconi     bocados inactivó 2019-12-30 18:52:19.333246\n",
       "64             goderci            disfrutan 2019-12-30 18:52:19.333246\n",
       "65              tenera               tierna 2019-12-30 18:52:19.333246\n",
       "66           dovizioso            Dovizioso 2019-12-30 18:52:19.333246\n",
       "67               nozze                 boda 2019-12-30 18:52:19.333246\n",
       "68             monello              monello 2019-12-30 18:52:19.333246\n",
       "69       sferragliante            traqueteo 2019-12-30 18:52:19.333246\n",
       "70                lame            cuchillas 2019-12-30 18:52:19.333246\n",
       "71        raccapriccio            de horror 2019-12-30 18:52:19.333246\n",
       "72              strega                bruja 2019-12-30 18:52:19.333246\n",
       "\n",
       "[73 rows x 3 columns]"
      ]
     },
     "execution_count": 250,
     "metadata": {},
     "output_type": "execute_result"
    }
   ],
   "source": [
    "today = datetime.datetime.today()\n",
    "\n",
    "dicdf = pd.DataFrame([src, dest]).T\n",
    "\n",
    "dicdf.name = os.path.splitext(os.path.basename(cadera_path))[0]\n",
    "dicdf['creation_time'] = today\n",
    "dicdf"
   ]
  },
  {
   "cell_type": "markdown",
   "metadata": {
    "hidden": true
   },
   "source": [
    "## Write file with translated df"
   ]
  },
  {
   "cell_type": "code",
   "execution_count": 251,
   "metadata": {
    "hidden": true
   },
   "outputs": [
    {
     "name": "stdout",
     "output_type": "stream",
     "text": [
      "Created GOTA file /Users/pabloherrero/Documents/ManHatTan/GOTAs/Il castello dei destini incrociati - Notizbuch.got\n"
     ]
    }
   ],
   "source": [
    "# def write_cadera(krahtos : str, cadera : pd.DataFrame):\n",
    "\"\"\"Convert CADERA (full) basename into '.got' extension and flush dictdf df\"\"\"\n",
    "pathname = os.path.splitext(os.path.abspath(cadera_path))[0]\n",
    "path, filename = os.path.split(pathname)\n",
    "dirPath, _ = os.path.split(path)\n",
    "fpath = os.path.join(dirPath, 'GOTAs', filename+'.got')\n",
    "dicdf.to_csv(fpath)\n",
    "print('Created GOTA file %s' %fpath)"
   ]
  },
  {
   "cell_type": "markdown",
   "metadata": {
    "heading_collapsed": true,
    "hidden": true
   },
   "source": [
    "## Detect translation failures"
   ]
  },
  {
   "cell_type": "code",
   "execution_count": 12,
   "metadata": {
    "hidden": true
   },
   "outputs": [
    {
     "data": {
      "text/plain": [
       "('en', 1.0)"
      ]
     },
     "execution_count": 12,
     "metadata": {},
     "output_type": "execute_result"
    }
   ],
   "source": [
    "translator.detect(en[1]).lang, translator.detect(en[1]).confidence"
   ]
  },
  {
   "cell_type": "code",
   "execution_count": 13,
   "metadata": {
    "hidden": true
   },
   "outputs": [
    {
     "data": {
      "text/plain": [
       "(['de',\n",
       "  'de',\n",
       "  'de',\n",
       "  'de',\n",
       "  'de',\n",
       "  'de',\n",
       "  'de',\n",
       "  'de',\n",
       "  'en',\n",
       "  'de',\n",
       "  'de',\n",
       "  'de',\n",
       "  'de',\n",
       "  'de',\n",
       "  'de',\n",
       "  'de',\n",
       "  'de',\n",
       "  'de',\n",
       "  'de',\n",
       "  'de',\n",
       "  'dazh-CN',\n",
       "  'de',\n",
       "  'de',\n",
       "  'de',\n",
       "  'de',\n",
       "  'de',\n",
       "  'de',\n",
       "  'nl',\n",
       "  'de',\n",
       "  'nofi',\n",
       "  'en',\n",
       "  'de',\n",
       "  'de',\n",
       "  'af',\n",
       "  'de',\n",
       "  'de',\n",
       "  'de',\n",
       "  'de',\n",
       "  'de'],\n",
       " [1.0,\n",
       "  1.0,\n",
       "  1.0,\n",
       "  1.0,\n",
       "  1.0,\n",
       "  1.0,\n",
       "  1.0,\n",
       "  0.66926074,\n",
       "  0.69462645,\n",
       "  1.0,\n",
       "  0.963038,\n",
       "  1.0,\n",
       "  0.940574,\n",
       "  1.0,\n",
       "  1.0,\n",
       "  0.9830669,\n",
       "  1.0,\n",
       "  0.921875,\n",
       "  1.0,\n",
       "  1.0,\n",
       "  0.5,\n",
       "  0.87118214,\n",
       "  1.0,\n",
       "  1.0,\n",
       "  0.98828125,\n",
       "  1.0,\n",
       "  1.0,\n",
       "  0.33590734,\n",
       "  1.0,\n",
       "  0.53125,\n",
       "  0.73307294,\n",
       "  0.88235295,\n",
       "  1.0,\n",
       "  1.0,\n",
       "  1.0,\n",
       "  1.0,\n",
       "  1.0,\n",
       "  0.42490163,\n",
       "  1.0])"
      ]
     },
     "execution_count": 13,
     "metadata": {},
     "output_type": "execute_result"
    }
   ],
   "source": [
    "[translator.detect(w).lang for w in es], [translator.detect(w).confidence for w in es], "
   ]
  },
  {
   "cell_type": "markdown",
   "metadata": {
    "hidden": true
   },
   "source": [
    "##### In this case both translations were detected as failed, though only the first one, 'dauntlessly' was\n",
    "Thus, by checking with detect we're introducing an additional complication...\n",
    "\n",
    "We could relax this by trusting that the translation is reliable as long as it is in a different language than the original"
   ]
  },
  {
   "cell_type": "code",
   "execution_count": 212,
   "metadata": {
    "hidden": true
   },
   "outputs": [
    {
     "data": {
      "text/plain": [
       "array([0])"
      ]
     },
     "execution_count": 212,
     "metadata": {},
     "output_type": "execute_result"
    }
   ],
   "source": [
    "fails = np.where(translator.detect(w).lang == 'en' for w in es)[0]\n",
    "# src = [w.src for w in trans]\n",
    "fails"
   ]
  },
  {
   "cell_type": "markdown",
   "metadata": {
    "hidden": true
   },
   "source": [
    "### In this case, let's see what the details say"
   ]
  },
  {
   "cell_type": "code",
   "execution_count": 150,
   "metadata": {
    "cell_style": "split",
    "hidden": true
   },
   "outputs": [
    {
     "data": {
      "text/plain": [
       "{'translation': [['dauntlessly', 'dauntlessly', None, None, 0]],\n",
       " 'all-translations': None,\n",
       " 'original-language': 'en',\n",
       " 'possible-translations': [['dauntlessly',\n",
       "   None,\n",
       "   [['dauntlessly', 998, True, False],\n",
       "    ['sin desánimo', 1, True, False],\n",
       "    ['impávido', 0, True, False],\n",
       "    ['denodadamente', 0, True, False],\n",
       "    ['intrépidamente', 0, True, False]],\n",
       "   [[0, 11]],\n",
       "   'dauntlessly',\n",
       "   0,\n",
       "   1]],\n",
       " 'confidence': 1.0,\n",
       " 'possible-mistakes': None,\n",
       " 'language': [['en'], None, [1.0], ['en']],\n",
       " 'synonyms': [['adverbio',\n",
       "   [[['intrepidly', 'fearlessly'], '']],\n",
       "   'dauntlessly']],\n",
       " 'definitions': None,\n",
       " 'examples': None,\n",
       " 'see-also': None}"
      ]
     },
     "execution_count": 150,
     "metadata": {},
     "output_type": "execute_result"
    }
   ],
   "source": [
    "trans[fails[0]].extra_data"
   ]
  },
  {
   "cell_type": "code",
   "execution_count": 145,
   "metadata": {
    "cell_style": "split",
    "hidden": true
   },
   "outputs": [
    {
     "data": {
      "text/plain": [
       "[['adverbio', [[['intrepidly', 'fearlessly'], '']], 'dauntlessly']]"
      ]
     },
     "execution_count": 145,
     "metadata": {},
     "output_type": "execute_result"
    }
   ],
   "source": [
    "trans[fails[0]].extra_data['synonyms']"
   ]
  },
  {
   "cell_type": "markdown",
   "metadata": {
    "hidden": true
   },
   "source": [
    "### Get next option from possible translations"
   ]
  },
  {
   "cell_type": "code",
   "execution_count": 166,
   "metadata": {
    "cell_style": "split",
    "code_folding": [],
    "hidden": true
   },
   "outputs": [],
   "source": [
    "from copy import deepcopy\n",
    "\n",
    "def flatten_str_list(nested_list):\n",
    "    \"\"\"Flatten an arbitrarily nested list, without recursion (to avoid\n",
    "    stack overflows). Returns a new list, the original list is unchanged.\n",
    "    >> list(flatten_list([1, 2, 3, [4], [], [[[[[[[[[5]]]]]]]]]]))\n",
    "    [1, 2, 3, 4, 5]\n",
    "    >> list(flatten_list([[1, 2], 3]))\n",
    "    [1, 2, 3]\n",
    "    \"\"\"\n",
    "    nested_list = deepcopy(nested_list)\n",
    "    \n",
    "    while nested_list:\n",
    "        sublist = nested_list.pop(0)\n",
    "\n",
    "        if isinstance(sublist, list):\n",
    "            nested_list = sublist + nested_list\n",
    "        else:\n",
    "            if type(sublist) == str:\n",
    "                yield sublist"
   ]
  },
  {
   "cell_type": "code",
   "execution_count": 169,
   "metadata": {
    "cell_style": "split",
    "hidden": true
   },
   "outputs": [
    {
     "data": {
      "text/plain": [
       "['dauntlessly',\n",
       " 'dauntlessly',\n",
       " 'sin desánimo',\n",
       " 'impávido',\n",
       " 'denodadamente',\n",
       " 'intrépidamente',\n",
       " 'dauntlessly']"
      ]
     },
     "execution_count": 169,
     "metadata": {},
     "output_type": "execute_result"
    }
   ],
   "source": [
    "possibleTrans = trans[fails[0]].extra_data['possible-translations']\n",
    "possibleTrans = [w for w in flatten_list(possibleTrans)]\n",
    "possibleTrans"
   ]
  },
  {
   "cell_type": "code",
   "execution_count": 175,
   "metadata": {
    "cell_style": "split",
    "hidden": true
   },
   "outputs": [
    {
     "data": {
      "text/plain": [
       "'sin desánimo'"
      ]
     },
     "execution_count": 175,
     "metadata": {},
     "output_type": "execute_result"
    }
   ],
   "source": [
    "possibleTrans[np.where([translator.detect(w).lang != 'en' for w in possibleTrans])[0][0]]"
   ]
  },
  {
   "cell_type": "markdown",
   "metadata": {
    "heading_collapsed": true,
    "hidden": true
   },
   "source": [
    "## Auto-detect likely overall source language"
   ]
  },
  {
   "cell_type": "markdown",
   "metadata": {
    "hidden": true
   },
   "source": [
    "##### We will use the translated [es] Series for testing since it may contain translation failures"
   ]
  },
  {
   "cell_type": "code",
   "execution_count": 416,
   "metadata": {
    "hidden": true
   },
   "outputs": [],
   "source": [
    "lang = [translator.detect(w).lang for w in es]\n",
    "conf = [translator.detect(w).confidence for w in es]"
   ]
  },
  {
   "cell_type": "markdown",
   "metadata": {
    "hidden": true
   },
   "source": [
    "##### Arrange detected languages and confidence level in \"unbinned\" dataframe"
   ]
  },
  {
   "cell_type": "code",
   "execution_count": 417,
   "metadata": {
    "cell_style": "split",
    "hidden": true
   },
   "outputs": [
    {
     "data": {
      "text/html": [
       "<div>\n",
       "<style scoped>\n",
       "    .dataframe tbody tr th:only-of-type {\n",
       "        vertical-align: middle;\n",
       "    }\n",
       "\n",
       "    .dataframe tbody tr th {\n",
       "        vertical-align: top;\n",
       "    }\n",
       "\n",
       "    .dataframe thead th {\n",
       "        text-align: right;\n",
       "    }\n",
       "</style>\n",
       "<table border=\"1\" class=\"dataframe\">\n",
       "  <thead>\n",
       "    <tr style=\"text-align: right;\">\n",
       "      <th></th>\n",
       "      <th>0</th>\n",
       "      <th>1</th>\n",
       "      <th>2</th>\n",
       "      <th>3</th>\n",
       "      <th>4</th>\n",
       "      <th>5</th>\n",
       "      <th>6</th>\n",
       "      <th>7</th>\n",
       "      <th>8</th>\n",
       "      <th>9</th>\n",
       "      <th>...</th>\n",
       "      <th>64</th>\n",
       "      <th>65</th>\n",
       "      <th>66</th>\n",
       "      <th>67</th>\n",
       "      <th>68</th>\n",
       "      <th>69</th>\n",
       "      <th>70</th>\n",
       "      <th>71</th>\n",
       "      <th>72</th>\n",
       "      <th>73</th>\n",
       "    </tr>\n",
       "  </thead>\n",
       "  <tbody>\n",
       "    <tr>\n",
       "      <th>lang</th>\n",
       "      <td>es</td>\n",
       "      <td>es</td>\n",
       "      <td>laes</td>\n",
       "      <td>es</td>\n",
       "      <td>it</td>\n",
       "      <td>es</td>\n",
       "      <td>es</td>\n",
       "      <td>es</td>\n",
       "      <td>ptes</td>\n",
       "      <td>ites</td>\n",
       "      <td>...</td>\n",
       "      <td>espt</td>\n",
       "      <td>es</td>\n",
       "      <td>es</td>\n",
       "      <td>es</td>\n",
       "      <td>es</td>\n",
       "      <td>sv</td>\n",
       "      <td>es</td>\n",
       "      <td>gles</td>\n",
       "      <td>pt</td>\n",
       "      <td>ptes</td>\n",
       "    </tr>\n",
       "    <tr>\n",
       "      <th>conf</th>\n",
       "      <td>1</td>\n",
       "      <td>1</td>\n",
       "      <td>0.511719</td>\n",
       "      <td>1</td>\n",
       "      <td>0.609375</td>\n",
       "      <td>1</td>\n",
       "      <td>0.61344</td>\n",
       "      <td>1</td>\n",
       "      <td>0.509728</td>\n",
       "      <td>0.488281</td>\n",
       "      <td>...</td>\n",
       "      <td>0.621094</td>\n",
       "      <td>1</td>\n",
       "      <td>1</td>\n",
       "      <td>0.640625</td>\n",
       "      <td>1</td>\n",
       "      <td>0.356434</td>\n",
       "      <td>1</td>\n",
       "      <td>0.589844</td>\n",
       "      <td>0.75</td>\n",
       "      <td>0.509728</td>\n",
       "    </tr>\n",
       "  </tbody>\n",
       "</table>\n",
       "<p>2 rows × 74 columns</p>\n",
       "</div>"
      ],
      "text/plain": [
       "      0   1         2   3         4   5        6   7         8         9   \\\n",
       "lang  es  es      laes  es        it  es       es  es      ptes      ites   \n",
       "conf   1   1  0.511719   1  0.609375   1  0.61344   1  0.509728  0.488281   \n",
       "\n",
       "        ...           64  65  66        67  68        69  70        71    72  \\\n",
       "lang    ...         espt  es  es        es  es        sv  es      gles    pt   \n",
       "conf    ...     0.621094   1   1  0.640625   1  0.356434   1  0.589844  0.75   \n",
       "\n",
       "            73  \n",
       "lang      ptes  \n",
       "conf  0.509728  \n",
       "\n",
       "[2 rows x 74 columns]"
      ]
     },
     "execution_count": 417,
     "metadata": {},
     "output_type": "execute_result"
    }
   ],
   "source": [
    "dfLang = pd.DataFrame({'lang':lang, 'conf':conf})\n",
    "dfLang.T"
   ]
  },
  {
   "cell_type": "markdown",
   "metadata": {
    "hidden": true
   },
   "source": [
    "##### Group by languages, count occurrences and sum confidence (probabilities)"
   ]
  },
  {
   "cell_type": "code",
   "execution_count": 427,
   "metadata": {
    "cell_style": "split",
    "hidden": true
   },
   "outputs": [
    {
     "data": {
      "text/plain": [
       "{'es': 37,\n",
       " 'en': 13,\n",
       " 'pt': 3,\n",
       " 'it': 2,\n",
       " 'ro': 2,\n",
       " 'ites': 2,\n",
       " 'ptes': 2,\n",
       " 'laes': 1,\n",
       " 'lv': 1,\n",
       " 'esla': 1,\n",
       " 'id': 1,\n",
       " 'esgl': 1,\n",
       " 'espt': 1,\n",
       " 'sv': 1,\n",
       " 'gles': 1,\n",
       " 'sq': 1,\n",
       " 'esit': 1,\n",
       " 'tl': 1,\n",
       " 'ceb': 1,\n",
       " 'no': 1}"
      ]
     },
     "execution_count": 427,
     "metadata": {},
     "output_type": "execute_result"
    }
   ],
   "source": [
    "dictNorm = dfLang.lang.value_counts().to_dict()\n",
    "normFactor = sum(dictNorm.values())\n",
    "\n",
    "dictNorm"
   ]
  },
  {
   "cell_type": "code",
   "execution_count": 432,
   "metadata": {
    "cell_style": "split",
    "hidden": true
   },
   "outputs": [
    {
     "data": {
      "text/plain": [
       "{'ceb': 0.013513513513513514,\n",
       " 'en': 0.16151121472972974,\n",
       " 'es': 0.4588738939189189,\n",
       " 'esgl': 0.008039908108108108,\n",
       " 'esit': 0.007414029189189189,\n",
       " 'esla': 0.0071790540540540545,\n",
       " 'espt': 0.008393158783783784,\n",
       " 'gles': 0.007970861486486486,\n",
       " 'id': 0.004592483108108108,\n",
       " 'it': 0.011949667567567566,\n",
       " 'ites': 0.013196790540540541,\n",
       " 'laes': 0.006915118243243243,\n",
       " 'lv': 0.010522378378378378,\n",
       " 'no': 0.003000803243243243,\n",
       " 'pt': 0.037162162162162164,\n",
       " 'ptes': 0.013776423243243244,\n",
       " 'ro': 0.010700120945945947,\n",
       " 'sq': 0.01322135945945946,\n",
       " 'sv': 0.004816678783783784,\n",
       " 'tl': 0.00558629554054054}"
      ]
     },
     "execution_count": 432,
     "metadata": {},
     "output_type": "execute_result"
    }
   ],
   "source": [
    "a = dfLang.groupby('lang').sum().to_dict()['conf']\n",
    "dictWeights = {k: v / normFactor for k, v in a.items()}\n",
    "dictWeights"
   ]
  },
  {
   "cell_type": "markdown",
   "metadata": {
    "hidden": true
   },
   "source": [
    "##### The probability for each language results from summing over all occurrences the product of two factors:\n",
    "                - Occurrences_language / sum(occurrences_languages)\n",
    "                - confidence_occurrence \"\"\"\n",
    "\n",
    "The interpretation is the following: the more times a language appears as detected, the more likely the whole set was in that language. This probability is weighted by the confidence each detection carries with it.\n",
    "\n",
    "```Ret``` is a dictionary with each detected language and its final weighted probability \n",
    "\n",
    "Since, for computing purposes, we are summing over the probabilities"
   ]
  },
  {
   "cell_type": "code",
   "execution_count": 415,
   "metadata": {
    "hidden": true
   },
   "outputs": [
    {
     "data": {
      "text/plain": [
       "{'en': 0.8674614738037154,\n",
       " 'es': 0.00017079306624132108,\n",
       " 'hu': 8.761982923625447e-05,\n",
       " 'la': 0.00018765246762994934}"
      ]
     },
     "execution_count": 415,
     "metadata": {},
     "output_type": "execute_result"
    }
   ],
   "source": [
    "ret = dict()\n",
    "normFactor = sum(dictNorm.values())\n",
    "for key, language in dictWeights.items():\n",
    "    ret[key] = language*dictNorm.get(key, 1) / normFactor\n",
    "    \n",
    "maximum = max(ret, key=ret.get)\n",
    "ret"
   ]
  },
  {
   "cell_type": "markdown",
   "metadata": {
    "heading_collapsed": true,
    "hidden": true
   },
   "source": [
    "##### Return the language with maximum probability"
   ]
  },
  {
   "cell_type": "code",
   "execution_count": 357,
   "metadata": {
    "hidden": true
   },
   "outputs": [
    {
     "data": {
      "text/plain": [
       "('es', 0.84891670375)"
      ]
     },
     "execution_count": 357,
     "metadata": {},
     "output_type": "execute_result"
    }
   ],
   "source": [
    "maximum, ret[maximum]"
   ]
  },
  {
   "cell_type": "markdown",
   "metadata": {
    "heading_collapsed": true
   },
   "source": [
    "# Gather methods"
   ]
  },
  {
   "cell_type": "markdown",
   "metadata": {
    "hidden": true
   },
   "source": [
    "```RASHIB :\n",
    "        Raw Array of Sentences Highlighted In Book\n",
    "CADERA :\n",
    "        Color-Arranged Dataframe Extracted from RAshib\n",
    "GOTA:\n",
    "        GOogle-Translated Array ```"
   ]
  },
  {
   "cell_type": "code",
   "execution_count": 46,
   "metadata": {
    "code_folding": [
     9
    ],
    "hidden": true
   },
   "outputs": [],
   "source": [
    "class Translation:\n",
    "    from googletrans import Translator\n",
    "    def __init__(self, cadera : str, dest : str, src : str, color : str = 'blue') -> pd.Series :\n",
    "        \"\"\" Import source CADERA file and keep only column specified as 'color' \"\"\"\n",
    "        self.dfSrc = pd.read_csv(cadera, index_col=0)[color].dropna()\n",
    "        self.src : str = src\n",
    "        self.dest : str = dest\n",
    "        self.translator = Translator()\n",
    "        \n",
    "    def detect_src(self, N : int = 0):\n",
    "        \"\"\"Auto-detect languages in wordset given and arrange them by occurrences\n",
    "        Parameters:\n",
    "        N : int = 0\n",
    "            Number of words to sample from CADERA series. If left to 0, the whole Series is taken\"\"\"\n",
    "        \n",
    "        def compute_highest_scoring_language(dictNorm : dict, dictWeights : dict) -> dict:\n",
    "            \"\"\"Return highest scoring weighted language over the sample.\n",
    "            The probability for each language results from summing over all occurrences the product of two factors:\n",
    "                - Occurrences_language / sum(occurrences_languages)\n",
    "                - confidence_occurrence \"\"\"\n",
    "            ret = dict()\n",
    "            normFactor = sum(dictNorm.values())\n",
    "            for key, language in dictWeights.items():\n",
    "                ret[key] = language*dictNorm.get(key, 1) / normFactor\n",
    "            return ret\n",
    "        \n",
    "        if N != 0:\n",
    "            sample = self.dfSrc.sample(N)\n",
    "        else:\n",
    "            sample = self.dfSrc\n",
    "            \n",
    "        lang = [translator.detect(w).lang for w in sample]\n",
    "        conf = [translator.detect(w).confidence for w in sample]\n",
    "        dfLang = pd.DataFrame({'lang':lang, 'conf':conf})\n",
    "        \n",
    "        dictNorm = dfLang.lang.value_counts().to_dict()  # Dictionary with number of occurences per language\n",
    "        normFactor = sum(dictNorm.values())              # Total number of words in sample\n",
    "        \n",
    "        a = dfLang.groupby('lang').sum().to_dict()['conf']\n",
    "        dictWeights = {k: v / normFactor for k, v in a.items()}   # Weights per language, averaged by occurrences\n",
    "        \n",
    "        ret = compute_highest_scoring_language(dictNorm, dictWeights)\n",
    "        maximum = max(ret, key=ret.get)\n",
    "        self.src = maximum\n",
    "        return maximum, ret[maximum]\n",
    "\n",
    "    \n",
    "    def main_translate(self) -> list:\n",
    "        \"\"\"Translate dfSrc from src to dest language\n",
    "        Returns list of translate objects\"\"\"\n",
    "        trans = [self.translator.translate(w, src=self.src, dest=self.dest) for w in self.dfSrc]\n",
    "        return trans\n",
    "    \n",
    "    def arrange_dicDf(self) -> pd.DataFrame:\n",
    "        trans = self.main_translate()\n",
    "        dfDest = pd.Series([w.text for w in trans])\n",
    "        dicDf = pd.DataFrame({self.src : self.dfSrc,  self.dest: dfDest})\n",
    "        dicDf.names = [self.src, self.dest]\n",
    "        return dicDf\n",
    "    \n",
    "    def detect_fails(self, meth : str = 'dest'):\n",
    "        \"\"\"Fails are interpreted as words that remained untranslated (if using default method 'src')\n",
    "        or simply if the detected language doesn't correspond to 'dest'  \"\"\"\n",
    "        \n",
    "        trans = self.main_translate()\n",
    "        if meth == 'src':\n",
    "            fails = np.where(translator.detect(w).lang == self.src for w in trans)[0]\n",
    "        elif meth == 'dest':\n",
    "            fails = np.where(translator.detect(w).lang != self.dest for w in trans)[0]\n",
    "        return fails\n",
    "    \n",
    "    def fix_fails(self, meth : str = 'src'):\n",
    "        \"\"\"For failed translations, look into extra_data attribute 'possible-translation', flatten the list \n",
    "        and take the first one in the correct language\"\"\"\n",
    "        from copy import deepcopy\n",
    "        def flatten_str_list(nested_list):\n",
    "            \"\"\"Flatten an arbitrarily nested list, without recursion (to avoid\n",
    "            stack overflows). Returns a new list, the original list is unchanged.\n",
    "            >> list(flatten_list([1, 2, 3, [4], [], [[[[[[[[[5]]]]]]]]]]))\n",
    "            [1, 2, 3, 4, 5]\n",
    "            >> list(flatten_list([[1, 2], 3]))\n",
    "            [1, 2, 3]\n",
    "            Note: additionally, only return type 'str' elements\n",
    "            \"\"\"\n",
    "            nested_list = deepcopy(nested_list)\n",
    "\n",
    "            while nested_list:\n",
    "                sublist = nested_list.pop(0)\n",
    "\n",
    "                if isinstance(sublist, list):\n",
    "                    nested_list = sublist + nested_list\n",
    "                else:\n",
    "                    if type(sublist) == str:\n",
    "                        yield sublist\n",
    "        \n",
    "        trans = self.main_translate()\n",
    "        fails = self.detect_fails(meth)\n",
    "        fixes = []\n",
    "        for f in fails:\n",
    "            messy_list = trans[f].extra_data['possible-translations']\n",
    "            possibleTrans = [w for w in flatten_str_list(messy_list)]\n",
    "            fixes.append(  possibleTrans[ np.where( [translator.detect(w).lang == self.dest for w in possibleTrans] ) [0][0]  ]  )\n",
    "        return fixes\n",
    "    x"
   ]
  },
  {
   "cell_type": "markdown",
   "metadata": {
    "heading_collapsed": true,
    "hidden": true
   },
   "source": [
    "##### Outlook\n",
    " - Check repeated words in first import\n",
    " - Fix failures using extra_data"
   ]
  },
  {
   "cell_type": "code",
   "execution_count": 43,
   "metadata": {
    "hidden": true
   },
   "outputs": [
    {
     "data": {
      "text/plain": [
       "'de'"
      ]
     },
     "execution_count": 43,
     "metadata": {},
     "output_type": "execute_result"
    }
   ],
   "source": [
    "tr = Translation(cadera_path, dest='en', src='de')\n",
    "tr.detect_src(N=4)\n",
    "tr.src"
   ]
  },
  {
   "cell_type": "code",
   "execution_count": 44,
   "metadata": {
    "hidden": true,
    "scrolled": true
   },
   "outputs": [
    {
     "name": "stderr",
     "output_type": "stream",
     "text": [
      "/Users/pabloherrero/anaconda3/envs/IC-3.7-2018-11-14/lib/python3.7/site-packages/ipykernel_launcher.py:58: UserWarning: Pandas doesn't allow columns to be created via a new attribute name - see https://pandas.pydata.org/pandas-docs/stable/indexing.html#attribute-access\n"
     ]
    },
    {
     "data": {
      "text/html": [
       "<div>\n",
       "<style scoped>\n",
       "    .dataframe tbody tr th:only-of-type {\n",
       "        vertical-align: middle;\n",
       "    }\n",
       "\n",
       "    .dataframe tbody tr th {\n",
       "        vertical-align: top;\n",
       "    }\n",
       "\n",
       "    .dataframe thead th {\n",
       "        text-align: right;\n",
       "    }\n",
       "</style>\n",
       "<table border=\"1\" class=\"dataframe\">\n",
       "  <thead>\n",
       "    <tr style=\"text-align: right;\">\n",
       "      <th></th>\n",
       "      <th>de</th>\n",
       "      <th>en</th>\n",
       "    </tr>\n",
       "  </thead>\n",
       "  <tbody>\n",
       "    <tr>\n",
       "      <th>0</th>\n",
       "      <td>schweigend stand siddhartha im senkrechten son...</td>\n",
       "      <td>silently stood siddhartha in the vertical sunb...</td>\n",
       "    </tr>\n",
       "    <tr>\n",
       "      <th>1</th>\n",
       "      <td>nicht einen augenblick habe ich an dir gezweif...</td>\n",
       "      <td>not an instant I doubted you. I do not have in...</td>\n",
       "    </tr>\n",
       "    <tr>\n",
       "      <th>2</th>\n",
       "      <td>beraubt hat mich der buddha, dachte siddhartha...</td>\n",
       "      <td>robbed me of buddha, siddhartha thought, he ro...</td>\n",
       "    </tr>\n",
       "    <tr>\n",
       "      <th>3</th>\n",
       "      <td>daß siddhartha mir so fremd und unbekannt gebl...</td>\n",
       "      <td>siddhartha that has stayed with me so strange ...</td>\n",
       "    </tr>\n",
       "    <tr>\n",
       "      <th>4</th>\n",
       "      <td>\"wenn einer eine schrift liest, deren sinn er ...</td>\n",
       "      <td>\"If a writer reads one whose sense he wants to...</td>\n",
       "    </tr>\n",
       "    <tr>\n",
       "      <th>5</th>\n",
       "      <td>aber nie hatte er dies selbst wirklich gefunde...</td>\n",
       "      <td>but he did this himself really never found bec...</td>\n",
       "    </tr>\n",
       "    <tr>\n",
       "      <th>6</th>\n",
       "      <td>struppiger bettler,</td>\n",
       "      <td>shaggy beggar,</td>\n",
       "    </tr>\n",
       "    <tr>\n",
       "      <th>7</th>\n",
       "      <td>griffel,</td>\n",
       "      <td>stylus,</td>\n",
       "    </tr>\n",
       "    <tr>\n",
       "      <th>8</th>\n",
       "      <td>laub</td>\n",
       "      <td>leaves</td>\n",
       "    </tr>\n",
       "    <tr>\n",
       "      <th>9</th>\n",
       "      <td>biegsam</td>\n",
       "      <td>flexible</td>\n",
       "    </tr>\n",
       "    <tr>\n",
       "      <th>10</th>\n",
       "      <td>müdgewordenen</td>\n",
       "      <td>müdgewordenen</td>\n",
       "    </tr>\n",
       "    <tr>\n",
       "      <th>11</th>\n",
       "      <td>wohlergehen</td>\n",
       "      <td>welfare</td>\n",
       "    </tr>\n",
       "    <tr>\n",
       "      <th>12</th>\n",
       "      <td>dienerschaft</td>\n",
       "      <td>servants</td>\n",
       "    </tr>\n",
       "    <tr>\n",
       "      <th>13</th>\n",
       "      <td>predigt</td>\n",
       "      <td>sermon</td>\n",
       "    </tr>\n",
       "    <tr>\n",
       "      <th>14</th>\n",
       "      <td>allmählich</td>\n",
       "      <td>gradually</td>\n",
       "    </tr>\n",
       "    <tr>\n",
       "      <th>15</th>\n",
       "      <td>töpfers</td>\n",
       "      <td>potter</td>\n",
       "    </tr>\n",
       "    <tr>\n",
       "      <th>16</th>\n",
       "      <td>schläferte</td>\n",
       "      <td>lulled</td>\n",
       "    </tr>\n",
       "    <tr>\n",
       "      <th>17</th>\n",
       "      <td>stets</td>\n",
       "      <td>always</td>\n",
       "    </tr>\n",
       "    <tr>\n",
       "      <th>18</th>\n",
       "      <td>beneidete</td>\n",
       "      <td>envied</td>\n",
       "    </tr>\n",
       "    <tr>\n",
       "      <th>19</th>\n",
       "      <td>beizulegen vermochten</td>\n",
       "      <td>were able to settle</td>\n",
       "    </tr>\n",
       "    <tr>\n",
       "      <th>20</th>\n",
       "      <td>bange</td>\n",
       "      <td>anxious</td>\n",
       "    </tr>\n",
       "    <tr>\n",
       "      <th>21</th>\n",
       "      <td>kindertorheit</td>\n",
       "      <td>children folly</td>\n",
       "    </tr>\n",
       "    <tr>\n",
       "      <th>22</th>\n",
       "      <td>schleier</td>\n",
       "      <td>veil</td>\n",
       "    </tr>\n",
       "    <tr>\n",
       "      <th>23</th>\n",
       "      <td>säumen</td>\n",
       "      <td>line</td>\n",
       "    </tr>\n",
       "    <tr>\n",
       "      <th>24</th>\n",
       "      <td>ekel</td>\n",
       "      <td>disgust</td>\n",
       "    </tr>\n",
       "    <tr>\n",
       "      <th>25</th>\n",
       "      <td>begehrlichkeit</td>\n",
       "      <td>covetousness</td>\n",
       "    </tr>\n",
       "    <tr>\n",
       "      <th>26</th>\n",
       "      <td>törichteste</td>\n",
       "      <td>törichteste</td>\n",
       "    </tr>\n",
       "    <tr>\n",
       "      <th>27</th>\n",
       "      <td>tand</td>\n",
       "      <td>trinkets</td>\n",
       "    </tr>\n",
       "    <tr>\n",
       "      <th>28</th>\n",
       "      <td>schnödeste</td>\n",
       "      <td>contemptuous</td>\n",
       "    </tr>\n",
       "    <tr>\n",
       "      <th>29</th>\n",
       "      <td>sitte</td>\n",
       "      <td>custom</td>\n",
       "    </tr>\n",
       "    <tr>\n",
       "      <th>30</th>\n",
       "      <td>wut</td>\n",
       "      <td>fury</td>\n",
       "    </tr>\n",
       "    <tr>\n",
       "      <th>31</th>\n",
       "      <td>frech</td>\n",
       "      <td>naughty</td>\n",
       "    </tr>\n",
       "    <tr>\n",
       "      <th>32</th>\n",
       "      <td>verspielen und verschleudern</td>\n",
       "      <td>gamble and squander</td>\n",
       "    </tr>\n",
       "    <tr>\n",
       "      <th>33</th>\n",
       "      <td>elenden</td>\n",
       "      <td>wretched</td>\n",
       "    </tr>\n",
       "    <tr>\n",
       "      <th>34</th>\n",
       "      <td>verhöhnend</td>\n",
       "      <td>verhöhnend</td>\n",
       "    </tr>\n",
       "    <tr>\n",
       "      <th>35</th>\n",
       "      <td>gelassenheit</td>\n",
       "      <td>serenity</td>\n",
       "    </tr>\n",
       "    <tr>\n",
       "      <th>36</th>\n",
       "      <td>verbarg</td>\n",
       "      <td>hid</td>\n",
       "    </tr>\n",
       "    <tr>\n",
       "      <th>37</th>\n",
       "      <td>geseufzt</td>\n",
       "      <td>sigh</td>\n",
       "    </tr>\n",
       "    <tr>\n",
       "      <th>38</th>\n",
       "      <td>inbrunst</td>\n",
       "      <td>fervor</td>\n",
       "    </tr>\n",
       "  </tbody>\n",
       "</table>\n",
       "</div>"
      ],
      "text/plain": [
       "                                                   de  \\\n",
       "0   schweigend stand siddhartha im senkrechten son...   \n",
       "1   nicht einen augenblick habe ich an dir gezweif...   \n",
       "2   beraubt hat mich der buddha, dachte siddhartha...   \n",
       "3   daß siddhartha mir so fremd und unbekannt gebl...   \n",
       "4   \"wenn einer eine schrift liest, deren sinn er ...   \n",
       "5   aber nie hatte er dies selbst wirklich gefunde...   \n",
       "6                                 struppiger bettler,   \n",
       "7                                            griffel,   \n",
       "8                                                laub   \n",
       "9                                             biegsam   \n",
       "10                                      müdgewordenen   \n",
       "11                                        wohlergehen   \n",
       "12                                       dienerschaft   \n",
       "13                                            predigt   \n",
       "14                                         allmählich   \n",
       "15                                            töpfers   \n",
       "16                                         schläferte   \n",
       "17                                              stets   \n",
       "18                                          beneidete   \n",
       "19                              beizulegen vermochten   \n",
       "20                                              bange   \n",
       "21                                      kindertorheit   \n",
       "22                                           schleier   \n",
       "23                                             säumen   \n",
       "24                                               ekel   \n",
       "25                                     begehrlichkeit   \n",
       "26                                        törichteste   \n",
       "27                                               tand   \n",
       "28                                         schnödeste   \n",
       "29                                              sitte   \n",
       "30                                                wut   \n",
       "31                                              frech   \n",
       "32                       verspielen und verschleudern   \n",
       "33                                            elenden   \n",
       "34                                         verhöhnend   \n",
       "35                                       gelassenheit   \n",
       "36                                            verbarg   \n",
       "37                                           geseufzt   \n",
       "38                                           inbrunst   \n",
       "\n",
       "                                                   en  \n",
       "0   silently stood siddhartha in the vertical sunb...  \n",
       "1   not an instant I doubted you. I do not have in...  \n",
       "2   robbed me of buddha, siddhartha thought, he ro...  \n",
       "3   siddhartha that has stayed with me so strange ...  \n",
       "4   \"If a writer reads one whose sense he wants to...  \n",
       "5   but he did this himself really never found bec...  \n",
       "6                                      shaggy beggar,  \n",
       "7                                             stylus,  \n",
       "8                                              leaves  \n",
       "9                                            flexible  \n",
       "10                                      müdgewordenen  \n",
       "11                                            welfare  \n",
       "12                                           servants  \n",
       "13                                             sermon  \n",
       "14                                          gradually  \n",
       "15                                             potter  \n",
       "16                                             lulled  \n",
       "17                                             always  \n",
       "18                                             envied  \n",
       "19                                were able to settle  \n",
       "20                                            anxious  \n",
       "21                                     children folly  \n",
       "22                                               veil  \n",
       "23                                               line  \n",
       "24                                            disgust  \n",
       "25                                       covetousness  \n",
       "26                                        törichteste  \n",
       "27                                           trinkets  \n",
       "28                                       contemptuous  \n",
       "29                                             custom  \n",
       "30                                               fury  \n",
       "31                                            naughty  \n",
       "32                                gamble and squander  \n",
       "33                                           wretched  \n",
       "34                                         verhöhnend  \n",
       "35                                           serenity  \n",
       "36                                                hid  \n",
       "37                                               sigh  \n",
       "38                                             fervor  "
      ]
     },
     "execution_count": 44,
     "metadata": {},
     "output_type": "execute_result"
    }
   ],
   "source": [
    "tr.arrange_dicDf()"
   ]
  },
  {
   "cell_type": "code",
   "execution_count": 48,
   "metadata": {
    "hidden": true,
    "scrolled": true
   },
   "outputs": [
    {
     "ename": "JSONDecodeError",
     "evalue": "Expecting value: line 1 column 1 (char 0)",
     "output_type": "error",
     "traceback": [
      "\u001b[0;31m---------------------------------------------------------------------------\u001b[0m",
      "\u001b[0;31mJSONDecodeError\u001b[0m                           Traceback (most recent call last)",
      "\u001b[0;32m<ipython-input-48-8b0749910bda>\u001b[0m in \u001b[0;36m<module>\u001b[0;34m\u001b[0m\n\u001b[0;32m----> 1\u001b[0;31m \u001b[0mtr\u001b[0m\u001b[0;34m.\u001b[0m\u001b[0mdetect_fails\u001b[0m\u001b[0;34m(\u001b[0m\u001b[0;34m)\u001b[0m\u001b[0;34m\u001b[0m\u001b[0;34m\u001b[0m\u001b[0m\n\u001b[0m\u001b[1;32m      2\u001b[0m \u001b[0;31m#tr.fix_fails()\u001b[0m\u001b[0;34m\u001b[0m\u001b[0;34m\u001b[0m\u001b[0;34m\u001b[0m\u001b[0m\n",
      "\u001b[0;32m<ipython-input-42-189fdf581c68>\u001b[0m in \u001b[0;36mdetect_fails\u001b[0;34m(self, meth)\u001b[0m\n\u001b[1;32m     63\u001b[0m         or simply if the detected language doesn't correspond to 'dest'  \"\"\"\n\u001b[1;32m     64\u001b[0m \u001b[0;34m\u001b[0m\u001b[0m\n\u001b[0;32m---> 65\u001b[0;31m         \u001b[0mtrans\u001b[0m \u001b[0;34m=\u001b[0m \u001b[0mself\u001b[0m\u001b[0;34m.\u001b[0m\u001b[0mmain_translate\u001b[0m\u001b[0;34m(\u001b[0m\u001b[0;34m)\u001b[0m\u001b[0;34m\u001b[0m\u001b[0;34m\u001b[0m\u001b[0m\n\u001b[0m\u001b[1;32m     66\u001b[0m         \u001b[0;32mif\u001b[0m \u001b[0mmeth\u001b[0m \u001b[0;34m==\u001b[0m \u001b[0;34m'src'\u001b[0m\u001b[0;34m:\u001b[0m\u001b[0;34m\u001b[0m\u001b[0;34m\u001b[0m\u001b[0m\n\u001b[1;32m     67\u001b[0m             \u001b[0mfails\u001b[0m \u001b[0;34m=\u001b[0m \u001b[0mnp\u001b[0m\u001b[0;34m.\u001b[0m\u001b[0mwhere\u001b[0m\u001b[0;34m(\u001b[0m\u001b[0mtranslator\u001b[0m\u001b[0;34m.\u001b[0m\u001b[0mdetect\u001b[0m\u001b[0;34m(\u001b[0m\u001b[0mw\u001b[0m\u001b[0;34m)\u001b[0m\u001b[0;34m.\u001b[0m\u001b[0mlang\u001b[0m \u001b[0;34m==\u001b[0m \u001b[0mself\u001b[0m\u001b[0;34m.\u001b[0m\u001b[0msrc\u001b[0m \u001b[0;32mfor\u001b[0m \u001b[0mw\u001b[0m \u001b[0;32min\u001b[0m \u001b[0mtrans\u001b[0m\u001b[0;34m)\u001b[0m\u001b[0;34m[\u001b[0m\u001b[0;36m0\u001b[0m\u001b[0;34m]\u001b[0m\u001b[0;34m\u001b[0m\u001b[0;34m\u001b[0m\u001b[0m\n",
      "\u001b[0;32m<ipython-input-42-189fdf581c68>\u001b[0m in \u001b[0;36mmain_translate\u001b[0;34m(self)\u001b[0m\n\u001b[1;32m     49\u001b[0m         \"\"\"Translate dfSrc from src to dest language\n\u001b[1;32m     50\u001b[0m         Returns list of translate objects\"\"\"\n\u001b[0;32m---> 51\u001b[0;31m         \u001b[0mtrans\u001b[0m \u001b[0;34m=\u001b[0m \u001b[0;34m[\u001b[0m\u001b[0mself\u001b[0m\u001b[0;34m.\u001b[0m\u001b[0mtranslator\u001b[0m\u001b[0;34m.\u001b[0m\u001b[0mtranslate\u001b[0m\u001b[0;34m(\u001b[0m\u001b[0mw\u001b[0m\u001b[0;34m,\u001b[0m \u001b[0msrc\u001b[0m\u001b[0;34m=\u001b[0m\u001b[0mself\u001b[0m\u001b[0;34m.\u001b[0m\u001b[0msrc\u001b[0m\u001b[0;34m,\u001b[0m \u001b[0mdest\u001b[0m\u001b[0;34m=\u001b[0m\u001b[0mself\u001b[0m\u001b[0;34m.\u001b[0m\u001b[0mdest\u001b[0m\u001b[0;34m)\u001b[0m \u001b[0;32mfor\u001b[0m \u001b[0mw\u001b[0m \u001b[0;32min\u001b[0m \u001b[0mself\u001b[0m\u001b[0;34m.\u001b[0m\u001b[0mdfSrc\u001b[0m\u001b[0;34m]\u001b[0m\u001b[0;34m\u001b[0m\u001b[0;34m\u001b[0m\u001b[0m\n\u001b[0m\u001b[1;32m     52\u001b[0m         \u001b[0;32mreturn\u001b[0m \u001b[0mtrans\u001b[0m\u001b[0;34m\u001b[0m\u001b[0;34m\u001b[0m\u001b[0m\n\u001b[1;32m     53\u001b[0m \u001b[0;34m\u001b[0m\u001b[0m\n",
      "\u001b[0;32m<ipython-input-42-189fdf581c68>\u001b[0m in \u001b[0;36m<listcomp>\u001b[0;34m(.0)\u001b[0m\n\u001b[1;32m     49\u001b[0m         \"\"\"Translate dfSrc from src to dest language\n\u001b[1;32m     50\u001b[0m         Returns list of translate objects\"\"\"\n\u001b[0;32m---> 51\u001b[0;31m         \u001b[0mtrans\u001b[0m \u001b[0;34m=\u001b[0m \u001b[0;34m[\u001b[0m\u001b[0mself\u001b[0m\u001b[0;34m.\u001b[0m\u001b[0mtranslator\u001b[0m\u001b[0;34m.\u001b[0m\u001b[0mtranslate\u001b[0m\u001b[0;34m(\u001b[0m\u001b[0mw\u001b[0m\u001b[0;34m,\u001b[0m \u001b[0msrc\u001b[0m\u001b[0;34m=\u001b[0m\u001b[0mself\u001b[0m\u001b[0;34m.\u001b[0m\u001b[0msrc\u001b[0m\u001b[0;34m,\u001b[0m \u001b[0mdest\u001b[0m\u001b[0;34m=\u001b[0m\u001b[0mself\u001b[0m\u001b[0;34m.\u001b[0m\u001b[0mdest\u001b[0m\u001b[0;34m)\u001b[0m \u001b[0;32mfor\u001b[0m \u001b[0mw\u001b[0m \u001b[0;32min\u001b[0m \u001b[0mself\u001b[0m\u001b[0;34m.\u001b[0m\u001b[0mdfSrc\u001b[0m\u001b[0;34m]\u001b[0m\u001b[0;34m\u001b[0m\u001b[0;34m\u001b[0m\u001b[0m\n\u001b[0m\u001b[1;32m     52\u001b[0m         \u001b[0;32mreturn\u001b[0m \u001b[0mtrans\u001b[0m\u001b[0;34m\u001b[0m\u001b[0;34m\u001b[0m\u001b[0m\n\u001b[1;32m     53\u001b[0m \u001b[0;34m\u001b[0m\u001b[0m\n",
      "\u001b[0;32m~/anaconda3/envs/IC-3.7-2018-11-14/lib/python3.7/site-packages/googletrans/client.py\u001b[0m in \u001b[0;36mtranslate\u001b[0;34m(self, text, dest, src)\u001b[0m\n\u001b[1;32m    170\u001b[0m \u001b[0;34m\u001b[0m\u001b[0m\n\u001b[1;32m    171\u001b[0m         \u001b[0morigin\u001b[0m \u001b[0;34m=\u001b[0m \u001b[0mtext\u001b[0m\u001b[0;34m\u001b[0m\u001b[0;34m\u001b[0m\u001b[0m\n\u001b[0;32m--> 172\u001b[0;31m         \u001b[0mdata\u001b[0m \u001b[0;34m=\u001b[0m \u001b[0mself\u001b[0m\u001b[0;34m.\u001b[0m\u001b[0m_translate\u001b[0m\u001b[0;34m(\u001b[0m\u001b[0mtext\u001b[0m\u001b[0;34m,\u001b[0m \u001b[0mdest\u001b[0m\u001b[0;34m,\u001b[0m \u001b[0msrc\u001b[0m\u001b[0;34m)\u001b[0m\u001b[0;34m\u001b[0m\u001b[0;34m\u001b[0m\u001b[0m\n\u001b[0m\u001b[1;32m    173\u001b[0m \u001b[0;34m\u001b[0m\u001b[0m\n\u001b[1;32m    174\u001b[0m         \u001b[0;31m# this code will be updated when the format is changed.\u001b[0m\u001b[0;34m\u001b[0m\u001b[0;34m\u001b[0m\u001b[0;34m\u001b[0m\u001b[0m\n",
      "\u001b[0;32m~/anaconda3/envs/IC-3.7-2018-11-14/lib/python3.7/site-packages/googletrans/client.py\u001b[0m in \u001b[0;36m_translate\u001b[0;34m(self, text, dest, src)\u001b[0m\n\u001b[1;32m     79\u001b[0m         \u001b[0mr\u001b[0m \u001b[0;34m=\u001b[0m \u001b[0mself\u001b[0m\u001b[0;34m.\u001b[0m\u001b[0msession\u001b[0m\u001b[0;34m.\u001b[0m\u001b[0mget\u001b[0m\u001b[0;34m(\u001b[0m\u001b[0murl\u001b[0m\u001b[0;34m,\u001b[0m \u001b[0mparams\u001b[0m\u001b[0;34m=\u001b[0m\u001b[0mparams\u001b[0m\u001b[0;34m)\u001b[0m\u001b[0;34m\u001b[0m\u001b[0;34m\u001b[0m\u001b[0m\n\u001b[1;32m     80\u001b[0m \u001b[0;34m\u001b[0m\u001b[0m\n\u001b[0;32m---> 81\u001b[0;31m         \u001b[0mdata\u001b[0m \u001b[0;34m=\u001b[0m \u001b[0mutils\u001b[0m\u001b[0;34m.\u001b[0m\u001b[0mformat_json\u001b[0m\u001b[0;34m(\u001b[0m\u001b[0mr\u001b[0m\u001b[0;34m.\u001b[0m\u001b[0mtext\u001b[0m\u001b[0;34m)\u001b[0m\u001b[0;34m\u001b[0m\u001b[0;34m\u001b[0m\u001b[0m\n\u001b[0m\u001b[1;32m     82\u001b[0m         \u001b[0;32mreturn\u001b[0m \u001b[0mdata\u001b[0m\u001b[0;34m\u001b[0m\u001b[0;34m\u001b[0m\u001b[0m\n\u001b[1;32m     83\u001b[0m \u001b[0;34m\u001b[0m\u001b[0m\n",
      "\u001b[0;32m~/anaconda3/envs/IC-3.7-2018-11-14/lib/python3.7/site-packages/googletrans/utils.py\u001b[0m in \u001b[0;36mformat_json\u001b[0;34m(original)\u001b[0m\n\u001b[1;32m     60\u001b[0m         \u001b[0mconverted\u001b[0m \u001b[0;34m=\u001b[0m \u001b[0mjson\u001b[0m\u001b[0;34m.\u001b[0m\u001b[0mloads\u001b[0m\u001b[0;34m(\u001b[0m\u001b[0moriginal\u001b[0m\u001b[0;34m)\u001b[0m\u001b[0;34m\u001b[0m\u001b[0;34m\u001b[0m\u001b[0m\n\u001b[1;32m     61\u001b[0m     \u001b[0;32mexcept\u001b[0m \u001b[0mValueError\u001b[0m\u001b[0;34m:\u001b[0m\u001b[0;34m\u001b[0m\u001b[0;34m\u001b[0m\u001b[0m\n\u001b[0;32m---> 62\u001b[0;31m         \u001b[0mconverted\u001b[0m \u001b[0;34m=\u001b[0m \u001b[0mlegacy_format_json\u001b[0m\u001b[0;34m(\u001b[0m\u001b[0moriginal\u001b[0m\u001b[0;34m)\u001b[0m\u001b[0;34m\u001b[0m\u001b[0;34m\u001b[0m\u001b[0m\n\u001b[0m\u001b[1;32m     63\u001b[0m \u001b[0;34m\u001b[0m\u001b[0m\n\u001b[1;32m     64\u001b[0m     \u001b[0;32mreturn\u001b[0m \u001b[0mconverted\u001b[0m\u001b[0;34m\u001b[0m\u001b[0;34m\u001b[0m\u001b[0m\n",
      "\u001b[0;32m~/anaconda3/envs/IC-3.7-2018-11-14/lib/python3.7/site-packages/googletrans/utils.py\u001b[0m in \u001b[0;36mlegacy_format_json\u001b[0;34m(original)\u001b[0m\n\u001b[1;32m     52\u001b[0m             \u001b[0mtext\u001b[0m \u001b[0;34m=\u001b[0m \u001b[0mtext\u001b[0m\u001b[0;34m[\u001b[0m\u001b[0;34m:\u001b[0m\u001b[0mp\u001b[0m\u001b[0;34m]\u001b[0m \u001b[0;34m+\u001b[0m \u001b[0mstates\u001b[0m\u001b[0;34m[\u001b[0m\u001b[0mj\u001b[0m\u001b[0;34m]\u001b[0m\u001b[0;34m[\u001b[0m\u001b[0;36m1\u001b[0m\u001b[0;34m]\u001b[0m \u001b[0;34m+\u001b[0m \u001b[0mtext\u001b[0m\u001b[0;34m[\u001b[0m\u001b[0mnxt\u001b[0m\u001b[0;34m:\u001b[0m\u001b[0;34m]\u001b[0m\u001b[0;34m\u001b[0m\u001b[0;34m\u001b[0m\u001b[0m\n\u001b[1;32m     53\u001b[0m \u001b[0;34m\u001b[0m\u001b[0m\n\u001b[0;32m---> 54\u001b[0;31m     \u001b[0mconverted\u001b[0m \u001b[0;34m=\u001b[0m \u001b[0mjson\u001b[0m\u001b[0;34m.\u001b[0m\u001b[0mloads\u001b[0m\u001b[0;34m(\u001b[0m\u001b[0mtext\u001b[0m\u001b[0;34m)\u001b[0m\u001b[0;34m\u001b[0m\u001b[0;34m\u001b[0m\u001b[0m\n\u001b[0m\u001b[1;32m     55\u001b[0m     \u001b[0;32mreturn\u001b[0m \u001b[0mconverted\u001b[0m\u001b[0;34m\u001b[0m\u001b[0;34m\u001b[0m\u001b[0m\n\u001b[1;32m     56\u001b[0m \u001b[0;34m\u001b[0m\u001b[0m\n",
      "\u001b[0;32m~/anaconda3/envs/IC-3.7-2018-11-14/lib/python3.7/json/__init__.py\u001b[0m in \u001b[0;36mloads\u001b[0;34m(s, encoding, cls, object_hook, parse_float, parse_int, parse_constant, object_pairs_hook, **kw)\u001b[0m\n\u001b[1;32m    346\u001b[0m             \u001b[0mparse_int\u001b[0m \u001b[0;32mis\u001b[0m \u001b[0;32mNone\u001b[0m \u001b[0;32mand\u001b[0m \u001b[0mparse_float\u001b[0m \u001b[0;32mis\u001b[0m \u001b[0;32mNone\u001b[0m \u001b[0;32mand\u001b[0m\u001b[0;34m\u001b[0m\u001b[0;34m\u001b[0m\u001b[0m\n\u001b[1;32m    347\u001b[0m             parse_constant is None and object_pairs_hook is None and not kw):\n\u001b[0;32m--> 348\u001b[0;31m         \u001b[0;32mreturn\u001b[0m \u001b[0m_default_decoder\u001b[0m\u001b[0;34m.\u001b[0m\u001b[0mdecode\u001b[0m\u001b[0;34m(\u001b[0m\u001b[0ms\u001b[0m\u001b[0;34m)\u001b[0m\u001b[0;34m\u001b[0m\u001b[0;34m\u001b[0m\u001b[0m\n\u001b[0m\u001b[1;32m    349\u001b[0m     \u001b[0;32mif\u001b[0m \u001b[0mcls\u001b[0m \u001b[0;32mis\u001b[0m \u001b[0;32mNone\u001b[0m\u001b[0;34m:\u001b[0m\u001b[0;34m\u001b[0m\u001b[0;34m\u001b[0m\u001b[0m\n\u001b[1;32m    350\u001b[0m         \u001b[0mcls\u001b[0m \u001b[0;34m=\u001b[0m \u001b[0mJSONDecoder\u001b[0m\u001b[0;34m\u001b[0m\u001b[0;34m\u001b[0m\u001b[0m\n",
      "\u001b[0;32m~/anaconda3/envs/IC-3.7-2018-11-14/lib/python3.7/json/decoder.py\u001b[0m in \u001b[0;36mdecode\u001b[0;34m(self, s, _w)\u001b[0m\n\u001b[1;32m    335\u001b[0m \u001b[0;34m\u001b[0m\u001b[0m\n\u001b[1;32m    336\u001b[0m         \"\"\"\n\u001b[0;32m--> 337\u001b[0;31m         \u001b[0mobj\u001b[0m\u001b[0;34m,\u001b[0m \u001b[0mend\u001b[0m \u001b[0;34m=\u001b[0m \u001b[0mself\u001b[0m\u001b[0;34m.\u001b[0m\u001b[0mraw_decode\u001b[0m\u001b[0;34m(\u001b[0m\u001b[0ms\u001b[0m\u001b[0;34m,\u001b[0m \u001b[0midx\u001b[0m\u001b[0;34m=\u001b[0m\u001b[0m_w\u001b[0m\u001b[0;34m(\u001b[0m\u001b[0ms\u001b[0m\u001b[0;34m,\u001b[0m \u001b[0;36m0\u001b[0m\u001b[0;34m)\u001b[0m\u001b[0;34m.\u001b[0m\u001b[0mend\u001b[0m\u001b[0;34m(\u001b[0m\u001b[0;34m)\u001b[0m\u001b[0;34m)\u001b[0m\u001b[0;34m\u001b[0m\u001b[0;34m\u001b[0m\u001b[0m\n\u001b[0m\u001b[1;32m    338\u001b[0m         \u001b[0mend\u001b[0m \u001b[0;34m=\u001b[0m \u001b[0m_w\u001b[0m\u001b[0;34m(\u001b[0m\u001b[0ms\u001b[0m\u001b[0;34m,\u001b[0m \u001b[0mend\u001b[0m\u001b[0;34m)\u001b[0m\u001b[0;34m.\u001b[0m\u001b[0mend\u001b[0m\u001b[0;34m(\u001b[0m\u001b[0;34m)\u001b[0m\u001b[0;34m\u001b[0m\u001b[0;34m\u001b[0m\u001b[0m\n\u001b[1;32m    339\u001b[0m         \u001b[0;32mif\u001b[0m \u001b[0mend\u001b[0m \u001b[0;34m!=\u001b[0m \u001b[0mlen\u001b[0m\u001b[0;34m(\u001b[0m\u001b[0ms\u001b[0m\u001b[0;34m)\u001b[0m\u001b[0;34m:\u001b[0m\u001b[0;34m\u001b[0m\u001b[0;34m\u001b[0m\u001b[0m\n",
      "\u001b[0;32m~/anaconda3/envs/IC-3.7-2018-11-14/lib/python3.7/json/decoder.py\u001b[0m in \u001b[0;36mraw_decode\u001b[0;34m(self, s, idx)\u001b[0m\n\u001b[1;32m    353\u001b[0m             \u001b[0mobj\u001b[0m\u001b[0;34m,\u001b[0m \u001b[0mend\u001b[0m \u001b[0;34m=\u001b[0m \u001b[0mself\u001b[0m\u001b[0;34m.\u001b[0m\u001b[0mscan_once\u001b[0m\u001b[0;34m(\u001b[0m\u001b[0ms\u001b[0m\u001b[0;34m,\u001b[0m \u001b[0midx\u001b[0m\u001b[0;34m)\u001b[0m\u001b[0;34m\u001b[0m\u001b[0;34m\u001b[0m\u001b[0m\n\u001b[1;32m    354\u001b[0m         \u001b[0;32mexcept\u001b[0m \u001b[0mStopIteration\u001b[0m \u001b[0;32mas\u001b[0m \u001b[0merr\u001b[0m\u001b[0;34m:\u001b[0m\u001b[0;34m\u001b[0m\u001b[0;34m\u001b[0m\u001b[0m\n\u001b[0;32m--> 355\u001b[0;31m             \u001b[0;32mraise\u001b[0m \u001b[0mJSONDecodeError\u001b[0m\u001b[0;34m(\u001b[0m\u001b[0;34m\"Expecting value\"\u001b[0m\u001b[0;34m,\u001b[0m \u001b[0ms\u001b[0m\u001b[0;34m,\u001b[0m \u001b[0merr\u001b[0m\u001b[0;34m.\u001b[0m\u001b[0mvalue\u001b[0m\u001b[0;34m)\u001b[0m \u001b[0;32mfrom\u001b[0m \u001b[0;32mNone\u001b[0m\u001b[0;34m\u001b[0m\u001b[0;34m\u001b[0m\u001b[0m\n\u001b[0m\u001b[1;32m    356\u001b[0m         \u001b[0;32mreturn\u001b[0m \u001b[0mobj\u001b[0m\u001b[0;34m,\u001b[0m \u001b[0mend\u001b[0m\u001b[0;34m\u001b[0m\u001b[0;34m\u001b[0m\u001b[0m\n",
      "\u001b[0;31mJSONDecodeError\u001b[0m: Expecting value: line 1 column 1 (char 0)"
     ]
    }
   ],
   "source": [
    "tr.detect_fails()\n",
    "#tr.fix_fails()"
   ]
  },
  {
   "cell_type": "markdown",
   "metadata": {
    "heading_collapsed": true
   },
   "source": [
    "# Debug for  'Die Verwandlung' "
   ]
  },
  {
   "cell_type": "code",
   "execution_count": 10,
   "metadata": {
    "hidden": true
   },
   "outputs": [],
   "source": [
    "cadera_path = '/Users/pabloherrero/Documents/ManHatTan/CADERAs/Die_Verwandlung.cder'\n",
    "df = pd.read_csv(cadera_path, index_col=0)\n",
    "src = df.blue.dropna()\n",
    "src_lang = 'de'\n",
    "dest_lang = 'en'"
   ]
  },
  {
   "cell_type": "code",
   "execution_count": 105,
   "metadata": {
    "hidden": true,
    "scrolled": true
   },
   "outputs": [
    {
     "name": "stdout",
     "output_type": "stream",
     "text": [
      "Entry with more than 3 words detected:  Und trotz dieses Zustandes hatte er keine Scheu, ein Stück auf dem makellosen Fußboden des Wohnzimmers vorzurücken.\n",
      "Attempted translation of 104 entries. Check DB for mistranslations.\n"
     ]
    }
   ],
   "source": [
    "src = load_blue_words(cadera_path, src_lang)\n",
    "src = test_long_sentence(src)\n",
    "\n",
    "dest = bulk_translate(src, dest_lang)\n"
   ]
  },
  {
   "cell_type": "code",
   "execution_count": 109,
   "metadata": {
    "hidden": true,
    "scrolled": true
   },
   "outputs": [
    {
     "name": "stdout",
     "output_type": "stream",
     "text": [
      "Created GOTA file /Users/pabloherrero/Documents/ManHatTan/GOTAs/Die_Verwandlung.cder\n"
     ]
    }
   ],
   "source": [
    "\n",
    "dicDf = make_dicdf(src, dest, cadera_path)\n",
    "dicDf\n",
    "write_gota(cadera_path, dicDf)"
   ]
  },
  {
   "cell_type": "markdown",
   "metadata": {},
   "source": [
    "# Debug for  'Siddhartha' "
   ]
  },
  {
   "cell_type": "code",
   "execution_count": 15,
   "metadata": {},
   "outputs": [],
   "source": [
    "cadera_path = '/Users/pabloherrero/Documents/ManHatTan/CADERAs/Notizen aus _Siddhartha_ eine indische Dichtung (German Edition)_.cder'\n",
    "df = pd.read_csv(cadera_path, index_col=0)\n",
    "src = df.blue.dropna()\n",
    "src_lang = 'de'\n",
    "dest_lang = 'en'"
   ]
  },
  {
   "cell_type": "code",
   "execution_count": 17,
   "metadata": {
    "scrolled": true
   },
   "outputs": [
    {
     "name": "stdout",
     "output_type": "stream",
     "text": [
      "Entry with more than 3 words detected:  schweigend stand siddhartha im senkrechten son\n",
      "Entry with more than 3 words detected:  nicht einen augenblick habe ich an dir gezweif\n",
      "Entry with more than 3 words detected:  beraubt hat mich der buddha dachte siddhartha\n",
      "Entry with more than 3 words detected:  daß siddhartha mir so fremd und unbekannt gebl\n",
      "Entry with more than 3 words detected:  wenn einer eine schrift liest deren sinn er \n",
      "Entry with more than 3 words detected:  aber nie hatte er dies selbst wirklich gefunde\n"
     ]
    },
    {
     "data": {
      "text/plain": [
       "0               struppiger bettler\n",
       "1                          griffel\n",
       "2                             laub\n",
       "3                          biegsam\n",
       "4                    müdgewordenen\n",
       "5                      wohlergehen\n",
       "6                     dienerschaft\n",
       "7                          predigt\n",
       "8                       allmählich\n",
       "9                          töpfers\n",
       "10                      schläferte\n",
       "11                           stets\n",
       "12                       beneidete\n",
       "13           beizulegen vermochten\n",
       "14                           bange\n",
       "15                   kindertorheit\n",
       "16                        schleier\n",
       "17                          säumen\n",
       "18                            ekel\n",
       "19                  begehrlichkeit\n",
       "20                     törichteste\n",
       "21                            tand\n",
       "22                      schnödeste\n",
       "23                           sitte\n",
       "24                             wut\n",
       "25                           frech\n",
       "26    verspielen und verschleudern\n",
       "27                         elenden\n",
       "28                      verhöhnend\n",
       "29                    gelassenheit\n",
       "30                         verbarg\n",
       "31                        geseufzt\n",
       "32                        inbrunst\n",
       "Name: de, dtype: object"
      ]
     },
     "execution_count": 17,
     "metadata": {},
     "output_type": "execute_result"
    }
   ],
   "source": [
    "src = load_blue_words(cadera_path, src_lang)\n",
    "src = format_src(src)\n",
    "src = test_long_sentence(src)\n",
    "src"
   ]
  },
  {
   "cell_type": "code",
   "execution_count": 4,
   "metadata": {
    "scrolled": true
   },
   "outputs": [
    {
     "name": "stdout",
     "output_type": "stream",
     "text": [
      "Attempted translation of 33 entries. Check DB for mistranslations.\n"
     ]
    }
   ],
   "source": [
    "dest = bulk_translate(src, dest_lang)"
   ]
  },
  {
   "cell_type": "code",
   "execution_count": 5,
   "metadata": {
    "cell_style": "split"
   },
   "outputs": [],
   "source": [
    "src = pd.Series([re.sub(r'[,.;:\"]', '', t) for t in src])"
   ]
  },
  {
   "cell_type": "code",
   "execution_count": 18,
   "metadata": {
    "scrolled": true
   },
   "outputs": [
    {
     "data": {
      "text/html": [
       "<div>\n",
       "<style scoped>\n",
       "    .dataframe tbody tr th:only-of-type {\n",
       "        vertical-align: middle;\n",
       "    }\n",
       "\n",
       "    .dataframe tbody tr th {\n",
       "        vertical-align: top;\n",
       "    }\n",
       "\n",
       "    .dataframe thead th {\n",
       "        text-align: right;\n",
       "    }\n",
       "</style>\n",
       "<table border=\"1\" class=\"dataframe\">\n",
       "  <thead>\n",
       "    <tr style=\"text-align: right;\">\n",
       "      <th></th>\n",
       "      <th>de</th>\n",
       "      <th>en</th>\n",
       "      <th>creation_time</th>\n",
       "    </tr>\n",
       "  </thead>\n",
       "  <tbody>\n",
       "    <tr>\n",
       "      <th>0</th>\n",
       "      <td>struppiger bettler</td>\n",
       "      <td>shaggy beggar</td>\n",
       "      <td>1586607187</td>\n",
       "    </tr>\n",
       "    <tr>\n",
       "      <th>1</th>\n",
       "      <td>griffel</td>\n",
       "      <td>stylus</td>\n",
       "      <td>1586607187</td>\n",
       "    </tr>\n",
       "    <tr>\n",
       "      <th>2</th>\n",
       "      <td>laub</td>\n",
       "      <td>leaves</td>\n",
       "      <td>1586607187</td>\n",
       "    </tr>\n",
       "    <tr>\n",
       "      <th>3</th>\n",
       "      <td>biegsam</td>\n",
       "      <td>flexible</td>\n",
       "      <td>1586607187</td>\n",
       "    </tr>\n",
       "    <tr>\n",
       "      <th>4</th>\n",
       "      <td>müdgewordenen</td>\n",
       "      <td>müdgewordenen</td>\n",
       "      <td>1586607187</td>\n",
       "    </tr>\n",
       "    <tr>\n",
       "      <th>5</th>\n",
       "      <td>wohlergehen</td>\n",
       "      <td>wohlergehen</td>\n",
       "      <td>1586607187</td>\n",
       "    </tr>\n",
       "    <tr>\n",
       "      <th>6</th>\n",
       "      <td>dienerschaft</td>\n",
       "      <td>diener economy</td>\n",
       "      <td>1586607187</td>\n",
       "    </tr>\n",
       "    <tr>\n",
       "      <th>7</th>\n",
       "      <td>predigt</td>\n",
       "      <td>preaches</td>\n",
       "      <td>1586607187</td>\n",
       "    </tr>\n",
       "    <tr>\n",
       "      <th>8</th>\n",
       "      <td>allmählich</td>\n",
       "      <td>gradually</td>\n",
       "      <td>1586607187</td>\n",
       "    </tr>\n",
       "    <tr>\n",
       "      <th>9</th>\n",
       "      <td>töpfers</td>\n",
       "      <td>potter</td>\n",
       "      <td>1586607187</td>\n",
       "    </tr>\n",
       "    <tr>\n",
       "      <th>10</th>\n",
       "      <td>schläferte</td>\n",
       "      <td>lulled</td>\n",
       "      <td>1586607187</td>\n",
       "    </tr>\n",
       "    <tr>\n",
       "      <th>11</th>\n",
       "      <td>stets</td>\n",
       "      <td>always</td>\n",
       "      <td>1586607187</td>\n",
       "    </tr>\n",
       "    <tr>\n",
       "      <th>12</th>\n",
       "      <td>beneidete</td>\n",
       "      <td>envied</td>\n",
       "      <td>1586607187</td>\n",
       "    </tr>\n",
       "    <tr>\n",
       "      <th>13</th>\n",
       "      <td>beizulegen vermochten</td>\n",
       "      <td>were able to settle</td>\n",
       "      <td>1586607187</td>\n",
       "    </tr>\n",
       "    <tr>\n",
       "      <th>14</th>\n",
       "      <td>bange</td>\n",
       "      <td>anxious</td>\n",
       "      <td>1586607187</td>\n",
       "    </tr>\n",
       "    <tr>\n",
       "      <th>15</th>\n",
       "      <td>kindertorheit</td>\n",
       "      <td>children folly</td>\n",
       "      <td>1586607187</td>\n",
       "    </tr>\n",
       "    <tr>\n",
       "      <th>16</th>\n",
       "      <td>schleier</td>\n",
       "      <td>veil</td>\n",
       "      <td>1586607187</td>\n",
       "    </tr>\n",
       "    <tr>\n",
       "      <th>17</th>\n",
       "      <td>säumen</td>\n",
       "      <td>line</td>\n",
       "      <td>1586607187</td>\n",
       "    </tr>\n",
       "    <tr>\n",
       "      <th>18</th>\n",
       "      <td>ekel</td>\n",
       "      <td>disgust</td>\n",
       "      <td>1586607187</td>\n",
       "    </tr>\n",
       "    <tr>\n",
       "      <th>19</th>\n",
       "      <td>begehrlichkeit</td>\n",
       "      <td>covetousness</td>\n",
       "      <td>1586607187</td>\n",
       "    </tr>\n",
       "    <tr>\n",
       "      <th>20</th>\n",
       "      <td>törichteste</td>\n",
       "      <td>törichteste</td>\n",
       "      <td>1586607187</td>\n",
       "    </tr>\n",
       "    <tr>\n",
       "      <th>21</th>\n",
       "      <td>tand</td>\n",
       "      <td>tand</td>\n",
       "      <td>1586607187</td>\n",
       "    </tr>\n",
       "    <tr>\n",
       "      <th>22</th>\n",
       "      <td>schnödeste</td>\n",
       "      <td>basest</td>\n",
       "      <td>1586607187</td>\n",
       "    </tr>\n",
       "    <tr>\n",
       "      <th>23</th>\n",
       "      <td>sitte</td>\n",
       "      <td>sitte</td>\n",
       "      <td>1586607187</td>\n",
       "    </tr>\n",
       "    <tr>\n",
       "      <th>24</th>\n",
       "      <td>wut</td>\n",
       "      <td>fury</td>\n",
       "      <td>1586607187</td>\n",
       "    </tr>\n",
       "    <tr>\n",
       "      <th>25</th>\n",
       "      <td>frech</td>\n",
       "      <td>sassy</td>\n",
       "      <td>1586607187</td>\n",
       "    </tr>\n",
       "    <tr>\n",
       "      <th>26</th>\n",
       "      <td>verspielen und verschleudern</td>\n",
       "      <td>gamble and squander</td>\n",
       "      <td>1586607187</td>\n",
       "    </tr>\n",
       "    <tr>\n",
       "      <th>27</th>\n",
       "      <td>elenden</td>\n",
       "      <td>wretched</td>\n",
       "      <td>1586607187</td>\n",
       "    </tr>\n",
       "    <tr>\n",
       "      <th>28</th>\n",
       "      <td>verhöhnend</td>\n",
       "      <td>verhöhnend</td>\n",
       "      <td>1586607187</td>\n",
       "    </tr>\n",
       "    <tr>\n",
       "      <th>29</th>\n",
       "      <td>gelassenheit</td>\n",
       "      <td>serenity</td>\n",
       "      <td>1586607187</td>\n",
       "    </tr>\n",
       "    <tr>\n",
       "      <th>30</th>\n",
       "      <td>verbarg</td>\n",
       "      <td>hid</td>\n",
       "      <td>1586607187</td>\n",
       "    </tr>\n",
       "    <tr>\n",
       "      <th>31</th>\n",
       "      <td>geseufzt</td>\n",
       "      <td>sighed</td>\n",
       "      <td>1586607187</td>\n",
       "    </tr>\n",
       "    <tr>\n",
       "      <th>32</th>\n",
       "      <td>inbrunst</td>\n",
       "      <td>fervor</td>\n",
       "      <td>1586607187</td>\n",
       "    </tr>\n",
       "  </tbody>\n",
       "</table>\n",
       "</div>"
      ],
      "text/plain": [
       "                              de                   en  creation_time\n",
       "0             struppiger bettler        shaggy beggar     1586607187\n",
       "1                        griffel               stylus     1586607187\n",
       "2                           laub               leaves     1586607187\n",
       "3                        biegsam             flexible     1586607187\n",
       "4                  müdgewordenen        müdgewordenen     1586607187\n",
       "5                    wohlergehen          wohlergehen     1586607187\n",
       "6                   dienerschaft       diener economy     1586607187\n",
       "7                        predigt             preaches     1586607187\n",
       "8                     allmählich            gradually     1586607187\n",
       "9                        töpfers               potter     1586607187\n",
       "10                    schläferte               lulled     1586607187\n",
       "11                         stets               always     1586607187\n",
       "12                     beneidete               envied     1586607187\n",
       "13         beizulegen vermochten  were able to settle     1586607187\n",
       "14                         bange              anxious     1586607187\n",
       "15                 kindertorheit       children folly     1586607187\n",
       "16                      schleier                 veil     1586607187\n",
       "17                        säumen                 line     1586607187\n",
       "18                          ekel              disgust     1586607187\n",
       "19                begehrlichkeit         covetousness     1586607187\n",
       "20                   törichteste          törichteste     1586607187\n",
       "21                          tand                 tand     1586607187\n",
       "22                    schnödeste               basest     1586607187\n",
       "23                         sitte                sitte     1586607187\n",
       "24                           wut                 fury     1586607187\n",
       "25                         frech                sassy     1586607187\n",
       "26  verspielen und verschleudern  gamble and squander     1586607187\n",
       "27                       elenden             wretched     1586607187\n",
       "28                    verhöhnend           verhöhnend     1586607187\n",
       "29                  gelassenheit             serenity     1586607187\n",
       "30                       verbarg                  hid     1586607187\n",
       "31                      geseufzt               sighed     1586607187\n",
       "32                      inbrunst               fervor     1586607187"
      ]
     },
     "execution_count": 18,
     "metadata": {},
     "output_type": "execute_result"
    }
   ],
   "source": [
    "dicDf = make_dicdf(src, dest, cadera_path)\n",
    "dicDf"
   ]
  },
  {
   "cell_type": "code",
   "execution_count": 15,
   "metadata": {},
   "outputs": [
    {
     "name": "stdout",
     "output_type": "stream",
     "text": [
      "Created GOTA file /Users/pabloherrero/Documents/ManHatTan/GOTAs/Siddhartha__eine_indische_Dichtung_(German_Edition)_.got\n"
     ]
    }
   ],
   "source": [
    "write_gota(cadera_path, dicDf)"
   ]
  },
  {
   "cell_type": "markdown",
   "metadata": {
    "heading_collapsed": true
   },
   "source": [
    "## Test replication of reference file"
   ]
  },
  {
   "cell_type": "code",
   "execution_count": 8,
   "metadata": {
    "hidden": true
   },
   "outputs": [],
   "source": [
    "def clean_filename(filename : str)->str:\n",
    "    \"\"\"Remove automatically added \"Notes from...\" string from filename\"\"\"\n",
    "    filename = filename.replace(' ', '_')\n",
    "    filename = filename.replace('_-_Bloc-notes', '')\n",
    "    filename = filename.replace('_-_Notizbuch', '')\n",
    "\n",
    "    filename = filename.replace('Notes_from__', '')\n",
    "    filename = filename.replace('Notizen_aus__', '')\n",
    "\n",
    "    return filename"
   ]
  },
  {
   "cell_type": "code",
   "execution_count": 19,
   "metadata": {
    "hidden": true
   },
   "outputs": [
    {
     "data": {
      "text/plain": [
       "'/Users/pabloherrero/Documents/ManHatTan/CADERAs/Siddhartha__eine_indische_Dichtung_(German_Edition)_.cder'"
      ]
     },
     "execution_count": 19,
     "metadata": {},
     "output_type": "execute_result"
    }
   ],
   "source": [
    "cadera_path = clean_filename(cadera_path)\n",
    "cadera_path"
   ]
  },
  {
   "cell_type": "code",
   "execution_count": 20,
   "metadata": {
    "hidden": true
   },
   "outputs": [
    {
     "name": "stdout",
     "output_type": "stream",
     "text": [
      "Created GOTA file /Users/pabloherrero/Documents/ManHatTan/GOTAs/Siddhartha__eine_indische_Dichtung_(German_Edition)_.got\n"
     ]
    }
   ],
   "source": [
    "write_gota(cadera_path, dicDf)"
   ]
  },
  {
   "cell_type": "code",
   "execution_count": 30,
   "metadata": {
    "hidden": true
   },
   "outputs": [],
   "source": [
    "def test_output_bulkTranslate(gotscript_path : str):\n",
    "    \"\"\"Test whether bulkTranslate produces the same absolute GOTA as in reference file (Siddhartha)\n",
    "        and indicate what words differ\"\"\"\n",
    "\n",
    "    gotref_path = '/Users/pabloherrero/Documents/ManHatTan/GOTAs/Siddhartha__eine_indische_Dichtung_(German_Edition)_.got'\n",
    "    gotref = pd.read_csv(gotref_path)\n",
    "    gotscript = pd.read_csv(gotscript_path)\n",
    "\n",
    "    compare_df = (gotscript == gotref)\n",
    "    compare_df.drop('creation_time', axis=1, inplace=True)  # creation_time is not to be compared\n",
    "    fails = np.where(compare_df == False)\n",
    "    print('Found (%i,%i) row,cols replication fails at init_gotstick'%(len(fails[0]), len(fails[1]) ))\n",
    "    print('On reference file:')\n",
    "    print(gotref.iloc[fails[0], fails[1]])\n",
    "    print('On processed file:')\n",
    "    print(gotscript.iloc[fails[0], fails[1]])"
   ]
  },
  {
   "cell_type": "code",
   "execution_count": 29,
   "metadata": {
    "hidden": true
   },
   "outputs": [
    {
     "data": {
      "text/html": [
       "<div>\n",
       "<style scoped>\n",
       "    .dataframe tbody tr th:only-of-type {\n",
       "        vertical-align: middle;\n",
       "    }\n",
       "\n",
       "    .dataframe tbody tr th {\n",
       "        vertical-align: top;\n",
       "    }\n",
       "\n",
       "    .dataframe thead th {\n",
       "        text-align: right;\n",
       "    }\n",
       "</style>\n",
       "<table border=\"1\" class=\"dataframe\">\n",
       "  <thead>\n",
       "    <tr style=\"text-align: right;\">\n",
       "      <th></th>\n",
       "      <th>de</th>\n",
       "      <th>en</th>\n",
       "    </tr>\n",
       "  </thead>\n",
       "  <tbody>\n",
       "    <tr>\n",
       "      <th>0</th>\n",
       "      <td>True</td>\n",
       "      <td>True</td>\n",
       "    </tr>\n",
       "    <tr>\n",
       "      <th>1</th>\n",
       "      <td>True</td>\n",
       "      <td>True</td>\n",
       "    </tr>\n",
       "    <tr>\n",
       "      <th>2</th>\n",
       "      <td>True</td>\n",
       "      <td>True</td>\n",
       "    </tr>\n",
       "    <tr>\n",
       "      <th>3</th>\n",
       "      <td>True</td>\n",
       "      <td>True</td>\n",
       "    </tr>\n",
       "    <tr>\n",
       "      <th>4</th>\n",
       "      <td>True</td>\n",
       "      <td>True</td>\n",
       "    </tr>\n",
       "    <tr>\n",
       "      <th>5</th>\n",
       "      <td>True</td>\n",
       "      <td>True</td>\n",
       "    </tr>\n",
       "    <tr>\n",
       "      <th>6</th>\n",
       "      <td>True</td>\n",
       "      <td>True</td>\n",
       "    </tr>\n",
       "    <tr>\n",
       "      <th>7</th>\n",
       "      <td>True</td>\n",
       "      <td>True</td>\n",
       "    </tr>\n",
       "    <tr>\n",
       "      <th>8</th>\n",
       "      <td>True</td>\n",
       "      <td>True</td>\n",
       "    </tr>\n",
       "    <tr>\n",
       "      <th>9</th>\n",
       "      <td>True</td>\n",
       "      <td>True</td>\n",
       "    </tr>\n",
       "    <tr>\n",
       "      <th>10</th>\n",
       "      <td>True</td>\n",
       "      <td>True</td>\n",
       "    </tr>\n",
       "    <tr>\n",
       "      <th>11</th>\n",
       "      <td>True</td>\n",
       "      <td>True</td>\n",
       "    </tr>\n",
       "    <tr>\n",
       "      <th>12</th>\n",
       "      <td>True</td>\n",
       "      <td>True</td>\n",
       "    </tr>\n",
       "    <tr>\n",
       "      <th>13</th>\n",
       "      <td>True</td>\n",
       "      <td>True</td>\n",
       "    </tr>\n",
       "    <tr>\n",
       "      <th>14</th>\n",
       "      <td>True</td>\n",
       "      <td>True</td>\n",
       "    </tr>\n",
       "    <tr>\n",
       "      <th>15</th>\n",
       "      <td>True</td>\n",
       "      <td>True</td>\n",
       "    </tr>\n",
       "    <tr>\n",
       "      <th>16</th>\n",
       "      <td>True</td>\n",
       "      <td>True</td>\n",
       "    </tr>\n",
       "    <tr>\n",
       "      <th>17</th>\n",
       "      <td>True</td>\n",
       "      <td>True</td>\n",
       "    </tr>\n",
       "    <tr>\n",
       "      <th>18</th>\n",
       "      <td>True</td>\n",
       "      <td>True</td>\n",
       "    </tr>\n",
       "    <tr>\n",
       "      <th>19</th>\n",
       "      <td>True</td>\n",
       "      <td>True</td>\n",
       "    </tr>\n",
       "    <tr>\n",
       "      <th>20</th>\n",
       "      <td>True</td>\n",
       "      <td>True</td>\n",
       "    </tr>\n",
       "    <tr>\n",
       "      <th>21</th>\n",
       "      <td>True</td>\n",
       "      <td>True</td>\n",
       "    </tr>\n",
       "    <tr>\n",
       "      <th>22</th>\n",
       "      <td>True</td>\n",
       "      <td>True</td>\n",
       "    </tr>\n",
       "    <tr>\n",
       "      <th>23</th>\n",
       "      <td>True</td>\n",
       "      <td>True</td>\n",
       "    </tr>\n",
       "    <tr>\n",
       "      <th>24</th>\n",
       "      <td>True</td>\n",
       "      <td>True</td>\n",
       "    </tr>\n",
       "    <tr>\n",
       "      <th>25</th>\n",
       "      <td>True</td>\n",
       "      <td>True</td>\n",
       "    </tr>\n",
       "    <tr>\n",
       "      <th>26</th>\n",
       "      <td>True</td>\n",
       "      <td>True</td>\n",
       "    </tr>\n",
       "    <tr>\n",
       "      <th>27</th>\n",
       "      <td>True</td>\n",
       "      <td>True</td>\n",
       "    </tr>\n",
       "    <tr>\n",
       "      <th>28</th>\n",
       "      <td>True</td>\n",
       "      <td>True</td>\n",
       "    </tr>\n",
       "    <tr>\n",
       "      <th>29</th>\n",
       "      <td>True</td>\n",
       "      <td>True</td>\n",
       "    </tr>\n",
       "    <tr>\n",
       "      <th>30</th>\n",
       "      <td>True</td>\n",
       "      <td>True</td>\n",
       "    </tr>\n",
       "    <tr>\n",
       "      <th>31</th>\n",
       "      <td>True</td>\n",
       "      <td>True</td>\n",
       "    </tr>\n",
       "    <tr>\n",
       "      <th>32</th>\n",
       "      <td>True</td>\n",
       "      <td>True</td>\n",
       "    </tr>\n",
       "  </tbody>\n",
       "</table>\n",
       "</div>"
      ],
      "text/plain": [
       "      de    en\n",
       "0   True  True\n",
       "1   True  True\n",
       "2   True  True\n",
       "3   True  True\n",
       "4   True  True\n",
       "5   True  True\n",
       "6   True  True\n",
       "7   True  True\n",
       "8   True  True\n",
       "9   True  True\n",
       "10  True  True\n",
       "11  True  True\n",
       "12  True  True\n",
       "13  True  True\n",
       "14  True  True\n",
       "15  True  True\n",
       "16  True  True\n",
       "17  True  True\n",
       "18  True  True\n",
       "19  True  True\n",
       "20  True  True\n",
       "21  True  True\n",
       "22  True  True\n",
       "23  True  True\n",
       "24  True  True\n",
       "25  True  True\n",
       "26  True  True\n",
       "27  True  True\n",
       "28  True  True\n",
       "29  True  True\n",
       "30  True  True\n",
       "31  True  True\n",
       "32  True  True"
      ]
     },
     "execution_count": 29,
     "metadata": {},
     "output_type": "execute_result"
    }
   ],
   "source": [
    "gotscript_path = '/Users/pabloherrero/Documents/ManHatTan/GOTAs/Notizen aus _Siddhartha_ eine indische Dichtung (German Edition)_.got'\n",
    "gotref_path = '/Users/pabloherrero/Documents/ManHatTan/GOTAs/Siddhartha__eine_indische_Dichtung_(German_Edition)_.got'\n",
    "\n",
    "gotref = pd.read_csv(gotref_path, index_col=0)\n",
    "gotscript = pd.read_csv(gotscript_path, index_col=0)\n",
    "compare_df = (gotscript == gotref)\n",
    "\n",
    "compare_df"
   ]
  },
  {
   "cell_type": "code",
   "execution_count": 39,
   "metadata": {
    "hidden": true
   },
   "outputs": [
    {
     "ename": "ValueError",
     "evalue": "Can only compare identically-labeled DataFrame objects",
     "output_type": "error",
     "traceback": [
      "\u001b[0;31m---------------------------------------------------------------------------\u001b[0m",
      "\u001b[0;31mValueError\u001b[0m                                Traceback (most recent call last)",
      "\u001b[0;32m<ipython-input-39-9e7533c367f8>\u001b[0m in \u001b[0;36m<module>\u001b[0;34m\u001b[0m\n\u001b[1;32m      1\u001b[0m \u001b[0mgotscript_path\u001b[0m \u001b[0;34m=\u001b[0m \u001b[0;34m'/Users/pabloherrero/Documents/ManHatTan/GOTAs/Notizen aus _Siddhartha_ eine indische Dichtung (German Edition)_.got'\u001b[0m\u001b[0;34m\u001b[0m\u001b[0;34m\u001b[0m\u001b[0m\n\u001b[0;32m----> 2\u001b[0;31m \u001b[0mtest_output_bulkTranslate\u001b[0m\u001b[0;34m(\u001b[0m\u001b[0mgotscript_path\u001b[0m\u001b[0;34m)\u001b[0m\u001b[0;34m\u001b[0m\u001b[0;34m\u001b[0m\u001b[0m\n\u001b[0m",
      "\u001b[0;32m<ipython-input-38-7a29d5ac5d5a>\u001b[0m in \u001b[0;36mtest_output_bulkTranslate\u001b[0;34m(gotscript_path)\u001b[0m\n\u001b[1;32m      7\u001b[0m     \u001b[0mgotscript\u001b[0m \u001b[0;34m=\u001b[0m \u001b[0mpd\u001b[0m\u001b[0;34m.\u001b[0m\u001b[0mread_csv\u001b[0m\u001b[0;34m(\u001b[0m\u001b[0mgotscript_path\u001b[0m\u001b[0;34m)\u001b[0m\u001b[0;34m\u001b[0m\u001b[0;34m\u001b[0m\u001b[0m\n\u001b[1;32m      8\u001b[0m \u001b[0;34m\u001b[0m\u001b[0m\n\u001b[0;32m----> 9\u001b[0;31m     \u001b[0mcompare_df\u001b[0m \u001b[0;34m=\u001b[0m \u001b[0;34m(\u001b[0m\u001b[0mgotscript\u001b[0m \u001b[0;34m==\u001b[0m \u001b[0mgotref\u001b[0m\u001b[0;34m)\u001b[0m\u001b[0;34m\u001b[0m\u001b[0;34m\u001b[0m\u001b[0m\n\u001b[0m\u001b[1;32m     10\u001b[0m     \u001b[0mfails\u001b[0m \u001b[0;34m=\u001b[0m \u001b[0mnp\u001b[0m\u001b[0;34m.\u001b[0m\u001b[0mwhere\u001b[0m\u001b[0;34m(\u001b[0m\u001b[0mcompare_df\u001b[0m \u001b[0;34m==\u001b[0m \u001b[0;32mFalse\u001b[0m\u001b[0;34m)\u001b[0m\u001b[0;34m\u001b[0m\u001b[0;34m\u001b[0m\u001b[0m\n\u001b[1;32m     11\u001b[0m     \u001b[0mprint\u001b[0m\u001b[0;34m(\u001b[0m\u001b[0;34m'Found (%i,%i) row,cols replication fails at init_gotstick'\u001b[0m\u001b[0;34m%\u001b[0m\u001b[0;34m(\u001b[0m\u001b[0mlen\u001b[0m\u001b[0;34m(\u001b[0m\u001b[0mfails\u001b[0m\u001b[0;34m[\u001b[0m\u001b[0;36m0\u001b[0m\u001b[0;34m]\u001b[0m\u001b[0;34m)\u001b[0m\u001b[0;34m,\u001b[0m \u001b[0mlen\u001b[0m\u001b[0;34m(\u001b[0m\u001b[0mfails\u001b[0m\u001b[0;34m[\u001b[0m\u001b[0;36m1\u001b[0m\u001b[0;34m]\u001b[0m\u001b[0;34m)\u001b[0m \u001b[0;34m)\u001b[0m\u001b[0;34m)\u001b[0m\u001b[0;34m\u001b[0m\u001b[0;34m\u001b[0m\u001b[0m\n",
      "\u001b[0;32m~/anaconda3/envs/IC-3.7-2018-11-14/lib/python3.7/site-packages/pandas/core/ops.py\u001b[0m in \u001b[0;36mf\u001b[0;34m(self, other)\u001b[0m\n\u001b[1;32m   1611\u001b[0m             \u001b[0;31m# Another DataFrame\u001b[0m\u001b[0;34m\u001b[0m\u001b[0;34m\u001b[0m\u001b[0;34m\u001b[0m\u001b[0m\n\u001b[1;32m   1612\u001b[0m             \u001b[0;32mif\u001b[0m \u001b[0;32mnot\u001b[0m \u001b[0mself\u001b[0m\u001b[0;34m.\u001b[0m\u001b[0m_indexed_same\u001b[0m\u001b[0;34m(\u001b[0m\u001b[0mother\u001b[0m\u001b[0;34m)\u001b[0m\u001b[0;34m:\u001b[0m\u001b[0;34m\u001b[0m\u001b[0;34m\u001b[0m\u001b[0m\n\u001b[0;32m-> 1613\u001b[0;31m                 raise ValueError('Can only compare identically-labeled '\n\u001b[0m\u001b[1;32m   1614\u001b[0m                                  'DataFrame objects')\n\u001b[1;32m   1615\u001b[0m             \u001b[0;32mreturn\u001b[0m \u001b[0mself\u001b[0m\u001b[0;34m.\u001b[0m\u001b[0m_compare_frame\u001b[0m\u001b[0;34m(\u001b[0m\u001b[0mother\u001b[0m\u001b[0;34m,\u001b[0m \u001b[0mfunc\u001b[0m\u001b[0;34m,\u001b[0m \u001b[0mstr_rep\u001b[0m\u001b[0;34m)\u001b[0m\u001b[0;34m\u001b[0m\u001b[0;34m\u001b[0m\u001b[0m\n",
      "\u001b[0;31mValueError\u001b[0m: Can only compare identically-labeled DataFrame objects"
     ]
    }
   ],
   "source": [
    "gotscript_path = '/Users/pabloherrero/Documents/ManHatTan/GOTAs/Notizen aus _Siddhartha_ eine indische Dichtung (German Edition)_.got'\n",
    "test_output_bulkTranslate(gotscript_path)"
   ]
  },
  {
   "cell_type": "markdown",
   "metadata": {},
   "source": [
    "# Debug for  'Io Uccido' "
   ]
  },
  {
   "cell_type": "code",
   "execution_count": 13,
   "metadata": {},
   "outputs": [],
   "source": [
    "cadera_path = '/Users/pabloherrero/Documents/ManHatTan/CADERAs/Io_Uccido.cder'\n",
    "df = pd.read_csv(cadera_path, index_col=0)\n",
    "src = df.blue.dropna()\n",
    "src_lang = 'it'\n",
    "dest_lang = 'es'"
   ]
  },
  {
   "cell_type": "code",
   "execution_count": 18,
   "metadata": {
    "scrolled": true
   },
   "outputs": [
    {
     "data": {
      "text/plain": [
       "0                                              fatica\n",
       "1                                                noia\n",
       "2                                             capelli\n",
       "3                                         saracinesca\n",
       "4                                           allenando\n",
       "5                                         grattacieli\n",
       "6                                               brano\n",
       "7                                           scommesse\n",
       "8                                             autista\n",
       "9                                             buttare\n",
       "10                                      Lo tirò fuori\n",
       "11                                            fruscio\n",
       "12                                              palle\n",
       "13                                              mossa\n",
       "14                                             attimo\n",
       "15                                           pezzente\n",
       "16                                           sbrigati\n",
       "17                                              mentì\n",
       "18                                       galleggiando\n",
       "19                                             gomito\n",
       "20                                      sparpagliarsi\n",
       "21                                            paffuto\n",
       "22               La donna si era stretta nelle spalle\n",
       "23                              JeanLoup era allibito\n",
       "24        toccato con mano la sua conoscenza musicale\n",
       "25                                          asettiche\n",
       "26                                          farabutto\n",
       "27                                              furbo\n",
       "28                                          schienale\n",
       "29                                             altrui\n",
       "                            ...                      \n",
       "97                                     colto in fallo\n",
       "98                                          rammarico\n",
       "99                     Ci sfida ma non ci sottovaluta\n",
       "100                              la caccia è scattata\n",
       "101      Il suo No allofferta di aiuto è stato perent\n",
       "102         JeanLoup abbassò le spalle come sconfitto\n",
       "103                 sua vita era già abbastanza grama\n",
       "104                   continuò con la sua voce pacata\n",
       "105          imbarazzata per quellattimo di debolezza\n",
       "106                            ogni genere di sevizie\n",
       "107                                         ginocchia\n",
       "108                                Spalanca gli occhi\n",
       "109                                           efelidi\n",
       "110                          quasi senza accorgersene\n",
       "111    Aveva gli occhi cerchiati per la notte insonne\n",
       "112                                           fiducia\n",
       "113                                             zaino\n",
       "114                                         sbadiglia\n",
       "115                                             ceffo\n",
       "116                                              agio\n",
       "117    Se decidi di aiutarci può darsi che la cosa ti\n",
       "118                                        spacconata\n",
       "119    Uno che può pisciare nel letto e dire che ha s\n",
       "120                                           prurito\n",
       "121                                         ciclamino\n",
       "122                                             sfida\n",
       "123                                           cuscino\n",
       "124                                            mancia\n",
       "125                                            camino\n",
       "126                                             Vanto\n",
       "Name: it, Length: 127, dtype: object"
      ]
     },
     "execution_count": 18,
     "metadata": {},
     "output_type": "execute_result"
    }
   ],
   "source": [
    "src = load_blue_words(cadera_path, src_lang)\n",
    "src = format_src(src)\n",
    "# src = test_long_sentence(src)\n",
    "src"
   ]
  },
  {
   "cell_type": "code",
   "execution_count": 19,
   "metadata": {
    "scrolled": true
   },
   "outputs": [
    {
     "name": "stdout",
     "output_type": "stream",
     "text": [
      "Attempted translation of 127 entries. Check DB for mistranslations.\n"
     ]
    }
   ],
   "source": [
    "dest = bulk_translate(src, dest_lang)"
   ]
  },
  {
   "cell_type": "code",
   "execution_count": 5,
   "metadata": {
    "cell_style": "split"
   },
   "outputs": [],
   "source": [
    "src = pd.Series([re.sub(r'[,.;:\"]', '', t) for t in src])"
   ]
  },
  {
   "cell_type": "code",
   "execution_count": 20,
   "metadata": {
    "scrolled": true
   },
   "outputs": [
    {
     "data": {
      "text/html": [
       "<div>\n",
       "<style scoped>\n",
       "    .dataframe tbody tr th:only-of-type {\n",
       "        vertical-align: middle;\n",
       "    }\n",
       "\n",
       "    .dataframe tbody tr th {\n",
       "        vertical-align: top;\n",
       "    }\n",
       "\n",
       "    .dataframe thead th {\n",
       "        text-align: right;\n",
       "    }\n",
       "</style>\n",
       "<table border=\"1\" class=\"dataframe\">\n",
       "  <thead>\n",
       "    <tr style=\"text-align: right;\">\n",
       "      <th></th>\n",
       "      <th>it</th>\n",
       "      <th>es</th>\n",
       "      <th>creation_time</th>\n",
       "    </tr>\n",
       "  </thead>\n",
       "  <tbody>\n",
       "    <tr>\n",
       "      <th>0</th>\n",
       "      <td>fatica</td>\n",
       "      <td>fatiga</td>\n",
       "      <td>1605001651</td>\n",
       "    </tr>\n",
       "    <tr>\n",
       "      <th>1</th>\n",
       "      <td>noia</td>\n",
       "      <td>aburrimiento</td>\n",
       "      <td>1605001651</td>\n",
       "    </tr>\n",
       "    <tr>\n",
       "      <th>2</th>\n",
       "      <td>capelli</td>\n",
       "      <td>del cabello</td>\n",
       "      <td>1605001651</td>\n",
       "    </tr>\n",
       "    <tr>\n",
       "      <th>3</th>\n",
       "      <td>saracinesca</td>\n",
       "      <td>puerta</td>\n",
       "      <td>1605001651</td>\n",
       "    </tr>\n",
       "    <tr>\n",
       "      <th>4</th>\n",
       "      <td>allenando</td>\n",
       "      <td>de formación</td>\n",
       "      <td>1605001651</td>\n",
       "    </tr>\n",
       "    <tr>\n",
       "      <th>5</th>\n",
       "      <td>grattacieli</td>\n",
       "      <td>rascacielos</td>\n",
       "      <td>1605001651</td>\n",
       "    </tr>\n",
       "    <tr>\n",
       "      <th>6</th>\n",
       "      <td>brano</td>\n",
       "      <td>canción</td>\n",
       "      <td>1605001651</td>\n",
       "    </tr>\n",
       "    <tr>\n",
       "      <th>7</th>\n",
       "      <td>scommesse</td>\n",
       "      <td>apuestas</td>\n",
       "      <td>1605001651</td>\n",
       "    </tr>\n",
       "    <tr>\n",
       "      <th>8</th>\n",
       "      <td>autista</td>\n",
       "      <td>controlador</td>\n",
       "      <td>1605001651</td>\n",
       "    </tr>\n",
       "    <tr>\n",
       "      <th>9</th>\n",
       "      <td>buttare</td>\n",
       "      <td>tiro</td>\n",
       "      <td>1605001651</td>\n",
       "    </tr>\n",
       "    <tr>\n",
       "      <th>10</th>\n",
       "      <td>Lo tirò fuori</td>\n",
       "      <td>Lo sacó</td>\n",
       "      <td>1605001651</td>\n",
       "    </tr>\n",
       "    <tr>\n",
       "      <th>11</th>\n",
       "      <td>fruscio</td>\n",
       "      <td>crujido</td>\n",
       "      <td>1605001651</td>\n",
       "    </tr>\n",
       "    <tr>\n",
       "      <th>12</th>\n",
       "      <td>palle</td>\n",
       "      <td>bolas</td>\n",
       "      <td>1605001651</td>\n",
       "    </tr>\n",
       "    <tr>\n",
       "      <th>13</th>\n",
       "      <td>mossa</td>\n",
       "      <td>se mueven</td>\n",
       "      <td>1605001651</td>\n",
       "    </tr>\n",
       "    <tr>\n",
       "      <th>14</th>\n",
       "      <td>attimo</td>\n",
       "      <td>minutos</td>\n",
       "      <td>1605001651</td>\n",
       "    </tr>\n",
       "    <tr>\n",
       "      <th>15</th>\n",
       "      <td>pezzente</td>\n",
       "      <td>mendigo</td>\n",
       "      <td>1605001651</td>\n",
       "    </tr>\n",
       "    <tr>\n",
       "      <th>16</th>\n",
       "      <td>sbrigati</td>\n",
       "      <td>prisa</td>\n",
       "      <td>1605001651</td>\n",
       "    </tr>\n",
       "    <tr>\n",
       "      <th>17</th>\n",
       "      <td>mentì</td>\n",
       "      <td>mentido</td>\n",
       "      <td>1605001651</td>\n",
       "    </tr>\n",
       "    <tr>\n",
       "      <th>18</th>\n",
       "      <td>galleggiando</td>\n",
       "      <td>flotante</td>\n",
       "      <td>1605001651</td>\n",
       "    </tr>\n",
       "    <tr>\n",
       "      <th>19</th>\n",
       "      <td>gomito</td>\n",
       "      <td>codo</td>\n",
       "      <td>1605001651</td>\n",
       "    </tr>\n",
       "    <tr>\n",
       "      <th>20</th>\n",
       "      <td>sparpagliarsi</td>\n",
       "      <td>de dispersión</td>\n",
       "      <td>1605001651</td>\n",
       "    </tr>\n",
       "    <tr>\n",
       "      <th>21</th>\n",
       "      <td>paffuto</td>\n",
       "      <td>gordito</td>\n",
       "      <td>1605001651</td>\n",
       "    </tr>\n",
       "    <tr>\n",
       "      <th>22</th>\n",
       "      <td>La donna si era stretta nelle spalle</td>\n",
       "      <td>La mujer se encogió de hombros</td>\n",
       "      <td>1605001651</td>\n",
       "    </tr>\n",
       "    <tr>\n",
       "      <th>23</th>\n",
       "      <td>JeanLoup era allibito</td>\n",
       "      <td>Jeanloup se horrorizó</td>\n",
       "      <td>1605001651</td>\n",
       "    </tr>\n",
       "    <tr>\n",
       "      <th>24</th>\n",
       "      <td>toccato con mano la sua conoscenza musicale</td>\n",
       "      <td>de primera mano sus conocimientos musicales</td>\n",
       "      <td>1605001651</td>\n",
       "    </tr>\n",
       "    <tr>\n",
       "      <th>25</th>\n",
       "      <td>asettiche</td>\n",
       "      <td>aséptica</td>\n",
       "      <td>1605001651</td>\n",
       "    </tr>\n",
       "    <tr>\n",
       "      <th>26</th>\n",
       "      <td>farabutto</td>\n",
       "      <td>granuja</td>\n",
       "      <td>1605001651</td>\n",
       "    </tr>\n",
       "    <tr>\n",
       "      <th>27</th>\n",
       "      <td>furbo</td>\n",
       "      <td>inteligente</td>\n",
       "      <td>1605001651</td>\n",
       "    </tr>\n",
       "    <tr>\n",
       "      <th>28</th>\n",
       "      <td>schienale</td>\n",
       "      <td>de vuelta</td>\n",
       "      <td>1605001651</td>\n",
       "    </tr>\n",
       "    <tr>\n",
       "      <th>29</th>\n",
       "      <td>altrui</td>\n",
       "      <td>otras  personas</td>\n",
       "      <td>1605001651</td>\n",
       "    </tr>\n",
       "    <tr>\n",
       "      <th>...</th>\n",
       "      <td>...</td>\n",
       "      <td>...</td>\n",
       "      <td>...</td>\n",
       "    </tr>\n",
       "    <tr>\n",
       "      <th>97</th>\n",
       "      <td>colto in fallo</td>\n",
       "      <td>pillado</td>\n",
       "      <td>1605001651</td>\n",
       "    </tr>\n",
       "    <tr>\n",
       "      <th>98</th>\n",
       "      <td>rammarico</td>\n",
       "      <td>arrepentimiento</td>\n",
       "      <td>1605001651</td>\n",
       "    </tr>\n",
       "    <tr>\n",
       "      <th>99</th>\n",
       "      <td>Ci sfida ma non ci sottovaluta</td>\n",
       "      <td>Nos desafía pero no subestime</td>\n",
       "      <td>1605001651</td>\n",
       "    </tr>\n",
       "    <tr>\n",
       "      <th>100</th>\n",
       "      <td>la caccia è scattata</td>\n",
       "      <td>se toma la caza</td>\n",
       "      <td>1605001651</td>\n",
       "    </tr>\n",
       "    <tr>\n",
       "      <th>101</th>\n",
       "      <td>Il suo No allofferta di aiuto è stato perent</td>\n",
       "      <td>Su allofferta No hay ayuda era perent</td>\n",
       "      <td>1605001651</td>\n",
       "    </tr>\n",
       "    <tr>\n",
       "      <th>102</th>\n",
       "      <td>JeanLoup abbassò le spalle come sconfitto</td>\n",
       "      <td>hombros Jeanloup desplomó como derrotados</td>\n",
       "      <td>1605001651</td>\n",
       "    </tr>\n",
       "    <tr>\n",
       "      <th>103</th>\n",
       "      <td>sua vita era già abbastanza grama</td>\n",
       "      <td>su vida ya era bastante miserable</td>\n",
       "      <td>1605001651</td>\n",
       "    </tr>\n",
       "    <tr>\n",
       "      <th>104</th>\n",
       "      <td>continuò con la sua voce pacata</td>\n",
       "      <td>continuaron con su voz tranquila</td>\n",
       "      <td>1605001651</td>\n",
       "    </tr>\n",
       "    <tr>\n",
       "      <th>105</th>\n",
       "      <td>imbarazzata per quellattimo di debolezza</td>\n",
       "      <td>quellattimo vergüenza de debilidad</td>\n",
       "      <td>1605001651</td>\n",
       "    </tr>\n",
       "    <tr>\n",
       "      <th>106</th>\n",
       "      <td>ogni genere di sevizie</td>\n",
       "      <td>todo tipo de abusos</td>\n",
       "      <td>1605001651</td>\n",
       "    </tr>\n",
       "    <tr>\n",
       "      <th>107</th>\n",
       "      <td>ginocchia</td>\n",
       "      <td>rodillas</td>\n",
       "      <td>1605001651</td>\n",
       "    </tr>\n",
       "    <tr>\n",
       "      <th>108</th>\n",
       "      <td>Spalanca gli occhi</td>\n",
       "      <td>Abre los ojos</td>\n",
       "      <td>1605001651</td>\n",
       "    </tr>\n",
       "    <tr>\n",
       "      <th>109</th>\n",
       "      <td>efelidi</td>\n",
       "      <td>pecas</td>\n",
       "      <td>1605001651</td>\n",
       "    </tr>\n",
       "    <tr>\n",
       "      <th>110</th>\n",
       "      <td>quasi senza accorgersene</td>\n",
       "      <td>casi sin darse cuenta</td>\n",
       "      <td>1605001651</td>\n",
       "    </tr>\n",
       "    <tr>\n",
       "      <th>111</th>\n",
       "      <td>Aveva gli occhi cerchiati per la notte insonne</td>\n",
       "      <td>Sus ojos estaban bordeados por la noche sin do...</td>\n",
       "      <td>1605001651</td>\n",
       "    </tr>\n",
       "    <tr>\n",
       "      <th>112</th>\n",
       "      <td>fiducia</td>\n",
       "      <td>confianza</td>\n",
       "      <td>1605001651</td>\n",
       "    </tr>\n",
       "    <tr>\n",
       "      <th>113</th>\n",
       "      <td>zaino</td>\n",
       "      <td>mochila</td>\n",
       "      <td>1605001651</td>\n",
       "    </tr>\n",
       "    <tr>\n",
       "      <th>114</th>\n",
       "      <td>sbadiglia</td>\n",
       "      <td>bostezos</td>\n",
       "      <td>1605001651</td>\n",
       "    </tr>\n",
       "    <tr>\n",
       "      <th>115</th>\n",
       "      <td>ceffo</td>\n",
       "      <td>taza</td>\n",
       "      <td>1605001651</td>\n",
       "    </tr>\n",
       "    <tr>\n",
       "      <th>116</th>\n",
       "      <td>agio</td>\n",
       "      <td>cómoda</td>\n",
       "      <td>1605001651</td>\n",
       "    </tr>\n",
       "    <tr>\n",
       "      <th>117</th>\n",
       "      <td>Se decidi di aiutarci può darsi che la cosa ti</td>\n",
       "      <td>Si decide ayuda puede ser que lo que</td>\n",
       "      <td>1605001651</td>\n",
       "    </tr>\n",
       "    <tr>\n",
       "      <th>118</th>\n",
       "      <td>spacconata</td>\n",
       "      <td>bravatas</td>\n",
       "      <td>1605001651</td>\n",
       "    </tr>\n",
       "    <tr>\n",
       "      <th>119</th>\n",
       "      <td>Uno che può pisciare nel letto e dire che ha s</td>\n",
       "      <td>Aquel que puede orinar en la cama y decir que s</td>\n",
       "      <td>1605001651</td>\n",
       "    </tr>\n",
       "    <tr>\n",
       "      <th>120</th>\n",
       "      <td>prurito</td>\n",
       "      <td>picazón</td>\n",
       "      <td>1605001651</td>\n",
       "    </tr>\n",
       "    <tr>\n",
       "      <th>121</th>\n",
       "      <td>ciclamino</td>\n",
       "      <td>ciclamen</td>\n",
       "      <td>1605001651</td>\n",
       "    </tr>\n",
       "    <tr>\n",
       "      <th>122</th>\n",
       "      <td>sfida</td>\n",
       "      <td>desafío</td>\n",
       "      <td>1605001651</td>\n",
       "    </tr>\n",
       "    <tr>\n",
       "      <th>123</th>\n",
       "      <td>cuscino</td>\n",
       "      <td>almohada</td>\n",
       "      <td>1605001651</td>\n",
       "    </tr>\n",
       "    <tr>\n",
       "      <th>124</th>\n",
       "      <td>mancia</td>\n",
       "      <td>punta</td>\n",
       "      <td>1605001651</td>\n",
       "    </tr>\n",
       "    <tr>\n",
       "      <th>125</th>\n",
       "      <td>camino</td>\n",
       "      <td>chimenea</td>\n",
       "      <td>1605001651</td>\n",
       "    </tr>\n",
       "    <tr>\n",
       "      <th>126</th>\n",
       "      <td>Vanto</td>\n",
       "      <td>Jactarse</td>\n",
       "      <td>1605001651</td>\n",
       "    </tr>\n",
       "  </tbody>\n",
       "</table>\n",
       "<p>127 rows × 3 columns</p>\n",
       "</div>"
      ],
      "text/plain": [
       "                                                 it  \\\n",
       "0                                            fatica   \n",
       "1                                              noia   \n",
       "2                                           capelli   \n",
       "3                                       saracinesca   \n",
       "4                                         allenando   \n",
       "5                                       grattacieli   \n",
       "6                                             brano   \n",
       "7                                         scommesse   \n",
       "8                                           autista   \n",
       "9                                           buttare   \n",
       "10                                    Lo tirò fuori   \n",
       "11                                          fruscio   \n",
       "12                                            palle   \n",
       "13                                            mossa   \n",
       "14                                           attimo   \n",
       "15                                         pezzente   \n",
       "16                                         sbrigati   \n",
       "17                                            mentì   \n",
       "18                                     galleggiando   \n",
       "19                                           gomito   \n",
       "20                                    sparpagliarsi   \n",
       "21                                          paffuto   \n",
       "22             La donna si era stretta nelle spalle   \n",
       "23                            JeanLoup era allibito   \n",
       "24      toccato con mano la sua conoscenza musicale   \n",
       "25                                        asettiche   \n",
       "26                                        farabutto   \n",
       "27                                            furbo   \n",
       "28                                        schienale   \n",
       "29                                           altrui   \n",
       "..                                              ...   \n",
       "97                                   colto in fallo   \n",
       "98                                        rammarico   \n",
       "99                   Ci sfida ma non ci sottovaluta   \n",
       "100                            la caccia è scattata   \n",
       "101    Il suo No allofferta di aiuto è stato perent   \n",
       "102       JeanLoup abbassò le spalle come sconfitto   \n",
       "103               sua vita era già abbastanza grama   \n",
       "104                 continuò con la sua voce pacata   \n",
       "105        imbarazzata per quellattimo di debolezza   \n",
       "106                          ogni genere di sevizie   \n",
       "107                                       ginocchia   \n",
       "108                              Spalanca gli occhi   \n",
       "109                                         efelidi   \n",
       "110                        quasi senza accorgersene   \n",
       "111  Aveva gli occhi cerchiati per la notte insonne   \n",
       "112                                         fiducia   \n",
       "113                                           zaino   \n",
       "114                                       sbadiglia   \n",
       "115                                           ceffo   \n",
       "116                                            agio   \n",
       "117  Se decidi di aiutarci può darsi che la cosa ti   \n",
       "118                                      spacconata   \n",
       "119  Uno che può pisciare nel letto e dire che ha s   \n",
       "120                                         prurito   \n",
       "121                                       ciclamino   \n",
       "122                                           sfida   \n",
       "123                                         cuscino   \n",
       "124                                          mancia   \n",
       "125                                          camino   \n",
       "126                                           Vanto   \n",
       "\n",
       "                                                    es  creation_time  \n",
       "0                                               fatiga     1605001651  \n",
       "1                                         aburrimiento     1605001651  \n",
       "2                                          del cabello     1605001651  \n",
       "3                                               puerta     1605001651  \n",
       "4                                         de formación     1605001651  \n",
       "5                                          rascacielos     1605001651  \n",
       "6                                              canción     1605001651  \n",
       "7                                             apuestas     1605001651  \n",
       "8                                          controlador     1605001651  \n",
       "9                                                 tiro     1605001651  \n",
       "10                                             Lo sacó     1605001651  \n",
       "11                                             crujido     1605001651  \n",
       "12                                               bolas     1605001651  \n",
       "13                                           se mueven     1605001651  \n",
       "14                                             minutos     1605001651  \n",
       "15                                             mendigo     1605001651  \n",
       "16                                               prisa     1605001651  \n",
       "17                                             mentido     1605001651  \n",
       "18                                            flotante     1605001651  \n",
       "19                                                codo     1605001651  \n",
       "20                                       de dispersión     1605001651  \n",
       "21                                             gordito     1605001651  \n",
       "22                      La mujer se encogió de hombros     1605001651  \n",
       "23                               Jeanloup se horrorizó     1605001651  \n",
       "24         de primera mano sus conocimientos musicales     1605001651  \n",
       "25                                            aséptica     1605001651  \n",
       "26                                             granuja     1605001651  \n",
       "27                                         inteligente     1605001651  \n",
       "28                                           de vuelta     1605001651  \n",
       "29                                     otras  personas     1605001651  \n",
       "..                                                 ...            ...  \n",
       "97                                             pillado     1605001651  \n",
       "98                                     arrepentimiento     1605001651  \n",
       "99                       Nos desafía pero no subestime     1605001651  \n",
       "100                                    se toma la caza     1605001651  \n",
       "101              Su allofferta No hay ayuda era perent     1605001651  \n",
       "102          hombros Jeanloup desplomó como derrotados     1605001651  \n",
       "103                  su vida ya era bastante miserable     1605001651  \n",
       "104                   continuaron con su voz tranquila     1605001651  \n",
       "105                 quellattimo vergüenza de debilidad     1605001651  \n",
       "106                                todo tipo de abusos     1605001651  \n",
       "107                                           rodillas     1605001651  \n",
       "108                                      Abre los ojos     1605001651  \n",
       "109                                              pecas     1605001651  \n",
       "110                              casi sin darse cuenta     1605001651  \n",
       "111  Sus ojos estaban bordeados por la noche sin do...     1605001651  \n",
       "112                                          confianza     1605001651  \n",
       "113                                            mochila     1605001651  \n",
       "114                                           bostezos     1605001651  \n",
       "115                                               taza     1605001651  \n",
       "116                                             cómoda     1605001651  \n",
       "117               Si decide ayuda puede ser que lo que     1605001651  \n",
       "118                                           bravatas     1605001651  \n",
       "119    Aquel que puede orinar en la cama y decir que s     1605001651  \n",
       "120                                            picazón     1605001651  \n",
       "121                                           ciclamen     1605001651  \n",
       "122                                            desafío     1605001651  \n",
       "123                                           almohada     1605001651  \n",
       "124                                              punta     1605001651  \n",
       "125                                           chimenea     1605001651  \n",
       "126                                           Jactarse     1605001651  \n",
       "\n",
       "[127 rows x 3 columns]"
      ]
     },
     "execution_count": 20,
     "metadata": {},
     "output_type": "execute_result"
    }
   ],
   "source": [
    "dicDf = make_dicdf(src, dest, cadera_path)\n",
    "dicDf"
   ]
  },
  {
   "cell_type": "code",
   "execution_count": 21,
   "metadata": {},
   "outputs": [
    {
     "name": "stdout",
     "output_type": "stream",
     "text": [
      "Created GOTA file /Users/pabloherrero/Documents/ManHatTan/GOTAs/Io_Uccido.got\n"
     ]
    },
    {
     "data": {
      "text/plain": [
       "'/Users/pabloherrero/Documents/ManHatTan/GOTAs/Io_Uccido.got'"
      ]
     },
     "execution_count": 21,
     "metadata": {},
     "output_type": "execute_result"
    }
   ],
   "source": [
    "write_gota(cadera_path, dicDf)"
   ]
  },
  {
   "cell_type": "code",
   "execution_count": null,
   "metadata": {},
   "outputs": [],
   "source": []
  }
 ],
 "metadata": {
  "kernelspec": {
   "display_name": "Python 3",
   "language": "python",
   "name": "python3"
  },
  "language_info": {
   "codemirror_mode": {
    "name": "ipython",
    "version": 3
   },
   "file_extension": ".py",
   "mimetype": "text/x-python",
   "name": "python",
   "nbconvert_exporter": "python",
   "pygments_lexer": "ipython3",
   "version": "3.7.1"
  },
  "toc": {
   "base_numbering": 1,
   "nav_menu": {},
   "number_sections": true,
   "sideBar": true,
   "skip_h1_title": false,
   "title_cell": "Table of Contents",
   "title_sidebar": "Contents",
   "toc_cell": false,
   "toc_position": {},
   "toc_section_display": true,
   "toc_window_display": false
  }
 },
 "nbformat": 4,
 "nbformat_minor": 2
}

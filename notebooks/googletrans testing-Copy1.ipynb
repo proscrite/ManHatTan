{
 "cells": [
  {
   "cell_type": "code",
   "execution_count": 50,
   "metadata": {},
   "outputs": [],
   "source": [
    "from googletrans import Translator\n",
    "translator = Translator()\n",
    "import pandas as pd\n",
    "import numpy as np\n",
    "import os"
   ]
  },
  {
   "cell_type": "markdown",
   "metadata": {
    "heading_collapsed": true
   },
   "source": [
    "## Testing the package "
   ]
  },
  {
   "cell_type": "code",
   "execution_count": 40,
   "metadata": {
    "hidden": true
   },
   "outputs": [
    {
     "name": "stdout",
     "output_type": "stream",
     "text": [
      "Invalid lang\n",
      "['af', 'sq', 'am', 'ar', 'hy', 'az', 'eu', 'be', 'bn', 'bs', 'bg', 'ca', 'ceb', 'ny', 'zh-cn', 'zh-tw', 'co', 'hr', 'cs', 'da', 'nl', 'en', 'eo', 'et', 'tl', 'fi', 'fr', 'fy', 'gl', 'ka', 'de', 'el', 'gu', 'ht', 'ha', 'haw', 'iw', 'hi', 'hmn', 'hu', 'is', 'ig', 'id', 'ga', 'it', 'ja', 'jw', 'kn', 'kk', 'km', 'ko', 'ku', 'ky', 'lo', 'la', 'lv', 'lt', 'lb', 'mk', 'mg', 'ms', 'ml', 'mt', 'mi', 'mr', 'mn', 'my', 'ne', 'no', 'ps', 'fa', 'pl', 'pt', 'pa', 'ro', 'ru', 'sm', 'gd', 'sr', 'st', 'sn', 'sd', 'si', 'sk', 'sl', 'so', 'es', 'su', 'sw', 'sv', 'tg', 'ta', 'te', 'th', 'tr', 'uk', 'ur', 'uz', 'vi', 'cy', 'xh', 'yi', 'yo', 'zu', 'fil', 'he']\n"
     ]
    }
   ],
   "source": [
    "from googletrans import LANGCODES\n",
    "langKeys = list(LANGUAGES.keys())\n",
    "if 'ax' not in langKeys:\n",
    "    print('Invalid lang')\n",
    "print(langKeys)"
   ]
  },
  {
   "cell_type": "code",
   "execution_count": 2,
   "metadata": {
    "hidden": true,
    "scrolled": true
   },
   "outputs": [
    {
     "data": {
      "text/plain": [
       "('en', 0.70463574)"
      ]
     },
     "execution_count": 2,
     "metadata": {},
     "output_type": "execute_result"
    }
   ],
   "source": [
    "translator.detect('ciao').lang, translator.detect('ciao').confidence"
   ]
  },
  {
   "cell_type": "markdown",
   "metadata": {
    "hidden": true
   },
   "source": [
    "#####  Google's translate API might be blocking the IP, tested with"
   ]
  },
  {
   "cell_type": "code",
   "execution_count": 21,
   "metadata": {
    "hidden": true
   },
   "outputs": [
    {
     "data": {
      "text/plain": [
       "('Hello', 'Hello')"
      ]
     },
     "execution_count": 21,
     "metadata": {},
     "output_type": "execute_result"
    }
   ],
   "source": [
    "translator.translate('ciao', src='it', dest='en').text, translator.translate('ciao', src='it', dest='en').pronunciation"
   ]
  },
  {
   "cell_type": "code",
   "execution_count": 23,
   "metadata": {
    "hidden": true
   },
   "outputs": [
    {
     "data": {
      "text/plain": [
       "'ciao'"
      ]
     },
     "execution_count": 23,
     "metadata": {},
     "output_type": "execute_result"
    }
   ],
   "source": [
    "translator.translate('ciao', src='it', dest='en')."
   ]
  },
  {
   "cell_type": "code",
   "execution_count": 22,
   "metadata": {
    "hidden": true
   },
   "outputs": [
    {
     "data": {
      "text/plain": [
       "{'translation': [['Hello', 'ciao', None, None, 1]],\n",
       " 'all-translations': [['interjection',\n",
       "   ['Hello!',\n",
       "    'Hi!',\n",
       "    'Bye!',\n",
       "    'Bye-Bye!',\n",
       "    'Hallo!',\n",
       "    'So long!',\n",
       "    'Cheerio!',\n",
       "    'Hullo!'],\n",
       "   [['Hello!',\n",
       "     ['Ciao!', 'Salve!', 'Pronto!', 'Pronto?', 'Piacere!'],\n",
       "     None,\n",
       "     0.5028316],\n",
       "    ['Hi!', ['Ciao!', 'Salve!', 'Piacere!'], None, 0.22313017],\n",
       "    ['Bye!', ['Arrivederci!', 'Ciao!', 'Addio!']],\n",
       "    ['Bye-Bye!', ['Arrivederci!', 'Arrivederla!', 'Ciao!', 'Addio!']],\n",
       "    ['Hallo!', ['Ciao!', 'Salve!', 'Pronto!']],\n",
       "    ['So long!', ['Ci vediamo!', 'Ciao!']],\n",
       "    ['Cheerio!', ['Cincin!', 'Ciao!']],\n",
       "    ['Hullo!', ['Pronto!', 'Ciao!']]],\n",
       "   'Ciao!',\n",
       "   9]],\n",
       " 'original-language': 'it',\n",
       " 'possible-translations': [['ciao',\n",
       "   None,\n",
       "   [['Hello', 1000, True, False], ['Hi', 1000, True, False]],\n",
       "   [[0, 4]],\n",
       "   'ciao',\n",
       "   0,\n",
       "   0]],\n",
       " 'confidence': 0.9629139,\n",
       " 'possible-mistakes': None,\n",
       " 'language': [['it'], None, [0.9629139], ['it']],\n",
       " 'synonyms': None,\n",
       " 'definitions': None,\n",
       " 'examples': None,\n",
       " 'see-also': None}"
      ]
     },
     "execution_count": 22,
     "metadata": {},
     "output_type": "execute_result"
    }
   ],
   "source": [
    "translator.translate('ciao', src='it', dest='en').extra_data"
   ]
  },
  {
   "cell_type": "markdown",
   "metadata": {},
   "source": [
    "# Apply on data [tests] "
   ]
  },
  {
   "cell_type": "code",
   "execution_count": 10,
   "metadata": {},
   "outputs": [],
   "source": [
    "cadera_path = '/Users/pabloherrero/Documents/ManHatTan/Notizen aus _Siddhartha_ eine indische Dichtung (German Edition)_.cder'\n",
    "df = pd.read_csv(cadera_path, index_col=0)\n",
    "de = df.blue.dropna()\n",
    "de.name = 'de'"
   ]
  },
  {
   "cell_type": "code",
   "execution_count": 5,
   "metadata": {
    "scrolled": true
   },
   "outputs": [
    {
     "data": {
      "text/plain": [
       "0     silently stood siddhartha in the vertical sunb...\n",
       "1     not an instant I doubted you. I do not have in...\n",
       "2     robbed me of buddha, siddhartha thought, he ro...\n",
       "3     siddhartha that has stayed with me so strange ...\n",
       "4     \"If a writer reads one whose sense he wants to...\n",
       "5     but he did this himself really never found bec...\n",
       "6                                        shaggy beggar,\n",
       "7                                               stylus,\n",
       "8                                                leaves\n",
       "9                                              flexible\n",
       "10                                        müdgewordenen\n",
       "11                                              welfare\n",
       "12                                             servants\n",
       "13                                               sermon\n",
       "14                                            gradually\n",
       "15                                               potter\n",
       "16                                               lulled\n",
       "17                                               always\n",
       "18                                               envied\n",
       "19                                  were able to settle\n",
       "20                                              anxious\n",
       "21                                       children folly\n",
       "22                                                 veil\n",
       "23                                                 line\n",
       "24                                              disgust\n",
       "25                                         covetousness\n",
       "26                                          törichteste\n",
       "27                                             trinkets\n",
       "28                                         contemptuous\n",
       "29                                               custom\n",
       "30                                                 fury\n",
       "31                                              naughty\n",
       "32                                  gamble and squander\n",
       "33                                             wretched\n",
       "34                                           verhöhnend\n",
       "35                                             serenity\n",
       "36                                                  hid\n",
       "37                                                 sigh\n",
       "38                                               fervor\n",
       "Name: en, dtype: object"
      ]
     },
     "execution_count": 5,
     "metadata": {},
     "output_type": "execute_result"
    }
   ],
   "source": [
    "trans = [translator.translate(w, src='de', dest='en') for w in en]\n",
    "en = pd.Series([w.text for w in trans], name='en')\n",
    "en"
   ]
  },
  {
   "cell_type": "code",
   "execution_count": 9,
   "metadata": {},
   "outputs": [
    {
     "data": {
      "text/plain": [
       "0     schweigend soportar Siddhartha im senkrechten ...\n",
       "1     nicht einen augenblick habe ich dir un gezweif...\n",
       "2     beraubt der mich buda sombrero, dachte Siddhar...\n",
       "3     Dass Siddhartha mir por lo fremd und ist unbek...\n",
       "4     \"Wenn einer Eine schrift liest, deren Sinn er ...\n",
       "5     aber matrices hatte er NIE Selbst wirklich gef...\n",
       "6                                   bettler struppiger,\n",
       "7                                              Griffel,\n",
       "8                                                  Laub\n",
       "9                                               biegsam\n",
       "10                                        müdgewordenen\n",
       "11                                          wohlergehen\n",
       "12                                         dienerschaft\n",
       "13                                              predigt\n",
       "14                                           allmählich\n",
       "15                                              töpfers\n",
       "16                                           schläferte\n",
       "17                                                stets\n",
       "18                                            beneidete\n",
       "19                                beizulegen vermochten\n",
       "20                                                Bange\n",
       "21                                        kindertorheit\n",
       "22                                             Schleier\n",
       "23                                               säumen\n",
       "24                                                 Ekel\n",
       "25                                       begehrlichkeit\n",
       "26                                          törichteste\n",
       "27                                                 tand\n",
       "28                                           schnödeste\n",
       "29                                                sitte\n",
       "30                                                  wuT\n",
       "31                                                Frech\n",
       "32                         verspielen und verschleudern\n",
       "33                                              elenden\n",
       "34                                           verhöhnend\n",
       "35                                         Gelassenheit\n",
       "36                                              verbarg\n",
       "37                                             geseufzt\n",
       "38                                             Inbrunst\n",
       "Name: es, dtype: object"
      ]
     },
     "execution_count": 9,
     "metadata": {},
     "output_type": "execute_result"
    }
   ],
   "source": [
    "es"
   ]
  },
  {
   "cell_type": "markdown",
   "metadata": {},
   "source": [
    "## Append both columns in dictionary df"
   ]
  },
  {
   "cell_type": "code",
   "execution_count": 11,
   "metadata": {},
   "outputs": [
    {
     "data": {
      "text/html": [
       "<div>\n",
       "<style scoped>\n",
       "    .dataframe tbody tr th:only-of-type {\n",
       "        vertical-align: middle;\n",
       "    }\n",
       "\n",
       "    .dataframe tbody tr th {\n",
       "        vertical-align: top;\n",
       "    }\n",
       "\n",
       "    .dataframe thead th {\n",
       "        text-align: right;\n",
       "    }\n",
       "</style>\n",
       "<table border=\"1\" class=\"dataframe\">\n",
       "  <thead>\n",
       "    <tr style=\"text-align: right;\">\n",
       "      <th></th>\n",
       "      <th>de</th>\n",
       "      <th>en</th>\n",
       "    </tr>\n",
       "  </thead>\n",
       "  <tbody>\n",
       "    <tr>\n",
       "      <th>0</th>\n",
       "      <td>schweigend stand siddhartha im senkrechten son...</td>\n",
       "      <td>silently stood siddhartha in the vertical sunb...</td>\n",
       "    </tr>\n",
       "    <tr>\n",
       "      <th>1</th>\n",
       "      <td>nicht einen augenblick habe ich an dir gezweif...</td>\n",
       "      <td>not an instant I doubted you. I do not have in...</td>\n",
       "    </tr>\n",
       "    <tr>\n",
       "      <th>2</th>\n",
       "      <td>beraubt hat mich der buddha, dachte siddhartha...</td>\n",
       "      <td>robbed me of buddha, siddhartha thought, he ro...</td>\n",
       "    </tr>\n",
       "    <tr>\n",
       "      <th>3</th>\n",
       "      <td>daß siddhartha mir so fremd und unbekannt gebl...</td>\n",
       "      <td>siddhartha that has stayed with me so strange ...</td>\n",
       "    </tr>\n",
       "    <tr>\n",
       "      <th>4</th>\n",
       "      <td>\"wenn einer eine schrift liest, deren sinn er ...</td>\n",
       "      <td>\"If a writer reads one whose sense he wants to...</td>\n",
       "    </tr>\n",
       "    <tr>\n",
       "      <th>5</th>\n",
       "      <td>aber nie hatte er dies selbst wirklich gefunde...</td>\n",
       "      <td>but he did this himself really never found bec...</td>\n",
       "    </tr>\n",
       "    <tr>\n",
       "      <th>6</th>\n",
       "      <td>struppiger bettler,</td>\n",
       "      <td>shaggy beggar,</td>\n",
       "    </tr>\n",
       "    <tr>\n",
       "      <th>7</th>\n",
       "      <td>griffel,</td>\n",
       "      <td>stylus,</td>\n",
       "    </tr>\n",
       "    <tr>\n",
       "      <th>8</th>\n",
       "      <td>laub</td>\n",
       "      <td>leaves</td>\n",
       "    </tr>\n",
       "    <tr>\n",
       "      <th>9</th>\n",
       "      <td>biegsam</td>\n",
       "      <td>flexible</td>\n",
       "    </tr>\n",
       "    <tr>\n",
       "      <th>10</th>\n",
       "      <td>müdgewordenen</td>\n",
       "      <td>müdgewordenen</td>\n",
       "    </tr>\n",
       "    <tr>\n",
       "      <th>11</th>\n",
       "      <td>wohlergehen</td>\n",
       "      <td>welfare</td>\n",
       "    </tr>\n",
       "    <tr>\n",
       "      <th>12</th>\n",
       "      <td>dienerschaft</td>\n",
       "      <td>servants</td>\n",
       "    </tr>\n",
       "    <tr>\n",
       "      <th>13</th>\n",
       "      <td>predigt</td>\n",
       "      <td>sermon</td>\n",
       "    </tr>\n",
       "    <tr>\n",
       "      <th>14</th>\n",
       "      <td>allmählich</td>\n",
       "      <td>gradually</td>\n",
       "    </tr>\n",
       "    <tr>\n",
       "      <th>15</th>\n",
       "      <td>töpfers</td>\n",
       "      <td>potter</td>\n",
       "    </tr>\n",
       "    <tr>\n",
       "      <th>16</th>\n",
       "      <td>schläferte</td>\n",
       "      <td>lulled</td>\n",
       "    </tr>\n",
       "    <tr>\n",
       "      <th>17</th>\n",
       "      <td>stets</td>\n",
       "      <td>always</td>\n",
       "    </tr>\n",
       "    <tr>\n",
       "      <th>18</th>\n",
       "      <td>beneidete</td>\n",
       "      <td>envied</td>\n",
       "    </tr>\n",
       "    <tr>\n",
       "      <th>19</th>\n",
       "      <td>beizulegen vermochten</td>\n",
       "      <td>were able to settle</td>\n",
       "    </tr>\n",
       "    <tr>\n",
       "      <th>20</th>\n",
       "      <td>bange</td>\n",
       "      <td>anxious</td>\n",
       "    </tr>\n",
       "    <tr>\n",
       "      <th>21</th>\n",
       "      <td>kindertorheit</td>\n",
       "      <td>children folly</td>\n",
       "    </tr>\n",
       "    <tr>\n",
       "      <th>22</th>\n",
       "      <td>schleier</td>\n",
       "      <td>veil</td>\n",
       "    </tr>\n",
       "    <tr>\n",
       "      <th>23</th>\n",
       "      <td>säumen</td>\n",
       "      <td>line</td>\n",
       "    </tr>\n",
       "    <tr>\n",
       "      <th>24</th>\n",
       "      <td>ekel</td>\n",
       "      <td>disgust</td>\n",
       "    </tr>\n",
       "    <tr>\n",
       "      <th>25</th>\n",
       "      <td>begehrlichkeit</td>\n",
       "      <td>covetousness</td>\n",
       "    </tr>\n",
       "    <tr>\n",
       "      <th>26</th>\n",
       "      <td>törichteste</td>\n",
       "      <td>törichteste</td>\n",
       "    </tr>\n",
       "    <tr>\n",
       "      <th>27</th>\n",
       "      <td>tand</td>\n",
       "      <td>trinkets</td>\n",
       "    </tr>\n",
       "    <tr>\n",
       "      <th>28</th>\n",
       "      <td>schnödeste</td>\n",
       "      <td>contemptuous</td>\n",
       "    </tr>\n",
       "    <tr>\n",
       "      <th>29</th>\n",
       "      <td>sitte</td>\n",
       "      <td>custom</td>\n",
       "    </tr>\n",
       "    <tr>\n",
       "      <th>30</th>\n",
       "      <td>wut</td>\n",
       "      <td>fury</td>\n",
       "    </tr>\n",
       "    <tr>\n",
       "      <th>31</th>\n",
       "      <td>frech</td>\n",
       "      <td>naughty</td>\n",
       "    </tr>\n",
       "    <tr>\n",
       "      <th>32</th>\n",
       "      <td>verspielen und verschleudern</td>\n",
       "      <td>gamble and squander</td>\n",
       "    </tr>\n",
       "    <tr>\n",
       "      <th>33</th>\n",
       "      <td>elenden</td>\n",
       "      <td>wretched</td>\n",
       "    </tr>\n",
       "    <tr>\n",
       "      <th>34</th>\n",
       "      <td>verhöhnend</td>\n",
       "      <td>verhöhnend</td>\n",
       "    </tr>\n",
       "    <tr>\n",
       "      <th>35</th>\n",
       "      <td>gelassenheit</td>\n",
       "      <td>serenity</td>\n",
       "    </tr>\n",
       "    <tr>\n",
       "      <th>36</th>\n",
       "      <td>verbarg</td>\n",
       "      <td>hid</td>\n",
       "    </tr>\n",
       "    <tr>\n",
       "      <th>37</th>\n",
       "      <td>geseufzt</td>\n",
       "      <td>sigh</td>\n",
       "    </tr>\n",
       "    <tr>\n",
       "      <th>38</th>\n",
       "      <td>inbrunst</td>\n",
       "      <td>fervor</td>\n",
       "    </tr>\n",
       "  </tbody>\n",
       "</table>\n",
       "</div>"
      ],
      "text/plain": [
       "                                                   de  \\\n",
       "0   schweigend stand siddhartha im senkrechten son...   \n",
       "1   nicht einen augenblick habe ich an dir gezweif...   \n",
       "2   beraubt hat mich der buddha, dachte siddhartha...   \n",
       "3   daß siddhartha mir so fremd und unbekannt gebl...   \n",
       "4   \"wenn einer eine schrift liest, deren sinn er ...   \n",
       "5   aber nie hatte er dies selbst wirklich gefunde...   \n",
       "6                                 struppiger bettler,   \n",
       "7                                            griffel,   \n",
       "8                                                laub   \n",
       "9                                             biegsam   \n",
       "10                                      müdgewordenen   \n",
       "11                                        wohlergehen   \n",
       "12                                       dienerschaft   \n",
       "13                                            predigt   \n",
       "14                                         allmählich   \n",
       "15                                            töpfers   \n",
       "16                                         schläferte   \n",
       "17                                              stets   \n",
       "18                                          beneidete   \n",
       "19                              beizulegen vermochten   \n",
       "20                                              bange   \n",
       "21                                      kindertorheit   \n",
       "22                                           schleier   \n",
       "23                                             säumen   \n",
       "24                                               ekel   \n",
       "25                                     begehrlichkeit   \n",
       "26                                        törichteste   \n",
       "27                                               tand   \n",
       "28                                         schnödeste   \n",
       "29                                              sitte   \n",
       "30                                                wut   \n",
       "31                                              frech   \n",
       "32                       verspielen und verschleudern   \n",
       "33                                            elenden   \n",
       "34                                         verhöhnend   \n",
       "35                                       gelassenheit   \n",
       "36                                            verbarg   \n",
       "37                                           geseufzt   \n",
       "38                                           inbrunst   \n",
       "\n",
       "                                                   en  \n",
       "0   silently stood siddhartha in the vertical sunb...  \n",
       "1   not an instant I doubted you. I do not have in...  \n",
       "2   robbed me of buddha, siddhartha thought, he ro...  \n",
       "3   siddhartha that has stayed with me so strange ...  \n",
       "4   \"If a writer reads one whose sense he wants to...  \n",
       "5   but he did this himself really never found bec...  \n",
       "6                                      shaggy beggar,  \n",
       "7                                             stylus,  \n",
       "8                                              leaves  \n",
       "9                                            flexible  \n",
       "10                                      müdgewordenen  \n",
       "11                                            welfare  \n",
       "12                                           servants  \n",
       "13                                             sermon  \n",
       "14                                          gradually  \n",
       "15                                             potter  \n",
       "16                                             lulled  \n",
       "17                                             always  \n",
       "18                                             envied  \n",
       "19                                were able to settle  \n",
       "20                                            anxious  \n",
       "21                                     children folly  \n",
       "22                                               veil  \n",
       "23                                               line  \n",
       "24                                            disgust  \n",
       "25                                       covetousness  \n",
       "26                                        törichteste  \n",
       "27                                           trinkets  \n",
       "28                                       contemptuous  \n",
       "29                                             custom  \n",
       "30                                               fury  \n",
       "31                                            naughty  \n",
       "32                                gamble and squander  \n",
       "33                                           wretched  \n",
       "34                                         verhöhnend  \n",
       "35                                           serenity  \n",
       "36                                                hid  \n",
       "37                                               sigh  \n",
       "38                                             fervor  "
      ]
     },
     "execution_count": 11,
     "metadata": {},
     "output_type": "execute_result"
    }
   ],
   "source": [
    "dicdf = pd.DataFrame([de, en]).T\n",
    "dicdf"
   ]
  },
  {
   "cell_type": "markdown",
   "metadata": {},
   "source": [
    "## Write file with translated df"
   ]
  },
  {
   "cell_type": "code",
   "execution_count": 62,
   "metadata": {},
   "outputs": [
    {
     "name": "stdout",
     "output_type": "stream",
     "text": [
      "Created CADERA file /Users/pabloherrero/Documents/ManHatTan/GOTAs/Notizen aus _Siddhartha_ eine indische Dichtung (German Edition)_.got\n"
     ]
    }
   ],
   "source": [
    "basename = os.path.splitext(os.path.abspath(cadera_path))[0]\n",
    "path, filename = os.path.split(cadera_path)\n",
    "basename = os.path.splitext(filename)[0]\n",
    "fpath = os.path.join(path, 'GOTAs', basename+'.got')\n",
    "\n",
    "dicdf.to_csv(fpath)\n",
    "print('Created CADERA file %s' %fpath)"
   ]
  },
  {
   "cell_type": "markdown",
   "metadata": {
    "heading_collapsed": true
   },
   "source": [
    "## Detect translation failures"
   ]
  },
  {
   "cell_type": "code",
   "execution_count": 12,
   "metadata": {
    "hidden": true
   },
   "outputs": [
    {
     "data": {
      "text/plain": [
       "('en', 1.0)"
      ]
     },
     "execution_count": 12,
     "metadata": {},
     "output_type": "execute_result"
    }
   ],
   "source": [
    "translator.detect(en[1]).lang, translator.detect(en[1]).confidence"
   ]
  },
  {
   "cell_type": "code",
   "execution_count": 13,
   "metadata": {
    "hidden": true
   },
   "outputs": [
    {
     "data": {
      "text/plain": [
       "(['de',\n",
       "  'de',\n",
       "  'de',\n",
       "  'de',\n",
       "  'de',\n",
       "  'de',\n",
       "  'de',\n",
       "  'de',\n",
       "  'en',\n",
       "  'de',\n",
       "  'de',\n",
       "  'de',\n",
       "  'de',\n",
       "  'de',\n",
       "  'de',\n",
       "  'de',\n",
       "  'de',\n",
       "  'de',\n",
       "  'de',\n",
       "  'de',\n",
       "  'dazh-CN',\n",
       "  'de',\n",
       "  'de',\n",
       "  'de',\n",
       "  'de',\n",
       "  'de',\n",
       "  'de',\n",
       "  'nl',\n",
       "  'de',\n",
       "  'nofi',\n",
       "  'en',\n",
       "  'de',\n",
       "  'de',\n",
       "  'af',\n",
       "  'de',\n",
       "  'de',\n",
       "  'de',\n",
       "  'de',\n",
       "  'de'],\n",
       " [1.0,\n",
       "  1.0,\n",
       "  1.0,\n",
       "  1.0,\n",
       "  1.0,\n",
       "  1.0,\n",
       "  1.0,\n",
       "  0.66926074,\n",
       "  0.69462645,\n",
       "  1.0,\n",
       "  0.963038,\n",
       "  1.0,\n",
       "  0.940574,\n",
       "  1.0,\n",
       "  1.0,\n",
       "  0.9830669,\n",
       "  1.0,\n",
       "  0.921875,\n",
       "  1.0,\n",
       "  1.0,\n",
       "  0.5,\n",
       "  0.87118214,\n",
       "  1.0,\n",
       "  1.0,\n",
       "  0.98828125,\n",
       "  1.0,\n",
       "  1.0,\n",
       "  0.33590734,\n",
       "  1.0,\n",
       "  0.53125,\n",
       "  0.73307294,\n",
       "  0.88235295,\n",
       "  1.0,\n",
       "  1.0,\n",
       "  1.0,\n",
       "  1.0,\n",
       "  1.0,\n",
       "  0.42490163,\n",
       "  1.0])"
      ]
     },
     "execution_count": 13,
     "metadata": {},
     "output_type": "execute_result"
    }
   ],
   "source": [
    "[translator.detect(w).lang for w in es], [translator.detect(w).confidence for w in es], "
   ]
  },
  {
   "cell_type": "markdown",
   "metadata": {
    "hidden": true
   },
   "source": [
    "##### In this case both translations were detected as failed, though only the first one, 'dauntlessly' was\n",
    "Thus, by checking with detect we're introducing an additional complication...\n",
    "\n",
    "We could relax this by trusting that the translation is reliable as long as it is in a different language than the original"
   ]
  },
  {
   "cell_type": "code",
   "execution_count": 212,
   "metadata": {
    "hidden": true
   },
   "outputs": [
    {
     "data": {
      "text/plain": [
       "array([0])"
      ]
     },
     "execution_count": 212,
     "metadata": {},
     "output_type": "execute_result"
    }
   ],
   "source": [
    "fails = np.where(translator.detect(w).lang == 'en' for w in es)[0]\n",
    "# src = [w.src for w in trans]\n",
    "fails"
   ]
  },
  {
   "cell_type": "markdown",
   "metadata": {
    "hidden": true
   },
   "source": [
    "### In this case, let's see what the details say"
   ]
  },
  {
   "cell_type": "code",
   "execution_count": 150,
   "metadata": {
    "cell_style": "split",
    "hidden": true
   },
   "outputs": [
    {
     "data": {
      "text/plain": [
       "{'translation': [['dauntlessly', 'dauntlessly', None, None, 0]],\n",
       " 'all-translations': None,\n",
       " 'original-language': 'en',\n",
       " 'possible-translations': [['dauntlessly',\n",
       "   None,\n",
       "   [['dauntlessly', 998, True, False],\n",
       "    ['sin desánimo', 1, True, False],\n",
       "    ['impávido', 0, True, False],\n",
       "    ['denodadamente', 0, True, False],\n",
       "    ['intrépidamente', 0, True, False]],\n",
       "   [[0, 11]],\n",
       "   'dauntlessly',\n",
       "   0,\n",
       "   1]],\n",
       " 'confidence': 1.0,\n",
       " 'possible-mistakes': None,\n",
       " 'language': [['en'], None, [1.0], ['en']],\n",
       " 'synonyms': [['adverbio',\n",
       "   [[['intrepidly', 'fearlessly'], '']],\n",
       "   'dauntlessly']],\n",
       " 'definitions': None,\n",
       " 'examples': None,\n",
       " 'see-also': None}"
      ]
     },
     "execution_count": 150,
     "metadata": {},
     "output_type": "execute_result"
    }
   ],
   "source": [
    "trans[fails[0]].extra_data"
   ]
  },
  {
   "cell_type": "code",
   "execution_count": 145,
   "metadata": {
    "cell_style": "split",
    "hidden": true
   },
   "outputs": [
    {
     "data": {
      "text/plain": [
       "[['adverbio', [[['intrepidly', 'fearlessly'], '']], 'dauntlessly']]"
      ]
     },
     "execution_count": 145,
     "metadata": {},
     "output_type": "execute_result"
    }
   ],
   "source": [
    "trans[fails[0]].extra_data['synonyms']"
   ]
  },
  {
   "cell_type": "markdown",
   "metadata": {
    "hidden": true
   },
   "source": [
    "### Get next option from possible translations"
   ]
  },
  {
   "cell_type": "code",
   "execution_count": 166,
   "metadata": {
    "cell_style": "split",
    "code_folding": [],
    "hidden": true
   },
   "outputs": [],
   "source": [
    "from copy import deepcopy\n",
    "\n",
    "def flatten_str_list(nested_list):\n",
    "    \"\"\"Flatten an arbitrarily nested list, without recursion (to avoid\n",
    "    stack overflows). Returns a new list, the original list is unchanged.\n",
    "    >> list(flatten_list([1, 2, 3, [4], [], [[[[[[[[[5]]]]]]]]]]))\n",
    "    [1, 2, 3, 4, 5]\n",
    "    >> list(flatten_list([[1, 2], 3]))\n",
    "    [1, 2, 3]\n",
    "    \"\"\"\n",
    "    nested_list = deepcopy(nested_list)\n",
    "    \n",
    "    while nested_list:\n",
    "        sublist = nested_list.pop(0)\n",
    "\n",
    "        if isinstance(sublist, list):\n",
    "            nested_list = sublist + nested_list\n",
    "        else:\n",
    "            if type(sublist) == str:\n",
    "                yield sublist"
   ]
  },
  {
   "cell_type": "code",
   "execution_count": 169,
   "metadata": {
    "cell_style": "split",
    "hidden": true
   },
   "outputs": [
    {
     "data": {
      "text/plain": [
       "['dauntlessly',\n",
       " 'dauntlessly',\n",
       " 'sin desánimo',\n",
       " 'impávido',\n",
       " 'denodadamente',\n",
       " 'intrépidamente',\n",
       " 'dauntlessly']"
      ]
     },
     "execution_count": 169,
     "metadata": {},
     "output_type": "execute_result"
    }
   ],
   "source": [
    "possibleTrans = trans[fails[0]].extra_data['possible-translations']\n",
    "possibleTrans = [w for w in flatten_list(possibleTrans)]\n",
    "possibleTrans"
   ]
  },
  {
   "cell_type": "code",
   "execution_count": 175,
   "metadata": {
    "cell_style": "split",
    "hidden": true
   },
   "outputs": [
    {
     "data": {
      "text/plain": [
       "'sin desánimo'"
      ]
     },
     "execution_count": 175,
     "metadata": {},
     "output_type": "execute_result"
    }
   ],
   "source": [
    "possibleTrans[np.where([translator.detect(w).lang != 'en' for w in possibleTrans])[0][0]]"
   ]
  },
  {
   "cell_type": "markdown",
   "metadata": {
    "heading_collapsed": true
   },
   "source": [
    "## Auto-detect likely overall source language"
   ]
  },
  {
   "cell_type": "markdown",
   "metadata": {
    "hidden": true
   },
   "source": [
    "##### We will use the translated [es] Series for testing since it may contain translation failures"
   ]
  },
  {
   "cell_type": "code",
   "execution_count": 416,
   "metadata": {
    "hidden": true
   },
   "outputs": [],
   "source": [
    "lang = [translator.detect(w).lang for w in es]\n",
    "conf = [translator.detect(w).confidence for w in es]"
   ]
  },
  {
   "cell_type": "markdown",
   "metadata": {
    "hidden": true
   },
   "source": [
    "##### Arrange detected languages and confidence level in \"unbinned\" dataframe"
   ]
  },
  {
   "cell_type": "code",
   "execution_count": 417,
   "metadata": {
    "cell_style": "split",
    "hidden": true
   },
   "outputs": [
    {
     "data": {
      "text/html": [
       "<div>\n",
       "<style scoped>\n",
       "    .dataframe tbody tr th:only-of-type {\n",
       "        vertical-align: middle;\n",
       "    }\n",
       "\n",
       "    .dataframe tbody tr th {\n",
       "        vertical-align: top;\n",
       "    }\n",
       "\n",
       "    .dataframe thead th {\n",
       "        text-align: right;\n",
       "    }\n",
       "</style>\n",
       "<table border=\"1\" class=\"dataframe\">\n",
       "  <thead>\n",
       "    <tr style=\"text-align: right;\">\n",
       "      <th></th>\n",
       "      <th>0</th>\n",
       "      <th>1</th>\n",
       "      <th>2</th>\n",
       "      <th>3</th>\n",
       "      <th>4</th>\n",
       "      <th>5</th>\n",
       "      <th>6</th>\n",
       "      <th>7</th>\n",
       "      <th>8</th>\n",
       "      <th>9</th>\n",
       "      <th>...</th>\n",
       "      <th>64</th>\n",
       "      <th>65</th>\n",
       "      <th>66</th>\n",
       "      <th>67</th>\n",
       "      <th>68</th>\n",
       "      <th>69</th>\n",
       "      <th>70</th>\n",
       "      <th>71</th>\n",
       "      <th>72</th>\n",
       "      <th>73</th>\n",
       "    </tr>\n",
       "  </thead>\n",
       "  <tbody>\n",
       "    <tr>\n",
       "      <th>lang</th>\n",
       "      <td>es</td>\n",
       "      <td>es</td>\n",
       "      <td>laes</td>\n",
       "      <td>es</td>\n",
       "      <td>it</td>\n",
       "      <td>es</td>\n",
       "      <td>es</td>\n",
       "      <td>es</td>\n",
       "      <td>ptes</td>\n",
       "      <td>ites</td>\n",
       "      <td>...</td>\n",
       "      <td>espt</td>\n",
       "      <td>es</td>\n",
       "      <td>es</td>\n",
       "      <td>es</td>\n",
       "      <td>es</td>\n",
       "      <td>sv</td>\n",
       "      <td>es</td>\n",
       "      <td>gles</td>\n",
       "      <td>pt</td>\n",
       "      <td>ptes</td>\n",
       "    </tr>\n",
       "    <tr>\n",
       "      <th>conf</th>\n",
       "      <td>1</td>\n",
       "      <td>1</td>\n",
       "      <td>0.511719</td>\n",
       "      <td>1</td>\n",
       "      <td>0.609375</td>\n",
       "      <td>1</td>\n",
       "      <td>0.61344</td>\n",
       "      <td>1</td>\n",
       "      <td>0.509728</td>\n",
       "      <td>0.488281</td>\n",
       "      <td>...</td>\n",
       "      <td>0.621094</td>\n",
       "      <td>1</td>\n",
       "      <td>1</td>\n",
       "      <td>0.640625</td>\n",
       "      <td>1</td>\n",
       "      <td>0.356434</td>\n",
       "      <td>1</td>\n",
       "      <td>0.589844</td>\n",
       "      <td>0.75</td>\n",
       "      <td>0.509728</td>\n",
       "    </tr>\n",
       "  </tbody>\n",
       "</table>\n",
       "<p>2 rows × 74 columns</p>\n",
       "</div>"
      ],
      "text/plain": [
       "      0   1         2   3         4   5        6   7         8         9   \\\n",
       "lang  es  es      laes  es        it  es       es  es      ptes      ites   \n",
       "conf   1   1  0.511719   1  0.609375   1  0.61344   1  0.509728  0.488281   \n",
       "\n",
       "        ...           64  65  66        67  68        69  70        71    72  \\\n",
       "lang    ...         espt  es  es        es  es        sv  es      gles    pt   \n",
       "conf    ...     0.621094   1   1  0.640625   1  0.356434   1  0.589844  0.75   \n",
       "\n",
       "            73  \n",
       "lang      ptes  \n",
       "conf  0.509728  \n",
       "\n",
       "[2 rows x 74 columns]"
      ]
     },
     "execution_count": 417,
     "metadata": {},
     "output_type": "execute_result"
    }
   ],
   "source": [
    "dfLang = pd.DataFrame({'lang':lang, 'conf':conf})\n",
    "dfLang.T"
   ]
  },
  {
   "cell_type": "markdown",
   "metadata": {
    "hidden": true
   },
   "source": [
    "##### Group by languages, count occurrences and sum confidence (probabilities)"
   ]
  },
  {
   "cell_type": "code",
   "execution_count": 427,
   "metadata": {
    "cell_style": "split",
    "hidden": true
   },
   "outputs": [
    {
     "data": {
      "text/plain": [
       "{'es': 37,\n",
       " 'en': 13,\n",
       " 'pt': 3,\n",
       " 'it': 2,\n",
       " 'ro': 2,\n",
       " 'ites': 2,\n",
       " 'ptes': 2,\n",
       " 'laes': 1,\n",
       " 'lv': 1,\n",
       " 'esla': 1,\n",
       " 'id': 1,\n",
       " 'esgl': 1,\n",
       " 'espt': 1,\n",
       " 'sv': 1,\n",
       " 'gles': 1,\n",
       " 'sq': 1,\n",
       " 'esit': 1,\n",
       " 'tl': 1,\n",
       " 'ceb': 1,\n",
       " 'no': 1}"
      ]
     },
     "execution_count": 427,
     "metadata": {},
     "output_type": "execute_result"
    }
   ],
   "source": [
    "dictNorm = dfLang.lang.value_counts().to_dict()\n",
    "normFactor = sum(dictNorm.values())\n",
    "\n",
    "dictNorm"
   ]
  },
  {
   "cell_type": "code",
   "execution_count": 432,
   "metadata": {
    "cell_style": "split",
    "hidden": true
   },
   "outputs": [
    {
     "data": {
      "text/plain": [
       "{'ceb': 0.013513513513513514,\n",
       " 'en': 0.16151121472972974,\n",
       " 'es': 0.4588738939189189,\n",
       " 'esgl': 0.008039908108108108,\n",
       " 'esit': 0.007414029189189189,\n",
       " 'esla': 0.0071790540540540545,\n",
       " 'espt': 0.008393158783783784,\n",
       " 'gles': 0.007970861486486486,\n",
       " 'id': 0.004592483108108108,\n",
       " 'it': 0.011949667567567566,\n",
       " 'ites': 0.013196790540540541,\n",
       " 'laes': 0.006915118243243243,\n",
       " 'lv': 0.010522378378378378,\n",
       " 'no': 0.003000803243243243,\n",
       " 'pt': 0.037162162162162164,\n",
       " 'ptes': 0.013776423243243244,\n",
       " 'ro': 0.010700120945945947,\n",
       " 'sq': 0.01322135945945946,\n",
       " 'sv': 0.004816678783783784,\n",
       " 'tl': 0.00558629554054054}"
      ]
     },
     "execution_count": 432,
     "metadata": {},
     "output_type": "execute_result"
    }
   ],
   "source": [
    "a = dfLang.groupby('lang').sum().to_dict()['conf']\n",
    "dictWeights = {k: v / normFactor for k, v in a.items()}\n",
    "dictWeights"
   ]
  },
  {
   "cell_type": "markdown",
   "metadata": {
    "hidden": true
   },
   "source": [
    "##### The probability for each language results from summing over all occurrences the product of two factors:\n",
    "                - Occurrences_language / sum(occurrences_languages)\n",
    "                - confidence_occurrence \"\"\"\n",
    "\n",
    "The interpretation is the following: the more times a language appears as detected, the more likely the whole set was in that language. This probability is weighted by the confidence each detection carries with it.\n",
    "\n",
    "```Ret``` is a dictionary with each detected language and its final weighted probability \n",
    "\n",
    "Since, for computing purposes, we are summing over the probabilities"
   ]
  },
  {
   "cell_type": "code",
   "execution_count": 415,
   "metadata": {
    "hidden": true
   },
   "outputs": [
    {
     "data": {
      "text/plain": [
       "{'en': 0.8674614738037154,\n",
       " 'es': 0.00017079306624132108,\n",
       " 'hu': 8.761982923625447e-05,\n",
       " 'la': 0.00018765246762994934}"
      ]
     },
     "execution_count": 415,
     "metadata": {},
     "output_type": "execute_result"
    }
   ],
   "source": [
    "ret = dict()\n",
    "normFactor = sum(dictNorm.values())\n",
    "for key, language in dictWeights.items():\n",
    "    ret[key] = language*dictNorm.get(key, 1) / normFactor\n",
    "    \n",
    "maximum = max(ret, key=ret.get)\n",
    "ret"
   ]
  },
  {
   "cell_type": "markdown",
   "metadata": {
    "heading_collapsed": true,
    "hidden": true
   },
   "source": [
    "##### Return the language with maximum probability"
   ]
  },
  {
   "cell_type": "code",
   "execution_count": 357,
   "metadata": {
    "hidden": true
   },
   "outputs": [
    {
     "data": {
      "text/plain": [
       "('es', 0.84891670375)"
      ]
     },
     "execution_count": 357,
     "metadata": {},
     "output_type": "execute_result"
    }
   ],
   "source": [
    "maximum, ret[maximum]"
   ]
  },
  {
   "cell_type": "markdown",
   "metadata": {},
   "source": [
    "# Gather methods"
   ]
  },
  {
   "cell_type": "markdown",
   "metadata": {},
   "source": [
    "```RASHIB :\n",
    "        Raw Array of Sentences Highlighted In Book\n",
    "CADERA :\n",
    "        Color-Arranged Dataframe Extracted from RAshib\n",
    "GOTA:\n",
    "        GOogle-Translated Array ```"
   ]
  },
  {
   "cell_type": "code",
   "execution_count": 46,
   "metadata": {
    "code_folding": [
     9
    ]
   },
   "outputs": [],
   "source": [
    "class Translation:\n",
    "    from googletrans import Translator\n",
    "    def __init__(self, cadera : str, dest : str, src : str, color : str = 'blue') -> pd.Series :\n",
    "        \"\"\" Import source CADERA file and keep only column specified as 'color' \"\"\"\n",
    "        self.dfSrc = pd.read_csv(cadera, index_col=0)[color].dropna()\n",
    "        self.src : str = src\n",
    "        self.dest : str = dest\n",
    "        self.translator = Translator()\n",
    "        \n",
    "    def detect_src(self, N : int = 0):\n",
    "        \"\"\"Auto-detect languages in wordset given and arrange them by occurrences\n",
    "        Parameters:\n",
    "        N : int = 0\n",
    "            Number of words to sample from CADERA series. If left to 0, the whole Series is taken\"\"\"\n",
    "        \n",
    "        def compute_highest_scoring_language(dictNorm : dict, dictWeights : dict) -> dict:\n",
    "            \"\"\"Return highest scoring weighted language over the sample.\n",
    "            The probability for each language results from summing over all occurrences the product of two factors:\n",
    "                - Occurrences_language / sum(occurrences_languages)\n",
    "                - confidence_occurrence \"\"\"\n",
    "            ret = dict()\n",
    "            normFactor = sum(dictNorm.values())\n",
    "            for key, language in dictWeights.items():\n",
    "                ret[key] = language*dictNorm.get(key, 1) / normFactor\n",
    "            return ret\n",
    "        \n",
    "        if N != 0:\n",
    "            sample = self.dfSrc.sample(N)\n",
    "        else:\n",
    "            sample = self.dfSrc\n",
    "            \n",
    "        lang = [translator.detect(w).lang for w in sample]\n",
    "        conf = [translator.detect(w).confidence for w in sample]\n",
    "        dfLang = pd.DataFrame({'lang':lang, 'conf':conf})\n",
    "        \n",
    "        dictNorm = dfLang.lang.value_counts().to_dict()  # Dictionary with number of occurences per language\n",
    "        normFactor = sum(dictNorm.values())              # Total number of words in sample\n",
    "        \n",
    "        a = dfLang.groupby('lang').sum().to_dict()['conf']\n",
    "        dictWeights = {k: v / normFactor for k, v in a.items()}   # Weights per language, averaged by occurrences\n",
    "        \n",
    "        ret = compute_highest_scoring_language(dictNorm, dictWeights)\n",
    "        maximum = max(ret, key=ret.get)\n",
    "        self.src = maximum\n",
    "        return maximum, ret[maximum]\n",
    "\n",
    "    \n",
    "    def main_translate(self) -> list:\n",
    "        \"\"\"Translate dfSrc from src to dest language\n",
    "        Returns list of translate objects\"\"\"\n",
    "        trans = [self.translator.translate(w, src=self.src, dest=self.dest) for w in self.dfSrc]\n",
    "        return trans\n",
    "    \n",
    "    def arrange_dicDf(self) -> pd.DataFrame:\n",
    "        trans = self.main_translate()\n",
    "        dfDest = pd.Series([w.text for w in trans])\n",
    "        dicDf = pd.DataFrame({self.src : self.dfSrc,  self.dest: dfDest})\n",
    "        dicDf.names = [self.src, self.dest]\n",
    "        return dicDf\n",
    "    \n",
    "    def detect_fails(self, meth : str = 'dest'):\n",
    "        \"\"\"Fails are interpreted as words that remained untranslated (if using default method 'src')\n",
    "        or simply if the detected language doesn't correspond to 'dest'  \"\"\"\n",
    "        \n",
    "        trans = self.main_translate()\n",
    "        if meth == 'src':\n",
    "            fails = np.where(translator.detect(w).lang == self.src for w in trans)[0]\n",
    "        elif meth == 'dest':\n",
    "            fails = np.where(translator.detect(w).lang != self.dest for w in trans)[0]\n",
    "        return fails\n",
    "    \n",
    "    def fix_fails(self, meth : str = 'src'):\n",
    "        \"\"\"For failed translations, look into extra_data attribute 'possible-translation', flatten the list \n",
    "        and take the first one in the correct language\"\"\"\n",
    "        from copy import deepcopy\n",
    "        def flatten_str_list(nested_list):\n",
    "            \"\"\"Flatten an arbitrarily nested list, without recursion (to avoid\n",
    "            stack overflows). Returns a new list, the original list is unchanged.\n",
    "            >> list(flatten_list([1, 2, 3, [4], [], [[[[[[[[[5]]]]]]]]]]))\n",
    "            [1, 2, 3, 4, 5]\n",
    "            >> list(flatten_list([[1, 2], 3]))\n",
    "            [1, 2, 3]\n",
    "            Note: additionally, only return type 'str' elements\n",
    "            \"\"\"\n",
    "            nested_list = deepcopy(nested_list)\n",
    "\n",
    "            while nested_list:\n",
    "                sublist = nested_list.pop(0)\n",
    "\n",
    "                if isinstance(sublist, list):\n",
    "                    nested_list = sublist + nested_list\n",
    "                else:\n",
    "                    if type(sublist) == str:\n",
    "                        yield sublist\n",
    "        \n",
    "        trans = self.main_translate()\n",
    "        fails = self.detect_fails(meth)\n",
    "        fixes = []\n",
    "        for f in fails:\n",
    "            messy_list = trans[f].extra_data['possible-translations']\n",
    "            possibleTrans = [w for w in flatten_str_list(messy_list)]\n",
    "            fixes.append(  possibleTrans[ np.where( [translator.detect(w).lang == self.dest for w in possibleTrans] ) [0][0]  ]  )\n",
    "        return fixes\n",
    "    x"
   ]
  },
  {
   "cell_type": "markdown",
   "metadata": {},
   "source": [
    "##### Outlook\n",
    " - Check repeated words in first import\n",
    " - Fix failures using extra_data"
   ]
  },
  {
   "cell_type": "code",
   "execution_count": 43,
   "metadata": {},
   "outputs": [
    {
     "data": {
      "text/plain": [
       "'de'"
      ]
     },
     "execution_count": 43,
     "metadata": {},
     "output_type": "execute_result"
    }
   ],
   "source": [
    "tr = Translation(cadera_path, dest='en', src='de')\n",
    "tr.detect_src(N=4)\n",
    "tr.src"
   ]
  },
  {
   "cell_type": "code",
   "execution_count": 44,
   "metadata": {
    "scrolled": true
   },
   "outputs": [
    {
     "name": "stderr",
     "output_type": "stream",
     "text": [
      "/Users/pabloherrero/anaconda3/envs/IC-3.7-2018-11-14/lib/python3.7/site-packages/ipykernel_launcher.py:58: UserWarning: Pandas doesn't allow columns to be created via a new attribute name - see https://pandas.pydata.org/pandas-docs/stable/indexing.html#attribute-access\n"
     ]
    },
    {
     "data": {
      "text/html": [
       "<div>\n",
       "<style scoped>\n",
       "    .dataframe tbody tr th:only-of-type {\n",
       "        vertical-align: middle;\n",
       "    }\n",
       "\n",
       "    .dataframe tbody tr th {\n",
       "        vertical-align: top;\n",
       "    }\n",
       "\n",
       "    .dataframe thead th {\n",
       "        text-align: right;\n",
       "    }\n",
       "</style>\n",
       "<table border=\"1\" class=\"dataframe\">\n",
       "  <thead>\n",
       "    <tr style=\"text-align: right;\">\n",
       "      <th></th>\n",
       "      <th>de</th>\n",
       "      <th>en</th>\n",
       "    </tr>\n",
       "  </thead>\n",
       "  <tbody>\n",
       "    <tr>\n",
       "      <th>0</th>\n",
       "      <td>schweigend stand siddhartha im senkrechten son...</td>\n",
       "      <td>silently stood siddhartha in the vertical sunb...</td>\n",
       "    </tr>\n",
       "    <tr>\n",
       "      <th>1</th>\n",
       "      <td>nicht einen augenblick habe ich an dir gezweif...</td>\n",
       "      <td>not an instant I doubted you. I do not have in...</td>\n",
       "    </tr>\n",
       "    <tr>\n",
       "      <th>2</th>\n",
       "      <td>beraubt hat mich der buddha, dachte siddhartha...</td>\n",
       "      <td>robbed me of buddha, siddhartha thought, he ro...</td>\n",
       "    </tr>\n",
       "    <tr>\n",
       "      <th>3</th>\n",
       "      <td>daß siddhartha mir so fremd und unbekannt gebl...</td>\n",
       "      <td>siddhartha that has stayed with me so strange ...</td>\n",
       "    </tr>\n",
       "    <tr>\n",
       "      <th>4</th>\n",
       "      <td>\"wenn einer eine schrift liest, deren sinn er ...</td>\n",
       "      <td>\"If a writer reads one whose sense he wants to...</td>\n",
       "    </tr>\n",
       "    <tr>\n",
       "      <th>5</th>\n",
       "      <td>aber nie hatte er dies selbst wirklich gefunde...</td>\n",
       "      <td>but he did this himself really never found bec...</td>\n",
       "    </tr>\n",
       "    <tr>\n",
       "      <th>6</th>\n",
       "      <td>struppiger bettler,</td>\n",
       "      <td>shaggy beggar,</td>\n",
       "    </tr>\n",
       "    <tr>\n",
       "      <th>7</th>\n",
       "      <td>griffel,</td>\n",
       "      <td>stylus,</td>\n",
       "    </tr>\n",
       "    <tr>\n",
       "      <th>8</th>\n",
       "      <td>laub</td>\n",
       "      <td>leaves</td>\n",
       "    </tr>\n",
       "    <tr>\n",
       "      <th>9</th>\n",
       "      <td>biegsam</td>\n",
       "      <td>flexible</td>\n",
       "    </tr>\n",
       "    <tr>\n",
       "      <th>10</th>\n",
       "      <td>müdgewordenen</td>\n",
       "      <td>müdgewordenen</td>\n",
       "    </tr>\n",
       "    <tr>\n",
       "      <th>11</th>\n",
       "      <td>wohlergehen</td>\n",
       "      <td>welfare</td>\n",
       "    </tr>\n",
       "    <tr>\n",
       "      <th>12</th>\n",
       "      <td>dienerschaft</td>\n",
       "      <td>servants</td>\n",
       "    </tr>\n",
       "    <tr>\n",
       "      <th>13</th>\n",
       "      <td>predigt</td>\n",
       "      <td>sermon</td>\n",
       "    </tr>\n",
       "    <tr>\n",
       "      <th>14</th>\n",
       "      <td>allmählich</td>\n",
       "      <td>gradually</td>\n",
       "    </tr>\n",
       "    <tr>\n",
       "      <th>15</th>\n",
       "      <td>töpfers</td>\n",
       "      <td>potter</td>\n",
       "    </tr>\n",
       "    <tr>\n",
       "      <th>16</th>\n",
       "      <td>schläferte</td>\n",
       "      <td>lulled</td>\n",
       "    </tr>\n",
       "    <tr>\n",
       "      <th>17</th>\n",
       "      <td>stets</td>\n",
       "      <td>always</td>\n",
       "    </tr>\n",
       "    <tr>\n",
       "      <th>18</th>\n",
       "      <td>beneidete</td>\n",
       "      <td>envied</td>\n",
       "    </tr>\n",
       "    <tr>\n",
       "      <th>19</th>\n",
       "      <td>beizulegen vermochten</td>\n",
       "      <td>were able to settle</td>\n",
       "    </tr>\n",
       "    <tr>\n",
       "      <th>20</th>\n",
       "      <td>bange</td>\n",
       "      <td>anxious</td>\n",
       "    </tr>\n",
       "    <tr>\n",
       "      <th>21</th>\n",
       "      <td>kindertorheit</td>\n",
       "      <td>children folly</td>\n",
       "    </tr>\n",
       "    <tr>\n",
       "      <th>22</th>\n",
       "      <td>schleier</td>\n",
       "      <td>veil</td>\n",
       "    </tr>\n",
       "    <tr>\n",
       "      <th>23</th>\n",
       "      <td>säumen</td>\n",
       "      <td>line</td>\n",
       "    </tr>\n",
       "    <tr>\n",
       "      <th>24</th>\n",
       "      <td>ekel</td>\n",
       "      <td>disgust</td>\n",
       "    </tr>\n",
       "    <tr>\n",
       "      <th>25</th>\n",
       "      <td>begehrlichkeit</td>\n",
       "      <td>covetousness</td>\n",
       "    </tr>\n",
       "    <tr>\n",
       "      <th>26</th>\n",
       "      <td>törichteste</td>\n",
       "      <td>törichteste</td>\n",
       "    </tr>\n",
       "    <tr>\n",
       "      <th>27</th>\n",
       "      <td>tand</td>\n",
       "      <td>trinkets</td>\n",
       "    </tr>\n",
       "    <tr>\n",
       "      <th>28</th>\n",
       "      <td>schnödeste</td>\n",
       "      <td>contemptuous</td>\n",
       "    </tr>\n",
       "    <tr>\n",
       "      <th>29</th>\n",
       "      <td>sitte</td>\n",
       "      <td>custom</td>\n",
       "    </tr>\n",
       "    <tr>\n",
       "      <th>30</th>\n",
       "      <td>wut</td>\n",
       "      <td>fury</td>\n",
       "    </tr>\n",
       "    <tr>\n",
       "      <th>31</th>\n",
       "      <td>frech</td>\n",
       "      <td>naughty</td>\n",
       "    </tr>\n",
       "    <tr>\n",
       "      <th>32</th>\n",
       "      <td>verspielen und verschleudern</td>\n",
       "      <td>gamble and squander</td>\n",
       "    </tr>\n",
       "    <tr>\n",
       "      <th>33</th>\n",
       "      <td>elenden</td>\n",
       "      <td>wretched</td>\n",
       "    </tr>\n",
       "    <tr>\n",
       "      <th>34</th>\n",
       "      <td>verhöhnend</td>\n",
       "      <td>verhöhnend</td>\n",
       "    </tr>\n",
       "    <tr>\n",
       "      <th>35</th>\n",
       "      <td>gelassenheit</td>\n",
       "      <td>serenity</td>\n",
       "    </tr>\n",
       "    <tr>\n",
       "      <th>36</th>\n",
       "      <td>verbarg</td>\n",
       "      <td>hid</td>\n",
       "    </tr>\n",
       "    <tr>\n",
       "      <th>37</th>\n",
       "      <td>geseufzt</td>\n",
       "      <td>sigh</td>\n",
       "    </tr>\n",
       "    <tr>\n",
       "      <th>38</th>\n",
       "      <td>inbrunst</td>\n",
       "      <td>fervor</td>\n",
       "    </tr>\n",
       "  </tbody>\n",
       "</table>\n",
       "</div>"
      ],
      "text/plain": [
       "                                                   de  \\\n",
       "0   schweigend stand siddhartha im senkrechten son...   \n",
       "1   nicht einen augenblick habe ich an dir gezweif...   \n",
       "2   beraubt hat mich der buddha, dachte siddhartha...   \n",
       "3   daß siddhartha mir so fremd und unbekannt gebl...   \n",
       "4   \"wenn einer eine schrift liest, deren sinn er ...   \n",
       "5   aber nie hatte er dies selbst wirklich gefunde...   \n",
       "6                                 struppiger bettler,   \n",
       "7                                            griffel,   \n",
       "8                                                laub   \n",
       "9                                             biegsam   \n",
       "10                                      müdgewordenen   \n",
       "11                                        wohlergehen   \n",
       "12                                       dienerschaft   \n",
       "13                                            predigt   \n",
       "14                                         allmählich   \n",
       "15                                            töpfers   \n",
       "16                                         schläferte   \n",
       "17                                              stets   \n",
       "18                                          beneidete   \n",
       "19                              beizulegen vermochten   \n",
       "20                                              bange   \n",
       "21                                      kindertorheit   \n",
       "22                                           schleier   \n",
       "23                                             säumen   \n",
       "24                                               ekel   \n",
       "25                                     begehrlichkeit   \n",
       "26                                        törichteste   \n",
       "27                                               tand   \n",
       "28                                         schnödeste   \n",
       "29                                              sitte   \n",
       "30                                                wut   \n",
       "31                                              frech   \n",
       "32                       verspielen und verschleudern   \n",
       "33                                            elenden   \n",
       "34                                         verhöhnend   \n",
       "35                                       gelassenheit   \n",
       "36                                            verbarg   \n",
       "37                                           geseufzt   \n",
       "38                                           inbrunst   \n",
       "\n",
       "                                                   en  \n",
       "0   silently stood siddhartha in the vertical sunb...  \n",
       "1   not an instant I doubted you. I do not have in...  \n",
       "2   robbed me of buddha, siddhartha thought, he ro...  \n",
       "3   siddhartha that has stayed with me so strange ...  \n",
       "4   \"If a writer reads one whose sense he wants to...  \n",
       "5   but he did this himself really never found bec...  \n",
       "6                                      shaggy beggar,  \n",
       "7                                             stylus,  \n",
       "8                                              leaves  \n",
       "9                                            flexible  \n",
       "10                                      müdgewordenen  \n",
       "11                                            welfare  \n",
       "12                                           servants  \n",
       "13                                             sermon  \n",
       "14                                          gradually  \n",
       "15                                             potter  \n",
       "16                                             lulled  \n",
       "17                                             always  \n",
       "18                                             envied  \n",
       "19                                were able to settle  \n",
       "20                                            anxious  \n",
       "21                                     children folly  \n",
       "22                                               veil  \n",
       "23                                               line  \n",
       "24                                            disgust  \n",
       "25                                       covetousness  \n",
       "26                                        törichteste  \n",
       "27                                           trinkets  \n",
       "28                                       contemptuous  \n",
       "29                                             custom  \n",
       "30                                               fury  \n",
       "31                                            naughty  \n",
       "32                                gamble and squander  \n",
       "33                                           wretched  \n",
       "34                                         verhöhnend  \n",
       "35                                           serenity  \n",
       "36                                                hid  \n",
       "37                                               sigh  \n",
       "38                                             fervor  "
      ]
     },
     "execution_count": 44,
     "metadata": {},
     "output_type": "execute_result"
    }
   ],
   "source": [
    "tr.arrange_dicDf()"
   ]
  },
  {
   "cell_type": "code",
   "execution_count": 48,
   "metadata": {
    "scrolled": true
   },
   "outputs": [
    {
     "ename": "JSONDecodeError",
     "evalue": "Expecting value: line 1 column 1 (char 0)",
     "output_type": "error",
     "traceback": [
      "\u001b[0;31m---------------------------------------------------------------------------\u001b[0m",
      "\u001b[0;31mJSONDecodeError\u001b[0m                           Traceback (most recent call last)",
      "\u001b[0;32m<ipython-input-48-8b0749910bda>\u001b[0m in \u001b[0;36m<module>\u001b[0;34m\u001b[0m\n\u001b[0;32m----> 1\u001b[0;31m \u001b[0mtr\u001b[0m\u001b[0;34m.\u001b[0m\u001b[0mdetect_fails\u001b[0m\u001b[0;34m(\u001b[0m\u001b[0;34m)\u001b[0m\u001b[0;34m\u001b[0m\u001b[0;34m\u001b[0m\u001b[0m\n\u001b[0m\u001b[1;32m      2\u001b[0m \u001b[0;31m#tr.fix_fails()\u001b[0m\u001b[0;34m\u001b[0m\u001b[0;34m\u001b[0m\u001b[0;34m\u001b[0m\u001b[0m\n",
      "\u001b[0;32m<ipython-input-42-189fdf581c68>\u001b[0m in \u001b[0;36mdetect_fails\u001b[0;34m(self, meth)\u001b[0m\n\u001b[1;32m     63\u001b[0m         or simply if the detected language doesn't correspond to 'dest'  \"\"\"\n\u001b[1;32m     64\u001b[0m \u001b[0;34m\u001b[0m\u001b[0m\n\u001b[0;32m---> 65\u001b[0;31m         \u001b[0mtrans\u001b[0m \u001b[0;34m=\u001b[0m \u001b[0mself\u001b[0m\u001b[0;34m.\u001b[0m\u001b[0mmain_translate\u001b[0m\u001b[0;34m(\u001b[0m\u001b[0;34m)\u001b[0m\u001b[0;34m\u001b[0m\u001b[0;34m\u001b[0m\u001b[0m\n\u001b[0m\u001b[1;32m     66\u001b[0m         \u001b[0;32mif\u001b[0m \u001b[0mmeth\u001b[0m \u001b[0;34m==\u001b[0m \u001b[0;34m'src'\u001b[0m\u001b[0;34m:\u001b[0m\u001b[0;34m\u001b[0m\u001b[0;34m\u001b[0m\u001b[0m\n\u001b[1;32m     67\u001b[0m             \u001b[0mfails\u001b[0m \u001b[0;34m=\u001b[0m \u001b[0mnp\u001b[0m\u001b[0;34m.\u001b[0m\u001b[0mwhere\u001b[0m\u001b[0;34m(\u001b[0m\u001b[0mtranslator\u001b[0m\u001b[0;34m.\u001b[0m\u001b[0mdetect\u001b[0m\u001b[0;34m(\u001b[0m\u001b[0mw\u001b[0m\u001b[0;34m)\u001b[0m\u001b[0;34m.\u001b[0m\u001b[0mlang\u001b[0m \u001b[0;34m==\u001b[0m \u001b[0mself\u001b[0m\u001b[0;34m.\u001b[0m\u001b[0msrc\u001b[0m \u001b[0;32mfor\u001b[0m \u001b[0mw\u001b[0m \u001b[0;32min\u001b[0m \u001b[0mtrans\u001b[0m\u001b[0;34m)\u001b[0m\u001b[0;34m[\u001b[0m\u001b[0;36m0\u001b[0m\u001b[0;34m]\u001b[0m\u001b[0;34m\u001b[0m\u001b[0;34m\u001b[0m\u001b[0m\n",
      "\u001b[0;32m<ipython-input-42-189fdf581c68>\u001b[0m in \u001b[0;36mmain_translate\u001b[0;34m(self)\u001b[0m\n\u001b[1;32m     49\u001b[0m         \"\"\"Translate dfSrc from src to dest language\n\u001b[1;32m     50\u001b[0m         Returns list of translate objects\"\"\"\n\u001b[0;32m---> 51\u001b[0;31m         \u001b[0mtrans\u001b[0m \u001b[0;34m=\u001b[0m \u001b[0;34m[\u001b[0m\u001b[0mself\u001b[0m\u001b[0;34m.\u001b[0m\u001b[0mtranslator\u001b[0m\u001b[0;34m.\u001b[0m\u001b[0mtranslate\u001b[0m\u001b[0;34m(\u001b[0m\u001b[0mw\u001b[0m\u001b[0;34m,\u001b[0m \u001b[0msrc\u001b[0m\u001b[0;34m=\u001b[0m\u001b[0mself\u001b[0m\u001b[0;34m.\u001b[0m\u001b[0msrc\u001b[0m\u001b[0;34m,\u001b[0m \u001b[0mdest\u001b[0m\u001b[0;34m=\u001b[0m\u001b[0mself\u001b[0m\u001b[0;34m.\u001b[0m\u001b[0mdest\u001b[0m\u001b[0;34m)\u001b[0m \u001b[0;32mfor\u001b[0m \u001b[0mw\u001b[0m \u001b[0;32min\u001b[0m \u001b[0mself\u001b[0m\u001b[0;34m.\u001b[0m\u001b[0mdfSrc\u001b[0m\u001b[0;34m]\u001b[0m\u001b[0;34m\u001b[0m\u001b[0;34m\u001b[0m\u001b[0m\n\u001b[0m\u001b[1;32m     52\u001b[0m         \u001b[0;32mreturn\u001b[0m \u001b[0mtrans\u001b[0m\u001b[0;34m\u001b[0m\u001b[0;34m\u001b[0m\u001b[0m\n\u001b[1;32m     53\u001b[0m \u001b[0;34m\u001b[0m\u001b[0m\n",
      "\u001b[0;32m<ipython-input-42-189fdf581c68>\u001b[0m in \u001b[0;36m<listcomp>\u001b[0;34m(.0)\u001b[0m\n\u001b[1;32m     49\u001b[0m         \"\"\"Translate dfSrc from src to dest language\n\u001b[1;32m     50\u001b[0m         Returns list of translate objects\"\"\"\n\u001b[0;32m---> 51\u001b[0;31m         \u001b[0mtrans\u001b[0m \u001b[0;34m=\u001b[0m \u001b[0;34m[\u001b[0m\u001b[0mself\u001b[0m\u001b[0;34m.\u001b[0m\u001b[0mtranslator\u001b[0m\u001b[0;34m.\u001b[0m\u001b[0mtranslate\u001b[0m\u001b[0;34m(\u001b[0m\u001b[0mw\u001b[0m\u001b[0;34m,\u001b[0m \u001b[0msrc\u001b[0m\u001b[0;34m=\u001b[0m\u001b[0mself\u001b[0m\u001b[0;34m.\u001b[0m\u001b[0msrc\u001b[0m\u001b[0;34m,\u001b[0m \u001b[0mdest\u001b[0m\u001b[0;34m=\u001b[0m\u001b[0mself\u001b[0m\u001b[0;34m.\u001b[0m\u001b[0mdest\u001b[0m\u001b[0;34m)\u001b[0m \u001b[0;32mfor\u001b[0m \u001b[0mw\u001b[0m \u001b[0;32min\u001b[0m \u001b[0mself\u001b[0m\u001b[0;34m.\u001b[0m\u001b[0mdfSrc\u001b[0m\u001b[0;34m]\u001b[0m\u001b[0;34m\u001b[0m\u001b[0;34m\u001b[0m\u001b[0m\n\u001b[0m\u001b[1;32m     52\u001b[0m         \u001b[0;32mreturn\u001b[0m \u001b[0mtrans\u001b[0m\u001b[0;34m\u001b[0m\u001b[0;34m\u001b[0m\u001b[0m\n\u001b[1;32m     53\u001b[0m \u001b[0;34m\u001b[0m\u001b[0m\n",
      "\u001b[0;32m~/anaconda3/envs/IC-3.7-2018-11-14/lib/python3.7/site-packages/googletrans/client.py\u001b[0m in \u001b[0;36mtranslate\u001b[0;34m(self, text, dest, src)\u001b[0m\n\u001b[1;32m    170\u001b[0m \u001b[0;34m\u001b[0m\u001b[0m\n\u001b[1;32m    171\u001b[0m         \u001b[0morigin\u001b[0m \u001b[0;34m=\u001b[0m \u001b[0mtext\u001b[0m\u001b[0;34m\u001b[0m\u001b[0;34m\u001b[0m\u001b[0m\n\u001b[0;32m--> 172\u001b[0;31m         \u001b[0mdata\u001b[0m \u001b[0;34m=\u001b[0m \u001b[0mself\u001b[0m\u001b[0;34m.\u001b[0m\u001b[0m_translate\u001b[0m\u001b[0;34m(\u001b[0m\u001b[0mtext\u001b[0m\u001b[0;34m,\u001b[0m \u001b[0mdest\u001b[0m\u001b[0;34m,\u001b[0m \u001b[0msrc\u001b[0m\u001b[0;34m)\u001b[0m\u001b[0;34m\u001b[0m\u001b[0;34m\u001b[0m\u001b[0m\n\u001b[0m\u001b[1;32m    173\u001b[0m \u001b[0;34m\u001b[0m\u001b[0m\n\u001b[1;32m    174\u001b[0m         \u001b[0;31m# this code will be updated when the format is changed.\u001b[0m\u001b[0;34m\u001b[0m\u001b[0;34m\u001b[0m\u001b[0;34m\u001b[0m\u001b[0m\n",
      "\u001b[0;32m~/anaconda3/envs/IC-3.7-2018-11-14/lib/python3.7/site-packages/googletrans/client.py\u001b[0m in \u001b[0;36m_translate\u001b[0;34m(self, text, dest, src)\u001b[0m\n\u001b[1;32m     79\u001b[0m         \u001b[0mr\u001b[0m \u001b[0;34m=\u001b[0m \u001b[0mself\u001b[0m\u001b[0;34m.\u001b[0m\u001b[0msession\u001b[0m\u001b[0;34m.\u001b[0m\u001b[0mget\u001b[0m\u001b[0;34m(\u001b[0m\u001b[0murl\u001b[0m\u001b[0;34m,\u001b[0m \u001b[0mparams\u001b[0m\u001b[0;34m=\u001b[0m\u001b[0mparams\u001b[0m\u001b[0;34m)\u001b[0m\u001b[0;34m\u001b[0m\u001b[0;34m\u001b[0m\u001b[0m\n\u001b[1;32m     80\u001b[0m \u001b[0;34m\u001b[0m\u001b[0m\n\u001b[0;32m---> 81\u001b[0;31m         \u001b[0mdata\u001b[0m \u001b[0;34m=\u001b[0m \u001b[0mutils\u001b[0m\u001b[0;34m.\u001b[0m\u001b[0mformat_json\u001b[0m\u001b[0;34m(\u001b[0m\u001b[0mr\u001b[0m\u001b[0;34m.\u001b[0m\u001b[0mtext\u001b[0m\u001b[0;34m)\u001b[0m\u001b[0;34m\u001b[0m\u001b[0;34m\u001b[0m\u001b[0m\n\u001b[0m\u001b[1;32m     82\u001b[0m         \u001b[0;32mreturn\u001b[0m \u001b[0mdata\u001b[0m\u001b[0;34m\u001b[0m\u001b[0;34m\u001b[0m\u001b[0m\n\u001b[1;32m     83\u001b[0m \u001b[0;34m\u001b[0m\u001b[0m\n",
      "\u001b[0;32m~/anaconda3/envs/IC-3.7-2018-11-14/lib/python3.7/site-packages/googletrans/utils.py\u001b[0m in \u001b[0;36mformat_json\u001b[0;34m(original)\u001b[0m\n\u001b[1;32m     60\u001b[0m         \u001b[0mconverted\u001b[0m \u001b[0;34m=\u001b[0m \u001b[0mjson\u001b[0m\u001b[0;34m.\u001b[0m\u001b[0mloads\u001b[0m\u001b[0;34m(\u001b[0m\u001b[0moriginal\u001b[0m\u001b[0;34m)\u001b[0m\u001b[0;34m\u001b[0m\u001b[0;34m\u001b[0m\u001b[0m\n\u001b[1;32m     61\u001b[0m     \u001b[0;32mexcept\u001b[0m \u001b[0mValueError\u001b[0m\u001b[0;34m:\u001b[0m\u001b[0;34m\u001b[0m\u001b[0;34m\u001b[0m\u001b[0m\n\u001b[0;32m---> 62\u001b[0;31m         \u001b[0mconverted\u001b[0m \u001b[0;34m=\u001b[0m \u001b[0mlegacy_format_json\u001b[0m\u001b[0;34m(\u001b[0m\u001b[0moriginal\u001b[0m\u001b[0;34m)\u001b[0m\u001b[0;34m\u001b[0m\u001b[0;34m\u001b[0m\u001b[0m\n\u001b[0m\u001b[1;32m     63\u001b[0m \u001b[0;34m\u001b[0m\u001b[0m\n\u001b[1;32m     64\u001b[0m     \u001b[0;32mreturn\u001b[0m \u001b[0mconverted\u001b[0m\u001b[0;34m\u001b[0m\u001b[0;34m\u001b[0m\u001b[0m\n",
      "\u001b[0;32m~/anaconda3/envs/IC-3.7-2018-11-14/lib/python3.7/site-packages/googletrans/utils.py\u001b[0m in \u001b[0;36mlegacy_format_json\u001b[0;34m(original)\u001b[0m\n\u001b[1;32m     52\u001b[0m             \u001b[0mtext\u001b[0m \u001b[0;34m=\u001b[0m \u001b[0mtext\u001b[0m\u001b[0;34m[\u001b[0m\u001b[0;34m:\u001b[0m\u001b[0mp\u001b[0m\u001b[0;34m]\u001b[0m \u001b[0;34m+\u001b[0m \u001b[0mstates\u001b[0m\u001b[0;34m[\u001b[0m\u001b[0mj\u001b[0m\u001b[0;34m]\u001b[0m\u001b[0;34m[\u001b[0m\u001b[0;36m1\u001b[0m\u001b[0;34m]\u001b[0m \u001b[0;34m+\u001b[0m \u001b[0mtext\u001b[0m\u001b[0;34m[\u001b[0m\u001b[0mnxt\u001b[0m\u001b[0;34m:\u001b[0m\u001b[0;34m]\u001b[0m\u001b[0;34m\u001b[0m\u001b[0;34m\u001b[0m\u001b[0m\n\u001b[1;32m     53\u001b[0m \u001b[0;34m\u001b[0m\u001b[0m\n\u001b[0;32m---> 54\u001b[0;31m     \u001b[0mconverted\u001b[0m \u001b[0;34m=\u001b[0m \u001b[0mjson\u001b[0m\u001b[0;34m.\u001b[0m\u001b[0mloads\u001b[0m\u001b[0;34m(\u001b[0m\u001b[0mtext\u001b[0m\u001b[0;34m)\u001b[0m\u001b[0;34m\u001b[0m\u001b[0;34m\u001b[0m\u001b[0m\n\u001b[0m\u001b[1;32m     55\u001b[0m     \u001b[0;32mreturn\u001b[0m \u001b[0mconverted\u001b[0m\u001b[0;34m\u001b[0m\u001b[0;34m\u001b[0m\u001b[0m\n\u001b[1;32m     56\u001b[0m \u001b[0;34m\u001b[0m\u001b[0m\n",
      "\u001b[0;32m~/anaconda3/envs/IC-3.7-2018-11-14/lib/python3.7/json/__init__.py\u001b[0m in \u001b[0;36mloads\u001b[0;34m(s, encoding, cls, object_hook, parse_float, parse_int, parse_constant, object_pairs_hook, **kw)\u001b[0m\n\u001b[1;32m    346\u001b[0m             \u001b[0mparse_int\u001b[0m \u001b[0;32mis\u001b[0m \u001b[0;32mNone\u001b[0m \u001b[0;32mand\u001b[0m \u001b[0mparse_float\u001b[0m \u001b[0;32mis\u001b[0m \u001b[0;32mNone\u001b[0m \u001b[0;32mand\u001b[0m\u001b[0;34m\u001b[0m\u001b[0;34m\u001b[0m\u001b[0m\n\u001b[1;32m    347\u001b[0m             parse_constant is None and object_pairs_hook is None and not kw):\n\u001b[0;32m--> 348\u001b[0;31m         \u001b[0;32mreturn\u001b[0m \u001b[0m_default_decoder\u001b[0m\u001b[0;34m.\u001b[0m\u001b[0mdecode\u001b[0m\u001b[0;34m(\u001b[0m\u001b[0ms\u001b[0m\u001b[0;34m)\u001b[0m\u001b[0;34m\u001b[0m\u001b[0;34m\u001b[0m\u001b[0m\n\u001b[0m\u001b[1;32m    349\u001b[0m     \u001b[0;32mif\u001b[0m \u001b[0mcls\u001b[0m \u001b[0;32mis\u001b[0m \u001b[0;32mNone\u001b[0m\u001b[0;34m:\u001b[0m\u001b[0;34m\u001b[0m\u001b[0;34m\u001b[0m\u001b[0m\n\u001b[1;32m    350\u001b[0m         \u001b[0mcls\u001b[0m \u001b[0;34m=\u001b[0m \u001b[0mJSONDecoder\u001b[0m\u001b[0;34m\u001b[0m\u001b[0;34m\u001b[0m\u001b[0m\n",
      "\u001b[0;32m~/anaconda3/envs/IC-3.7-2018-11-14/lib/python3.7/json/decoder.py\u001b[0m in \u001b[0;36mdecode\u001b[0;34m(self, s, _w)\u001b[0m\n\u001b[1;32m    335\u001b[0m \u001b[0;34m\u001b[0m\u001b[0m\n\u001b[1;32m    336\u001b[0m         \"\"\"\n\u001b[0;32m--> 337\u001b[0;31m         \u001b[0mobj\u001b[0m\u001b[0;34m,\u001b[0m \u001b[0mend\u001b[0m \u001b[0;34m=\u001b[0m \u001b[0mself\u001b[0m\u001b[0;34m.\u001b[0m\u001b[0mraw_decode\u001b[0m\u001b[0;34m(\u001b[0m\u001b[0ms\u001b[0m\u001b[0;34m,\u001b[0m \u001b[0midx\u001b[0m\u001b[0;34m=\u001b[0m\u001b[0m_w\u001b[0m\u001b[0;34m(\u001b[0m\u001b[0ms\u001b[0m\u001b[0;34m,\u001b[0m \u001b[0;36m0\u001b[0m\u001b[0;34m)\u001b[0m\u001b[0;34m.\u001b[0m\u001b[0mend\u001b[0m\u001b[0;34m(\u001b[0m\u001b[0;34m)\u001b[0m\u001b[0;34m)\u001b[0m\u001b[0;34m\u001b[0m\u001b[0;34m\u001b[0m\u001b[0m\n\u001b[0m\u001b[1;32m    338\u001b[0m         \u001b[0mend\u001b[0m \u001b[0;34m=\u001b[0m \u001b[0m_w\u001b[0m\u001b[0;34m(\u001b[0m\u001b[0ms\u001b[0m\u001b[0;34m,\u001b[0m \u001b[0mend\u001b[0m\u001b[0;34m)\u001b[0m\u001b[0;34m.\u001b[0m\u001b[0mend\u001b[0m\u001b[0;34m(\u001b[0m\u001b[0;34m)\u001b[0m\u001b[0;34m\u001b[0m\u001b[0;34m\u001b[0m\u001b[0m\n\u001b[1;32m    339\u001b[0m         \u001b[0;32mif\u001b[0m \u001b[0mend\u001b[0m \u001b[0;34m!=\u001b[0m \u001b[0mlen\u001b[0m\u001b[0;34m(\u001b[0m\u001b[0ms\u001b[0m\u001b[0;34m)\u001b[0m\u001b[0;34m:\u001b[0m\u001b[0;34m\u001b[0m\u001b[0;34m\u001b[0m\u001b[0m\n",
      "\u001b[0;32m~/anaconda3/envs/IC-3.7-2018-11-14/lib/python3.7/json/decoder.py\u001b[0m in \u001b[0;36mraw_decode\u001b[0;34m(self, s, idx)\u001b[0m\n\u001b[1;32m    353\u001b[0m             \u001b[0mobj\u001b[0m\u001b[0;34m,\u001b[0m \u001b[0mend\u001b[0m \u001b[0;34m=\u001b[0m \u001b[0mself\u001b[0m\u001b[0;34m.\u001b[0m\u001b[0mscan_once\u001b[0m\u001b[0;34m(\u001b[0m\u001b[0ms\u001b[0m\u001b[0;34m,\u001b[0m \u001b[0midx\u001b[0m\u001b[0;34m)\u001b[0m\u001b[0;34m\u001b[0m\u001b[0;34m\u001b[0m\u001b[0m\n\u001b[1;32m    354\u001b[0m         \u001b[0;32mexcept\u001b[0m \u001b[0mStopIteration\u001b[0m \u001b[0;32mas\u001b[0m \u001b[0merr\u001b[0m\u001b[0;34m:\u001b[0m\u001b[0;34m\u001b[0m\u001b[0;34m\u001b[0m\u001b[0m\n\u001b[0;32m--> 355\u001b[0;31m             \u001b[0;32mraise\u001b[0m \u001b[0mJSONDecodeError\u001b[0m\u001b[0;34m(\u001b[0m\u001b[0;34m\"Expecting value\"\u001b[0m\u001b[0;34m,\u001b[0m \u001b[0ms\u001b[0m\u001b[0;34m,\u001b[0m \u001b[0merr\u001b[0m\u001b[0;34m.\u001b[0m\u001b[0mvalue\u001b[0m\u001b[0;34m)\u001b[0m \u001b[0;32mfrom\u001b[0m \u001b[0;32mNone\u001b[0m\u001b[0;34m\u001b[0m\u001b[0;34m\u001b[0m\u001b[0m\n\u001b[0m\u001b[1;32m    356\u001b[0m         \u001b[0;32mreturn\u001b[0m \u001b[0mobj\u001b[0m\u001b[0;34m,\u001b[0m \u001b[0mend\u001b[0m\u001b[0;34m\u001b[0m\u001b[0;34m\u001b[0m\u001b[0m\n",
      "\u001b[0;31mJSONDecodeError\u001b[0m: Expecting value: line 1 column 1 (char 0)"
     ]
    }
   ],
   "source": [
    "tr.detect_fails()\n",
    "#tr.fix_fails()"
   ]
  }
 ],
 "metadata": {
  "kernelspec": {
   "display_name": "Python 3",
   "language": "python",
   "name": "python3"
  },
  "language_info": {
   "codemirror_mode": {
    "name": "ipython",
    "version": 3
   },
   "file_extension": ".py",
   "mimetype": "text/x-python",
   "name": "python",
   "nbconvert_exporter": "python",
   "pygments_lexer": "ipython3",
   "version": "3.7.2"
  },
  "toc": {
   "base_numbering": 1,
   "nav_menu": {},
   "number_sections": true,
   "sideBar": true,
   "skip_h1_title": false,
   "title_cell": "Table of Contents",
   "title_sidebar": "Contents",
   "toc_cell": false,
   "toc_position": {},
   "toc_section_display": true,
   "toc_window_display": false
  }
 },
 "nbformat": 4,
 "nbformat_minor": 2
}

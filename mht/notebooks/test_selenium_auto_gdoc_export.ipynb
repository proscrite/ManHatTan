{
 "cells": [
  {
   "cell_type": "code",
   "execution_count": null,
   "metadata": {},
   "outputs": [],
   "source": [
    "from selenium import webdriver\n",
    "from selenium.webdriver.common.keys import Keys\n",
    "driver = webdriver.ChromeOptions('./chromedriver')\n",
    "driver.get(\"http://www.python.org\")\n",
    "assert \"Python\" in driver.title\n",
    "elem = driver.find_element_by_name(\"q\")\n",
    "elem.clear()\n",
    "elem.send_keys(\"pycon\")\n",
    "elem.send_keys(Keys.RETURN)\n",
    "\n",
    "assert \"No results found.\" not in driver.page_source\n",
    "time.sleep(10)\n",
    "driver.quit()\n",
    "\n",
    "from selenium.webdriver.chrome.options import Options\n",
    "opts = Options()\n",
    "opts.add_argument('user-data-dir=/Users/pabloherrero/Library/Application Support/Google/Chrome/')\n",
    "opts.add_argument('--allow-running-insecure-content')\n",
    "opts.add_argument('--ignore-certificate-errors')\n",
    "\n",
    "driver = webdriver.Chrome(executable_path='./chromedriver', options=opts)\n",
    "\n",
    "from selenium import webdriver\n",
    "from selenium.webdriver.common.keys import Keys\n",
    "from selenium.webdriver.chrome.options import Options\n",
    "import time\n",
    "opts = Options()\n",
    "opts.add_argument('profile-directory=/Users/pabloherrero/Library/Application Support/Google/Chrome')\n",
    "opts.add_argument('--allow-running-insecure-content')\n",
    "opts.add_argument('--ignore-certificate-errors')\n",
    "\n",
    "driver = webdriver.Chrome(executable_path='./chromedriver', options=opts)\n",
    "mail_address = 'pablogfr94@gmail.com'\n",
    "password = 'Eez/eh4813'\n",
    "\n",
    "driver.get(\"https://docs.google.com/document/d/1q5LpTfMBZF7LBsGaMyiKoMezIwrOR1s9szLBZ3rsbb8/edit\")\n",
    "driver.find_element_by_id(\"identifierId\").send_keys(mail_address)\n",
    "driver.find_element_by_id(\"identifierNext\").click()\n",
    "time.sleep(1)\n",
    "driver.find_element_by_name(\"password\").send_keys(password)\n",
    "driver.find_element_by_id(\"passwordNext\").click()\n",
    "time.sleep(20)\n",
    "driver.quit()"
   ]
  }
 ],
 "metadata": {
  "kernelspec": {
   "display_name": "Python 3",
   "language": "python",
   "name": "python3"
  },
  "language_info": {
   "codemirror_mode": {
    "name": "ipython",
    "version": 3
   },
   "file_extension": ".py",
   "mimetype": "text/x-python",
   "name": "python",
   "nbconvert_exporter": "python",
   "pygments_lexer": "ipython3",
   "version": "3.7.2"
  },
  "toc": {
   "base_numbering": 1,
   "nav_menu": {},
   "number_sections": true,
   "sideBar": true,
   "skip_h1_title": false,
   "title_cell": "Table of Contents",
   "title_sidebar": "Contents",
   "toc_cell": false,
   "toc_position": {},
   "toc_section_display": true,
   "toc_window_display": false
  }
 },
 "nbformat": 4,
 "nbformat_minor": 2
}

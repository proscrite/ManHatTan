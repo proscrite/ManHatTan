{
 "cells": [
  {
   "cell_type": "markdown",
   "id": "14f5417e",
   "metadata": {},
   "source": [
    "# Attempt scrapy"
   ]
  },
  {
   "cell_type": "code",
   "execution_count": 3,
   "id": "5d440102",
   "metadata": {},
   "outputs": [
    {
     "name": "stdout",
     "output_type": "stream",
     "text": [
      "New Scrapy project 'pealim', using template directory '/Users/pabloherrero/Library/Python/3.9/lib/python/site-packages/scrapy/templates/project', created in:\n",
      "    /Users/pabloherrero/Documents/ManHatTan/mht/notebooks/pealim\n",
      "\n",
      "You can start your first spider with:\n",
      "    cd pealim\n",
      "    scrapy genspider example example.com\n"
     ]
    }
   ],
   "source": [
    "!scrapy startproject pealim"
   ]
  },
  {
   "cell_type": "code",
   "execution_count": 1,
   "id": "36004189",
   "metadata": {},
   "outputs": [],
   "source": [
    "import scrapy\n",
    "from scrapy.crawler import CrawlerProcess"
   ]
  },
  {
   "cell_type": "code",
   "execution_count": 7,
   "id": "aaeb7854",
   "metadata": {},
   "outputs": [],
   "source": [
    "class PealimVerbSpider(scrapy.Spider):\n",
    "    name = \"pealim_verb\"\n",
    "    allowed_domains = [\"pealim.com\"]\n",
    "\n",
    "    def start_requests(self):\n",
    "        query = getattr(self, 'verb', None)\n",
    "        if not query:\n",
    "            self.logger.error(\"Please pass ?verb=ללכת\")\n",
    "            return\n",
    "        url = f\"https://www.pealim.com/search/?q={query}\"\n",
    "        yield scrapy.Request(url, self.parse_search)\n",
    "\n",
    "    def parse_search(self, response):\n",
    "        for sel in response.css('li'):\n",
    "            href = sel.css('a::attr(href)').get()\n",
    "            if href and href.startswith('/dict/'):\n",
    "                text = sel.css('a::text').get()\n",
    "                # Optional: ensure text (e.g. infinitive form) matches criteria\n",
    "                yield response.follow(href, self.parse_verb)\n",
    "\n",
    "    def parse_verb(self, response):\n",
    "        verb = response.css('h1 ::text').get()\n",
    "        tables = {}\n",
    "        for part in ['INF', 'PST', 'FUT']:\n",
    "            sel = response.css(f'#h-{part}-L').xpath('following-sibling::table[1]')\n",
    "            headings = sel.css('thead tr th::text').getall()\n",
    "            rows = []\n",
    "            for tr in sel.css('tbody tr'):\n",
    "                row = tr.css('td::text').getall()\n",
    "                rows.append(row)\n",
    "            tables[part] = {\n",
    "                'headings': headings,\n",
    "                'rows': rows\n",
    "            }\n",
    "        yield {\n",
    "            'verb': verb,\n",
    "            'conjugations': tables\n",
    "        }\n",
    "\n"
   ]
  },
  {
   "cell_type": "code",
   "execution_count": null,
   "id": "2e7c8421",
   "metadata": {},
   "outputs": [
    {
     "ename": "RuntimeError",
     "evalue": "This event loop is already running",
     "output_type": "error",
     "traceback": [
      "\u001b[0;31m---------------------------------------------------------------------------\u001b[0m",
      "\u001b[0;31mRuntimeError\u001b[0m                              Traceback (most recent call last)",
      "Cell \u001b[0;32mIn[3], line 32\u001b[0m\n\u001b[1;32m     25\u001b[0m process \u001b[38;5;241m=\u001b[39m CrawlerProcess(settings\u001b[38;5;241m=\u001b[39m{\n\u001b[1;32m     26\u001b[0m     \u001b[38;5;124m\"\u001b[39m\u001b[38;5;124mLOG_LEVEL\u001b[39m\u001b[38;5;124m\"\u001b[39m: \u001b[38;5;124m\"\u001b[39m\u001b[38;5;124mWARNING\u001b[39m\u001b[38;5;124m\"\u001b[39m,\n\u001b[1;32m     27\u001b[0m     \u001b[38;5;124m\"\u001b[39m\u001b[38;5;124mFEEDS\u001b[39m\u001b[38;5;124m\"\u001b[39m: {\n\u001b[1;32m     28\u001b[0m         \u001b[38;5;124m\"\u001b[39m\u001b[38;5;124mresults.json\u001b[39m\u001b[38;5;124m\"\u001b[39m: {\u001b[38;5;124m\"\u001b[39m\u001b[38;5;124mformat\u001b[39m\u001b[38;5;124m\"\u001b[39m: \u001b[38;5;124m\"\u001b[39m\u001b[38;5;124mjson\u001b[39m\u001b[38;5;124m\"\u001b[39m}\n\u001b[1;32m     29\u001b[0m     }\n\u001b[1;32m     30\u001b[0m })\n\u001b[1;32m     31\u001b[0m process\u001b[38;5;241m.\u001b[39mcrawl(PealimSearchSpider, verb\u001b[38;5;241m=\u001b[39m\u001b[38;5;124m\"\u001b[39m\u001b[38;5;124mללכת\u001b[39m\u001b[38;5;124m\"\u001b[39m)\n\u001b[0;32m---> 32\u001b[0m \u001b[43mprocess\u001b[49m\u001b[38;5;241;43m.\u001b[39;49m\u001b[43mstart\u001b[49m\u001b[43m(\u001b[49m\u001b[43m)\u001b[49m  \u001b[38;5;66;03m# this blocks until done\u001b[39;00m\n\u001b[1;32m     34\u001b[0m \u001b[38;5;66;03m# Load and display results\u001b[39;00m\n\u001b[1;32m     35\u001b[0m \u001b[38;5;28;01mwith\u001b[39;00m \u001b[38;5;28mopen\u001b[39m(\u001b[38;5;124m\"\u001b[39m\u001b[38;5;124mresults.json\u001b[39m\u001b[38;5;124m\"\u001b[39m) \u001b[38;5;28;01mas\u001b[39;00m f:\n",
      "File \u001b[0;32m~/Library/Python/3.9/lib/python/site-packages/scrapy/crawler.py:502\u001b[0m, in \u001b[0;36mCrawlerProcess.start\u001b[0;34m(self, stop_after_crawl, install_signal_handlers)\u001b[0m\n\u001b[1;32m    498\u001b[0m \u001b[38;5;28;01mif\u001b[39;00m install_signal_handlers:\n\u001b[1;32m    499\u001b[0m     reactor\u001b[38;5;241m.\u001b[39maddSystemEventTrigger(\n\u001b[1;32m    500\u001b[0m         \u001b[38;5;124m\"\u001b[39m\u001b[38;5;124mafter\u001b[39m\u001b[38;5;124m\"\u001b[39m, \u001b[38;5;124m\"\u001b[39m\u001b[38;5;124mstartup\u001b[39m\u001b[38;5;124m\"\u001b[39m, install_shutdown_handlers, \u001b[38;5;28mself\u001b[39m\u001b[38;5;241m.\u001b[39m_signal_shutdown\n\u001b[1;32m    501\u001b[0m     )\n\u001b[0;32m--> 502\u001b[0m \u001b[43mreactor\u001b[49m\u001b[38;5;241;43m.\u001b[39;49m\u001b[43mrun\u001b[49m\u001b[43m(\u001b[49m\u001b[43minstallSignalHandlers\u001b[49m\u001b[38;5;241;43m=\u001b[39;49m\u001b[43minstall_signal_handlers\u001b[49m\u001b[43m)\u001b[49m\n",
      "File \u001b[0;32m~/Library/Python/3.9/lib/python/site-packages/twisted/internet/asyncioreactor.py:253\u001b[0m, in \u001b[0;36mAsyncioSelectorReactor.run\u001b[0;34m(self, installSignalHandlers)\u001b[0m\n\u001b[1;32m    251\u001b[0m \u001b[38;5;28;01mdef\u001b[39;00m \u001b[38;5;21mrun\u001b[39m(\u001b[38;5;28mself\u001b[39m, installSignalHandlers\u001b[38;5;241m=\u001b[39m\u001b[38;5;28;01mTrue\u001b[39;00m):\n\u001b[1;32m    252\u001b[0m     \u001b[38;5;28mself\u001b[39m\u001b[38;5;241m.\u001b[39mstartRunning(installSignalHandlers\u001b[38;5;241m=\u001b[39minstallSignalHandlers)\n\u001b[0;32m--> 253\u001b[0m     \u001b[38;5;28;43mself\u001b[39;49m\u001b[38;5;241;43m.\u001b[39;49m\u001b[43m_asyncioEventloop\u001b[49m\u001b[38;5;241;43m.\u001b[39;49m\u001b[43mrun_forever\u001b[49m\u001b[43m(\u001b[49m\u001b[43m)\u001b[49m\n\u001b[1;32m    254\u001b[0m     \u001b[38;5;28;01mif\u001b[39;00m \u001b[38;5;28mself\u001b[39m\u001b[38;5;241m.\u001b[39m_justStopped:\n\u001b[1;32m    255\u001b[0m         \u001b[38;5;28mself\u001b[39m\u001b[38;5;241m.\u001b[39m_justStopped \u001b[38;5;241m=\u001b[39m \u001b[38;5;28;01mFalse\u001b[39;00m\n",
      "File \u001b[0;32m/Applications/Xcode.app/Contents/Developer/Library/Frameworks/Python3.framework/Versions/3.9/lib/python3.9/asyncio/base_events.py:586\u001b[0m, in \u001b[0;36mBaseEventLoop.run_forever\u001b[0;34m(self)\u001b[0m\n\u001b[1;32m    584\u001b[0m \u001b[38;5;250m\u001b[39m\u001b[38;5;124;03m\"\"\"Run until stop() is called.\"\"\"\u001b[39;00m\n\u001b[1;32m    585\u001b[0m \u001b[38;5;28mself\u001b[39m\u001b[38;5;241m.\u001b[39m_check_closed()\n\u001b[0;32m--> 586\u001b[0m \u001b[38;5;28;43mself\u001b[39;49m\u001b[38;5;241;43m.\u001b[39;49m\u001b[43m_check_running\u001b[49m\u001b[43m(\u001b[49m\u001b[43m)\u001b[49m\n\u001b[1;32m    587\u001b[0m \u001b[38;5;28mself\u001b[39m\u001b[38;5;241m.\u001b[39m_set_coroutine_origin_tracking(\u001b[38;5;28mself\u001b[39m\u001b[38;5;241m.\u001b[39m_debug)\n\u001b[1;32m    588\u001b[0m \u001b[38;5;28mself\u001b[39m\u001b[38;5;241m.\u001b[39m_thread_id \u001b[38;5;241m=\u001b[39m threading\u001b[38;5;241m.\u001b[39mget_ident()\n",
      "File \u001b[0;32m/Applications/Xcode.app/Contents/Developer/Library/Frameworks/Python3.framework/Versions/3.9/lib/python3.9/asyncio/base_events.py:578\u001b[0m, in \u001b[0;36mBaseEventLoop._check_running\u001b[0;34m(self)\u001b[0m\n\u001b[1;32m    576\u001b[0m \u001b[38;5;28;01mdef\u001b[39;00m \u001b[38;5;21m_check_running\u001b[39m(\u001b[38;5;28mself\u001b[39m):\n\u001b[1;32m    577\u001b[0m     \u001b[38;5;28;01mif\u001b[39;00m \u001b[38;5;28mself\u001b[39m\u001b[38;5;241m.\u001b[39mis_running():\n\u001b[0;32m--> 578\u001b[0m         \u001b[38;5;28;01mraise\u001b[39;00m \u001b[38;5;167;01mRuntimeError\u001b[39;00m(\u001b[38;5;124m'\u001b[39m\u001b[38;5;124mThis event loop is already running\u001b[39m\u001b[38;5;124m'\u001b[39m)\n\u001b[1;32m    579\u001b[0m     \u001b[38;5;28;01mif\u001b[39;00m events\u001b[38;5;241m.\u001b[39m_get_running_loop() \u001b[38;5;129;01mis\u001b[39;00m \u001b[38;5;129;01mnot\u001b[39;00m \u001b[38;5;28;01mNone\u001b[39;00m:\n\u001b[1;32m    580\u001b[0m         \u001b[38;5;28;01mraise\u001b[39;00m \u001b[38;5;167;01mRuntimeError\u001b[39;00m(\n\u001b[1;32m    581\u001b[0m             \u001b[38;5;124m'\u001b[39m\u001b[38;5;124mCannot run the event loop while another loop is running\u001b[39m\u001b[38;5;124m'\u001b[39m)\n",
      "\u001b[0;31mRuntimeError\u001b[0m: This event loop is already running"
     ]
    },
    {
     "name": "stderr",
     "output_type": "stream",
     "text": [
      "2025-06-25 11:06:20 [py.warnings] WARNING: /Users/pabloherrero/Library/Python/3.9/lib/python/site-packages/scrapy/core/spidermw.py:433: ScrapyDeprecationWarning: __main__.PealimSearchSpider defines the deprecated start_requests() method. start_requests() has been deprecated in favor of a new method, start(), to support asynchronous code execution. start_requests() will stop being called in a future version of Scrapy. If you use Scrapy 2.13 or higher only, replace start_requests() with start(); note that start() is a coroutine (async def). If you need to maintain compatibility with lower Scrapy versions, when overriding start_requests() in a spider class, override start() as well; you can use super() to reuse the inherited start() implementation without copy-pasting. See the release notes of Scrapy 2.13 for details: https://docs.scrapy.org/en/2.13/news.html\n",
      "  warn(\n",
      "\n"
     ]
    },
    {
     "ename": "",
     "evalue": "",
     "output_type": "error",
     "traceback": [
      "\u001b[1;31mThe Kernel crashed while executing code in the current cell or a previous cell. \n",
      "\u001b[1;31mPlease review the code in the cell(s) to identify a possible cause of the failure. \n",
      "\u001b[1;31mClick <a href='https://aka.ms/vscodeJupyterKernelCrash'>here</a> for more info. \n",
      "\u001b[1;31mView Jupyter <a href='command:jupyter.viewOutput'>log</a> for further details."
     ]
    }
   ],
   "source": [
    "import scrapy\n",
    "from scrapy.crawler import CrawlerProcess\n",
    "import json\n",
    "\n",
    "class PealimSearchSpider(scrapy.Spider):\n",
    "    name = \"pealim_search\"\n",
    "    allowed_domains = [\"pealim.com\"]\n",
    "\n",
    "    def __init__(self, verb=None, **kwargs):\n",
    "        super().__init__(**kwargs)\n",
    "        self.verb = verb\n",
    "\n",
    "    def start_requests(self):\n",
    "        url = f\"https://www.pealim.com/search/?q={self.verb}\"\n",
    "        yield scrapy.Request(url, self.parse)\n",
    "\n",
    "    def parse(self, response):\n",
    "        for sel in response.css(\"li.search-result\"):\n",
    "            yield {\n",
    "                \"title\": sel.css(\"a::text\").get(),\n",
    "                \"url\": response.urljoin(sel.css(\"a::attr(href)\").get())\n",
    "            }\n",
    "\n",
    "# Set up and run the spider\n",
    "process = CrawlerProcess(settings={\n",
    "    \"LOG_LEVEL\": \"WARNING\",\n",
    "    \"FEEDS\": {\n",
    "        \"results.json\": {\"format\": \"json\"}\n",
    "    }\n",
    "})\n",
    "process.crawl(PealimSearchSpider, verb=\"ללכת\")\n",
    "process.start()  # this blocks until done\n",
    "\n",
    "# Load and display results\n",
    "with open(\"results.json\") as f:\n",
    "    data = json.load(f)\n",
    "\n",
    "data[:5]  # show up to first 5 results\n"
   ]
  },
  {
   "cell_type": "markdown",
   "id": "cc2dbe3f",
   "metadata": {},
   "source": [
    "# Beautiful Soup"
   ]
  },
  {
   "cell_type": "code",
   "execution_count": 25,
   "id": "b92c3fe1",
   "metadata": {},
   "outputs": [],
   "source": [
    "import requests\n",
    "from bs4 import BeautifulSoup\n",
    "from hebrew import Hebrew\n",
    "import random"
   ]
  },
  {
   "cell_type": "code",
   "execution_count": 69,
   "id": "29a18162",
   "metadata": {},
   "outputs": [],
   "source": [
    "def scrap_verb_link(hebrew_verb):\n",
    "    search_url = f\"https://www.pealim.com/search/?q={hebrew_verb}\"\n",
    "    r = requests.get(search_url)\n",
    "    soup = BeautifulSoup(r.text, 'html.parser')\n",
    "\n",
    "    # Extract all verb entries from the soup\n",
    "    verb_entries = []\n",
    "\n",
    "    for entry in soup.select('.verb-search-result'):\n",
    "        lemma = entry.select_one('.verb-search-lemma a')\n",
    "        binyan = entry.select_one('.verb-search-binyan')\n",
    "        if 'verb' in binyan.get_text(strip=True).lower():\n",
    "        \n",
    "            if lemma:\n",
    "                text = lemma.get_text(strip=True)\n",
    "                url = lemma['href']\n",
    "                verb_entries.append({'text': text, 'url': url})\n",
    "\n",
    "    first_url = verb_entries[0]['url'] if verb_entries else None\n",
    "    return \"https://www.pealim.com\" + first_url if first_url else None"
   ]
  },
  {
   "cell_type": "code",
   "execution_count": 102,
   "id": "7153759c",
   "metadata": {},
   "outputs": [],
   "source": [
    "def scrap_conjugation_dict(verb_url):\n",
    "    if not verb_url:\n",
    "        return {}\n",
    "    r = requests.get(verb_url)\n",
    "    soup = BeautifulSoup(r.text, 'html.parser')\n",
    "    conjugation_entries = soup.select('.conj-td')\n",
    "\n",
    "    conjug_dict = {}\n",
    "    for entry in conjugation_entries:\n",
    "        for div in entry.find_all('div', id=True):\n",
    "            menukad = div.find('span', class_='menukad')\n",
    "            chaser = div.find('span', class_='chaser')\n",
    "            if chaser:\n",
    "                conjugated_verb_nikkud = chaser.get_text(strip=True)\n",
    "                verb_noniqqud = Hebrew(conjugated_verb_nikkud).no_niqqud()\n",
    "                verb_noniqqud = str(verb_noniqqud).replace('~', '').replace(' ', '')\n",
    "                conjug_dict[div['id']] = verb_noniqqud\n",
    "            elif menukad:\n",
    "                conjugated_verb_nikkud = menukad.get_text(strip=True)\n",
    "                verb_noniqqud = Hebrew(conjugated_verb_nikkud).no_niqqud()\n",
    "                verb_noniqqud = str(verb_noniqqud).replace('~', '').replace(' ', '')\n",
    "                conjug_dict[div['id']] = verb_noniqqud\n",
    "    return conjug_dict"
   ]
  },
  {
   "cell_type": "code",
   "execution_count": 103,
   "id": "2835ce5d",
   "metadata": {},
   "outputs": [
    {
     "data": {
      "text/plain": [
       "{'AP-ms': 'מדבר',\n",
       " 'AP-fs': 'מדברת',\n",
       " 'AP-mp': 'מדברים',\n",
       " 'AP-fp': 'מדברות',\n",
       " 'PERF-1s': 'דיברתי',\n",
       " 'PERF-1p': 'דיברנו',\n",
       " 'PERF-2ms': 'דיברת',\n",
       " 'PERF-2fs': 'דיברת',\n",
       " 'PERF-2mp': 'דיברתם',\n",
       " 'PERF-2fp': 'דיברתן',\n",
       " 'PERF-3ms': 'דיבר',\n",
       " 'PERF-3fs': 'דיברה',\n",
       " 'PERF-3p': 'דיברו',\n",
       " 'IMPF-1s': 'אדבר',\n",
       " 'IMPF-1p': 'נדבר',\n",
       " 'IMPF-2ms': 'תדבר',\n",
       " 'IMPF-2fs': 'תדברי',\n",
       " 'IMPF-2mp': 'תדברו',\n",
       " 'IMPF-2fp': 'תדברנה',\n",
       " 'IMPF-3ms': 'ידבר',\n",
       " 'IMPF-3fs': 'תדבר',\n",
       " 'IMPF-3mp': 'ידברו',\n",
       " 'IMPF-3fp': 'תדברנה',\n",
       " 'IMP-2ms': 'דבר!\\u200f',\n",
       " 'IMP-2fs': 'דברי!\\u200f',\n",
       " 'IMP-2mp': 'דברו!\\u200f',\n",
       " 'IMP-2fp': 'דברנה!\\u200f',\n",
       " 'INF-L': 'לדבר',\n",
       " 'passive-AP-ms': 'מדובר',\n",
       " 'passive-AP-fs': 'מדוברת',\n",
       " 'passive-AP-mp': 'מדוברים',\n",
       " 'passive-AP-fp': 'מדוברות',\n",
       " 'passive-PERF-1s': 'דוברתי',\n",
       " 'passive-PERF-1p': 'דוברנו',\n",
       " 'passive-PERF-2ms': 'דוברת',\n",
       " 'passive-PERF-2fs': 'דוברת',\n",
       " 'passive-PERF-2mp': 'דוברתם',\n",
       " 'passive-PERF-2fp': 'דוברתן',\n",
       " 'passive-PERF-3ms': 'דובר',\n",
       " 'passive-PERF-3fs': 'דוברה',\n",
       " 'passive-PERF-3p': 'דוברו',\n",
       " 'passive-IMPF-1s': 'אדובר',\n",
       " 'passive-IMPF-1p': 'נדובר',\n",
       " 'passive-IMPF-2ms': 'תדובר',\n",
       " 'passive-IMPF-2fs': 'תדוברי',\n",
       " 'passive-IMPF-2mp': 'תדוברו',\n",
       " 'passive-IMPF-2fp': 'תדוברנה',\n",
       " 'passive-IMPF-3ms': 'ידובר',\n",
       " 'passive-IMPF-3fs': 'תדובר',\n",
       " 'passive-IMPF-3mp': 'ידוברו',\n",
       " 'passive-IMPF-3fp': 'תדוברנה'}"
      ]
     },
     "execution_count": 103,
     "metadata": {},
     "output_type": "execute_result"
    }
   ],
   "source": [
    "conj_dict = scrap_conjugation_dict(verb_url)  \n",
    "conj_dict "
   ]
  },
  {
   "cell_type": "code",
   "execution_count": null,
   "id": "64824f86",
   "metadata": {},
   "outputs": [],
   "source": [
    "hebrew_verb = \"ללכת\"\n",
    "verb_url = scrap_verb_link(\"לדבר\") \n",
    "# verb_url = scrap_verb_link(hebrew_verb) \n",
    "conj_dict = scrap_conjugation_dict(verb_url)  \n",
    "\n",
    "# Remove all items from ex_dict whose key contains 'IMP' (imperative forms)\n",
    "conj_dict = {k: v for k, v in conj_dict.items() if 'IMP-' not in k}"
   ]
  },
  {
   "cell_type": "code",
   "execution_count": 104,
   "id": "18228cfe",
   "metadata": {},
   "outputs": [],
   "source": [
    "conjugation_key_map = {\n",
    "    \"AP\": (\"Present\", \"היום\"),\n",
    "    \"PERF\": (\"Past\", \"אתמול\"),\n",
    "    \"IMPF\": (\"Future\", \"מחר\"),\n",
    "    \"IMP\": (\"Imperative\", \"\"),\n",
    "    \"INF\": (\"Infinitive\", \"ל...\"),\n",
    "    \"ms\": (\"masculine singular\", \"הוא\"),\n",
    "    \"fs\": (\"feminine singular\", \"היא\"),\n",
    "    \"mp\": (\"masculine plural\", \"הם\"),\n",
    "    \"fp\": (\"feminine plural\", \"הן\"),\n",
    "    \"1s\": (\"1st person singular\", \"אני\"),\n",
    "    \"1p\": (\"1st person plural\", \"אנחנו\"),\n",
    "    \"2ms\": (\"2nd person masculine singular\", \"אתה\"),\n",
    "    \"2fs\": (\"2nd person feminine singular\", \"את\"),\n",
    "    \"2mp\": (\"2nd person masculine plural\", \"אתם\"),\n",
    "    \"2fp\": (\"2nd person feminine plural\", \"אתן\"),\n",
    "    \"3ms\": (\"3rd person masculine singular\", \"הוא\"),\n",
    "    \"3fs\": (\"3rd person feminine singular\", \"היא\"),\n",
    "    \"3mp\": (\"3rd person masculine plural\", \"הם\"),\n",
    "    \"3fp\": (\"3rd person feminine plural\", \"הן\"),\n",
    "    \"3p\": (\"3rd person plural\", \"הם/הן\"),\n",
    "    \"L\": (\"long form\", \" \"),\n",
    "    \"passive\": (\"passive\", \"(passive)\"),\n",
    "}"
   ]
  },
  {
   "cell_type": "code",
   "execution_count": 105,
   "id": "62c2b591",
   "metadata": {},
   "outputs": [],
   "source": [
    "def parse_conjugation_key(key):\n",
    "    \"\"\"\n",
    "    Split the key by dash and map each part using combined_conjugation_map.\n",
    "    Returns two strings: one for English, one for Hebrew hints.\n",
    "    \"\"\"\n",
    "    parts = key.split('-')\n",
    "    english_parts = []\n",
    "    hebrew_parts = []\n",
    "    for part in parts:\n",
    "        eng, heb = conjugation_key_map.get(part, (part, part))\n",
    "        english_parts.append(eng)\n",
    "        hebrew_parts.append(heb)\n",
    "    parsed_english = \" - \".join(english_parts)\n",
    "    parsed_hebrew = \" ,\".join(hebrew_parts)\n",
    "    return parsed_english, parsed_hebrew"
   ]
  },
  {
   "cell_type": "code",
   "execution_count": 108,
   "id": "2371b907",
   "metadata": {},
   "outputs": [
    {
     "name": "stdout",
     "output_type": "stream",
     "text": [
      "Random conjugation for 'ללכת':\n",
      "(passive - Future - 1st person singular), (passive) ,מחר ,אני: אדובר\n"
     ]
    }
   ],
   "source": [
    "# Select a random conjugation from the dictionary\n",
    "key, value = random.choice(list(conj_dict.items()))\n",
    "parsed_english, parsed_hebrew = parse_conjugation_key(key)\n",
    "print(f\"Random conjugation for '{hebrew_verb}':\")\n",
    "print(f\"({parsed_english}), {parsed_hebrew}: {value}\")"
   ]
  },
  {
   "cell_type": "code",
   "execution_count": 111,
   "id": "ccc6fdb2",
   "metadata": {},
   "outputs": [
    {
     "name": "stdout",
     "output_type": "stream",
     "text": [
      "AP-ms: ('Present - masculine singular', 'היום ,הוא') = מדבר\n",
      "AP-fs: ('Present - feminine singular', 'היום ,היא') = מדברת\n",
      "AP-mp: ('Present - masculine plural', 'היום ,הם') = מדברים\n",
      "AP-fp: ('Present - feminine plural', 'היום ,הן') = מדברות\n",
      "PERF-1s: ('Past - 1st person singular', 'אתמול ,אני') = דיברתי\n",
      "PERF-1p: ('Past - 1st person plural', 'אתמול ,אנחנו') = דיברנו\n",
      "PERF-2ms: ('Past - 2nd person masculine singular', 'אתמול ,אתה') = דיברת\n",
      "PERF-2fs: ('Past - 2nd person feminine singular', 'אתמול ,את') = דיברת\n",
      "PERF-2mp: ('Past - 2nd person masculine plural', 'אתמול ,אתם') = דיברתם\n",
      "PERF-2fp: ('Past - 2nd person feminine plural', 'אתמול ,אתן') = דיברתן\n",
      "PERF-3ms: ('Past - 3rd person masculine singular', 'אתמול ,הוא') = דיבר\n",
      "PERF-3fs: ('Past - 3rd person feminine singular', 'אתמול ,היא') = דיברה\n",
      "PERF-3p: ('Past - 3rd person plural', 'אתמול ,הם/הן') = דיברו\n",
      "IMPF-1s: ('Future - 1st person singular', 'מחר ,אני') = אדבר\n",
      "IMPF-1p: ('Future - 1st person plural', 'מחר ,אנחנו') = נדבר\n",
      "IMPF-2ms: ('Future - 2nd person masculine singular', 'מחר ,אתה') = תדבר\n",
      "IMPF-2fs: ('Future - 2nd person feminine singular', 'מחר ,את') = תדברי\n",
      "IMPF-2mp: ('Future - 2nd person masculine plural', 'מחר ,אתם') = תדברו\n",
      "IMPF-2fp: ('Future - 2nd person feminine plural', 'מחר ,אתן') = תדברנה\n",
      "IMPF-3ms: ('Future - 3rd person masculine singular', 'מחר ,הוא') = ידבר\n",
      "IMPF-3fs: ('Future - 3rd person feminine singular', 'מחר ,היא') = תדבר\n",
      "IMPF-3mp: ('Future - 3rd person masculine plural', 'מחר ,הם') = ידברו\n",
      "IMPF-3fp: ('Future - 3rd person feminine plural', 'מחר ,הן') = תדברנה\n",
      "IMP-2ms: ('Imperative - 2nd person masculine singular', ' ,אתה') = דבר!‏\n",
      "IMP-2fs: ('Imperative - 2nd person feminine singular', ' ,את') = דברי!‏\n",
      "IMP-2mp: ('Imperative - 2nd person masculine plural', ' ,אתם') = דברו!‏\n",
      "IMP-2fp: ('Imperative - 2nd person feminine plural', ' ,אתן') = דברנה!‏\n",
      "INF-L: ('Infinitive - long form', 'ל... , ') = לדבר\n",
      "passive-AP-ms: ('passive - Present - masculine singular', '(passive) ,היום ,הוא') = מדובר\n",
      "passive-AP-fs: ('passive - Present - feminine singular', '(passive) ,היום ,היא') = מדוברת\n",
      "passive-AP-mp: ('passive - Present - masculine plural', '(passive) ,היום ,הם') = מדוברים\n",
      "passive-AP-fp: ('passive - Present - feminine plural', '(passive) ,היום ,הן') = מדוברות\n",
      "passive-PERF-1s: ('passive - Past - 1st person singular', '(passive) ,אתמול ,אני') = דוברתי\n",
      "passive-PERF-1p: ('passive - Past - 1st person plural', '(passive) ,אתמול ,אנחנו') = דוברנו\n",
      "passive-PERF-2ms: ('passive - Past - 2nd person masculine singular', '(passive) ,אתמול ,אתה') = דוברת\n",
      "passive-PERF-2fs: ('passive - Past - 2nd person feminine singular', '(passive) ,אתמול ,את') = דוברת\n",
      "passive-PERF-2mp: ('passive - Past - 2nd person masculine plural', '(passive) ,אתמול ,אתם') = דוברתם\n",
      "passive-PERF-2fp: ('passive - Past - 2nd person feminine plural', '(passive) ,אתמול ,אתן') = דוברתן\n",
      "passive-PERF-3ms: ('passive - Past - 3rd person masculine singular', '(passive) ,אתמול ,הוא') = דובר\n",
      "passive-PERF-3fs: ('passive - Past - 3rd person feminine singular', '(passive) ,אתמול ,היא') = דוברה\n",
      "passive-PERF-3p: ('passive - Past - 3rd person plural', '(passive) ,אתמול ,הם/הן') = דוברו\n",
      "passive-IMPF-1s: ('passive - Future - 1st person singular', '(passive) ,מחר ,אני') = אדובר\n",
      "passive-IMPF-1p: ('passive - Future - 1st person plural', '(passive) ,מחר ,אנחנו') = נדובר\n",
      "passive-IMPF-2ms: ('passive - Future - 2nd person masculine singular', '(passive) ,מחר ,אתה') = תדובר\n",
      "passive-IMPF-2fs: ('passive - Future - 2nd person feminine singular', '(passive) ,מחר ,את') = תדוברי\n",
      "passive-IMPF-2mp: ('passive - Future - 2nd person masculine plural', '(passive) ,מחר ,אתם') = תדוברו\n",
      "passive-IMPF-2fp: ('passive - Future - 2nd person feminine plural', '(passive) ,מחר ,אתן') = תדוברנה\n",
      "passive-IMPF-3ms: ('passive - Future - 3rd person masculine singular', '(passive) ,מחר ,הוא') = ידובר\n",
      "passive-IMPF-3fs: ('passive - Future - 3rd person feminine singular', '(passive) ,מחר ,היא') = תדובר\n",
      "passive-IMPF-3mp: ('passive - Future - 3rd person masculine plural', '(passive) ,מחר ,הם') = ידוברו\n",
      "passive-IMPF-3fp: ('passive - Future - 3rd person feminine plural', '(passive) ,מחר ,הן') = תדוברנה\n"
     ]
    }
   ],
   "source": [
    "# Display all conjugations with their parsed keys\n",
    "for k, v in conj_dict.items():\n",
    "    parsed_english, parsed_hebrew = parse_conjugation_key(k)\n",
    "    print(f\"{k}: {parsed_english, parsed_hebrew} = {v}\")"
   ]
  },
  {
   "cell_type": "code",
   "execution_count": 120,
   "id": "577aafb2",
   "metadata": {},
   "outputs": [
    {
     "name": "stdout",
     "output_type": "stream",
     "text": [
      "Random conjugation for 'ללכת':\n",
      "('Future - 3rd person feminine singular', 'מחר ,היא'): תדבר \n"
     ]
    }
   ],
   "source": [
    "key, value = random.choice(list(conj_dict.items()))\n",
    "parsed_english, parsed_hebrew = parse_conjugation_key(key)\n",
    "print(f\"Random conjugation for '{hebrew_verb}':\")\n",
    "print(f\"{parsed_english, parsed_hebrew}: {value} \")\n"
   ]
  },
  {
   "cell_type": "code",
   "execution_count": null,
   "id": "3b8aebdd",
   "metadata": {},
   "outputs": [
    {
     "data": {
      "text/plain": [
       "'מדובר'"
      ]
     },
     "execution_count": 119,
     "metadata": {},
     "output_type": "execute_result"
    }
   ],
   "source": []
  }
 ],
 "metadata": {
  "kernelspec": {
   "display_name": "Python 3",
   "language": "python",
   "name": "python3"
  },
  "language_info": {
   "codemirror_mode": {
    "name": "ipython",
    "version": 3
   },
   "file_extension": ".py",
   "mimetype": "text/x-python",
   "name": "python",
   "nbconvert_exporter": "python",
   "pygments_lexer": "ipython3",
   "version": "3.9.6"
  }
 },
 "nbformat": 4,
 "nbformat_minor": 5
}

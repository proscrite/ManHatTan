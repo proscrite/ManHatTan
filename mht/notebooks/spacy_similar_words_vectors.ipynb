{
 "cells": [
  {
   "cell_type": "code",
   "execution_count": 13,
   "metadata": {},
   "outputs": [],
   "source": [
    "import numpy as np\n",
    "import pandas as pd\n",
    "import spacy\n",
    "from bidi.algorithm import get_display\n",
    "\n",
    "from googletrans import Translator\n",
    "translator = Translator()"
   ]
  },
  {
   "cell_type": "markdown",
   "metadata": {},
   "source": [
    "# Test word vectors"
   ]
  },
  {
   "cell_type": "code",
   "execution_count": 4,
   "metadata": {},
   "outputs": [],
   "source": [
    "vec_path = '/Users/pabloherrero/Documents/ManHatTan/notebooks/he_vectors'\n",
    "nlp = spacy.load(vec_path)"
   ]
  },
  {
   "cell_type": "code",
   "execution_count": 5,
   "metadata": {},
   "outputs": [
    {
     "name": "stdout",
     "output_type": "stream",
     "text": [
      "זהו True 1.0681664\n",
      "טקסט True 0.8047567\n",
      "בעברית True 0.40524793\n",
      ". True 1.5317025\n"
     ]
    }
   ],
   "source": [
    "doc = nlp(\"זהו טקסט בעברית.\")\n",
    "for token in doc:\n",
    "    print(token.text, token.has_vector, token.vector_norm)"
   ]
  },
  {
   "cell_type": "code",
   "execution_count": 20,
   "metadata": {},
   "outputs": [
    {
     "name": "stdout",
     "output_type": "stream",
     "text": [
      "חברה True 0.77420473\n",
      "שלי True 1.0418928\n",
      "פיפו True 0.0\n",
      "לא True 1.9327171\n",
      "אדום True 0.83313257\n",
      ". True 1.5317025\n"
     ]
    }
   ],
   "source": [
    "doc = nlp(\"חברה שלי פיפו לא אדום.\")\n",
    "for token in doc:\n",
    "    print(token.text, token.has_vector, token.vector_norm)"
   ]
  },
  {
   "cell_type": "markdown",
   "metadata": {},
   "source": [
    "# Search for similar words"
   ]
  },
  {
   "cell_type": "markdown",
   "metadata": {},
   "source": [
    "## Arbitrary word"
   ]
  },
  {
   "cell_type": "code",
   "execution_count": 22,
   "metadata": {},
   "outputs": [
    {
     "data": {
      "text/plain": [
       "['אדום', 'כחול', 'צהוב', 'ירוק', 'שחור']"
      ]
     },
     "execution_count": 22,
     "metadata": {},
     "output_type": "execute_result"
    }
   ],
   "source": [
    "adom_id = nlp.vocab.strings['אדום']\n",
    "adom_vec = nlp.vocab.vectors[adom_id]\n",
    "most_similar_words = nlp.vocab.vectors.most_similar(np.asarray([adom_vec]), n=5)\n",
    "words = [nlp.vocab.strings[w] for w in most_similar_words[0][0]]\n",
    "words\n"
   ]
  },
  {
   "cell_type": "code",
   "execution_count": null,
   "metadata": {},
   "outputs": [
    {
     "data": {
      "text/plain": [
       "['אמרתי', 'ואמרתי', 'אגיד', 'חשבתי', 'ידעתי', 'שאמרתי', 'אומר', 'אמר']"
      ]
     },
     "execution_count": 183,
     "metadata": {},
     "output_type": "execute_result"
    }
   ],
   "source": [
    "adom_id = nlp.vocab.strings['אמרתי']\n",
    "adom_vec = nlp.vocab.vectors[adom_id]\n",
    "most_similar_words = nlp.vocab.vectors.most_similar(np.asarray([adom_vec]), n=8)\n",
    "words = [nlp.vocab.strings[w] for w in most_similar_words[0][0]]\n",
    "words"
   ]
  },
  {
   "cell_type": "markdown",
   "metadata": {},
   "source": [
    "## Test on LIP"
   ]
  },
  {
   "cell_type": "code",
   "execution_count": 15,
   "metadata": {},
   "outputs": [],
   "source": [
    "lippath = '/Users/pabloherrero/Documents/ManHatTan/data/processed/LIPSTICK/hebrew_db.lip'\n",
    "lip = pd.read_csv(lippath)\n",
    "lip.set_index('word_ll', inplace=True, drop=False)"
   ]
  },
  {
   "cell_type": "code",
   "execution_count": 157,
   "metadata": {},
   "outputs": [
    {
     "name": "stdout",
     "output_type": "stream",
     "text": [
      "עכביש: 1.000, spider\n",
      "קוף: 0.344, monkey\n",
      "מפלצת: 0.316, monster\n",
      "נחש: 0.286, snake\n",
      "יצור: 0.260, creature\n",
      "מכשפה: 0.259, witch\n",
      "קוסם: 0.257, magician\n",
      "מיקרופון: 0.254, microphone\n",
      "טיפש: 0.251, Stupid\n",
      "שריון: 0.251, armor\n"
     ]
    }
   ],
   "source": [
    "\n",
    "# Load your spaCy model that contains the Hebrew vectors\n",
    "nlp = spacy.load(\"he_vectors\")\n",
    "\n",
    "# Define the target word and process it to get its token (make sure it has a vector)\n",
    "target_word = \"עכביש\"\n",
    "target_token = nlp(target_word)[0]\n",
    "\n",
    "other_words = lip.word_ll.values.tolist()  # List of words to compare with the target word\n",
    "# Compute similarity for each word in the list\n",
    "similarities = []\n",
    "for word in other_words:\n",
    "    token = nlp(word)[0]\n",
    "    # Check if both tokens have vectors\n",
    "    if target_token.has_vector and token.has_vector:\n",
    "        sim = target_token.similarity(token)\n",
    "        similarities.append((word, sim))\n",
    "    else:\n",
    "        similarities.append((word, 0.0))\n",
    "\n",
    "# Sort words by similarity in descending order\n",
    "similarities.sort(key=lambda x: x[1], reverse=True)\n",
    "\n",
    "# Print the top 10 most similar words\n",
    "for word, score in similarities[:10]:\n",
    "    print(f\"{word}: {score:.3f}, {lip.loc[word, 'word_ul']}\")\n"
   ]
  },
  {
   "cell_type": "markdown",
   "metadata": {},
   "source": [
    "## Write word vectors"
   ]
  },
  {
   "cell_type": "code",
   "execution_count": 167,
   "metadata": {},
   "outputs": [],
   "source": [
    "all_entries = lip.word_ll.values.tolist()\n",
    "vect_word = []\n",
    "vectors = []\n",
    "for word in all_entries:\n",
    "    token = nlp(word)[0]\n",
    "    # Check if both tokens have vectors\n",
    "    if target_token.has_vector and token.has_vector:\n",
    "        vect_word.append(word)\n",
    "        vectors.append(token.vector)"
   ]
  },
  {
   "cell_type": "code",
   "execution_count": null,
   "metadata": {},
   "outputs": [],
   "source": [
    "pathout = '/Users/pabloherrero/Documents/ManHatTan/data/processed/vectors_lip/vectors_heb_lip.npz'\n",
    "\n",
    "np.savez(pathout, tokens=vect_word, vectors=vectors)"
   ]
  },
  {
   "cell_type": "markdown",
   "metadata": {},
   "source": [
    "# Load word vectors from npz file"
   ]
  },
  {
   "cell_type": "code",
   "execution_count": 178,
   "metadata": {},
   "outputs": [],
   "source": [
    "data = np.load(pathout)\n",
    "tokens = data['tokens']\n",
    "vectors = data['vectors']\n",
    "token_to_vector = {token: vector for token, vector in zip(vect_word, vectors)}\n"
   ]
  },
  {
   "cell_type": "code",
   "execution_count": 190,
   "metadata": {},
   "outputs": [
    {
     "name": "stdout",
     "output_type": "stream",
     "text": [
      "קוף: 0.659, monkey\n",
      "חץ: 0.574, arrow\n",
      "נחש: 0.503, snake\n"
     ]
    }
   ],
   "source": [
    "specific_word = 'עכביש'\n",
    "specific_vector = token_to_vector[specific_word]\n",
    "similarities = []\n",
    "norm = np.dot(specific_vector, specific_vector)\n",
    "for word in tokens:\n",
    "    token = token_to_vector[word]\n",
    "    sim = np.dot(specific_vector, token) / norm\n",
    "    similarities.append((word, sim))\n",
    "similarities.sort(key=lambda x: x[1], reverse=True)\n",
    "# Print the top 10 most similar words\n",
    "for word, score in similarities[1:4]:\n",
    "    print(f\"{word}: {score:.3f}, {lip.loc[word, 'word_ul']}\")"
   ]
  },
  {
   "cell_type": "markdown",
   "metadata": {},
   "source": [
    "# EGGS: Functions to sample similar words"
   ]
  },
  {
   "cell_type": "code",
   "execution_count": 200,
   "metadata": {},
   "outputs": [],
   "source": [
    "from random import sample\n",
    "\n",
    "def load_similar_words(pathout, target_word):\n",
    "    word_vectors = np.load(pathout)\n",
    "    tokens = word_vectors['tokens']\n",
    "    vectors = word_vectors['vectors']\n",
    "    token_to_vector = {token: vector for token, vector in zip(tokens, vectors)}\n",
    "    try:\n",
    "        target_vector = token_to_vector[target_word]\n",
    "    except IndexError as e:\n",
    "        print(e, f' with {target_word}')\n",
    "        return\n",
    "    similarities = []\n",
    "\n",
    "    norm = np.dot(target_vector, target_vector)\n",
    "    for word in tokens:\n",
    "        token = token_to_vector[word]\n",
    "        sim = np.dot(target_vector, token) / norm\n",
    "        similarities.append((word, sim))\n",
    "    similarities.sort(key=lambda x: x[1], reverse=True)\n",
    "    # return the top 3 most similar words\n",
    "    return [word for word, _ in similarities[1:10]]\n",
    "\n",
    "def sample_similar_options(lipstick_path : str, iquest : int, modality : str, n_options : int = 3):\n",
    "\n",
    "    if modality == 'dt': word_lang = 'word_ul'\n",
    "    elif modality == 'rt': word_lang = 'word_ll'\n",
    "    else: print('Incorrect modality in rnd_options function')\n",
    "    lip = pd.read_csv(lipstick_path)\n",
    "    target_word = lip.iloc[iquest]['word_ll']\n",
    "    lip = lip.set_index('word_ll', drop=False)\n",
    "    options = {}\n",
    "    #### Change this: to be extracted from lipstick_path:\n",
    "    vector_path = '/Users/pabloherrero/Documents/ManHatTan/data/processed/vectors_lip/vectors_heb_lip.npz'\n",
    "    similar_words = load_similar_words(vector_path, target_word=target_word)\n",
    "    \n",
    "    rnd_similar_words = sample(similar_words, n_options)\n",
    "    print(rnd_similar_words)\n",
    "    for i in range(n_options):\n",
    "        rndOp = lip.loc[rnd_similar_words][word_lang]\n",
    "        print(rndOp)\n",
    "        # options[rndOp] = False\n",
    "    return options\n"
   ]
  },
  {
   "cell_type": "code",
   "execution_count": 199,
   "metadata": {},
   "outputs": [
    {
     "data": {
      "text/plain": [
       "['קוף', 'חץ', 'נחש', 'חכם', 'פשע', 'פחד', 'תת קרקעי', 'קוסם', 'מה אתה מסתכל']"
      ]
     },
     "execution_count": 199,
     "metadata": {},
     "output_type": "execute_result"
    }
   ],
   "source": [
    "vector_path = '/Users/pabloherrero/Documents/ManHatTan/data/processed/vectors_lip/vectors_heb_lip.npz'\n",
    "load_similar_words(pathout=vector_path, target_word='עכביש')"
   ]
  },
  {
   "cell_type": "code",
   "execution_count": 201,
   "metadata": {},
   "outputs": [
    {
     "name": "stdout",
     "output_type": "stream",
     "text": [
      "['נקי', 'מה נראה לך', 'רחב', 'יבש']\n",
      "word_ll\n",
      "נקי                         net\n",
      "מה נראה לך    What do you think\n",
      "רחב                        wide\n",
      "יבש                         dry\n",
      "Name: word_ul, dtype: object\n",
      "word_ll\n",
      "נקי                         net\n",
      "מה נראה לך    What do you think\n",
      "רחב                        wide\n",
      "יבש                         dry\n",
      "Name: word_ul, dtype: object\n",
      "word_ll\n",
      "נקי                         net\n",
      "מה נראה לך    What do you think\n",
      "רחב                        wide\n",
      "יבש                         dry\n",
      "Name: word_ul, dtype: object\n",
      "word_ll\n",
      "נקי                         net\n",
      "מה נראה לך    What do you think\n",
      "רחב                        wide\n",
      "יבש                         dry\n",
      "Name: word_ul, dtype: object\n"
     ]
    },
    {
     "data": {
      "text/plain": [
       "{}"
      ]
     },
     "execution_count": 201,
     "metadata": {},
     "output_type": "execute_result"
    }
   ],
   "source": [
    "iquest = 4\n",
    "sample_similar_options(lipstick_path=lippath, iquest=iquest, modality='dt', n_options=4)"
   ]
  },
  {
   "cell_type": "markdown",
   "metadata": {},
   "source": [
    "# EGGS: Simple filtering out-of-bags words"
   ]
  },
  {
   "cell_type": "markdown",
   "metadata": {},
   "source": [
    "## Drop words contained in original (simple prefixes and suffixes)"
   ]
  },
  {
   "cell_type": "code",
   "execution_count": null,
   "metadata": {},
   "outputs": [
    {
     "name": "stdout",
     "output_type": "stream",
     "text": [
      "Contained in original:  להגיע\n",
      "Contained in original:  ולהגיע\n"
     ]
    },
    {
     "data": {
      "text/plain": [
       "['להיכנס', 'לגשת', 'להתקרב']"
      ]
     },
     "metadata": {},
     "output_type": "display_data"
    }
   ],
   "source": [
    "selected_word = 'להגיע'\n",
    "# selected_word = get_display(selected_word)\n",
    "selected_word_id = nlp.vocab.strings['להגיע']\n",
    "sel_word_vec = nlp.vocab.vectors[selected_word_id]\n",
    "most_similar_words = nlp.vocab.vectors.most_similar(np.asarray([sel_word_vec]), n=5)\n",
    "words = [nlp.vocab.strings[w] for w in most_similar_words[0][0]]\n",
    "\n",
    "filtered_words = []\n",
    "for w in words:\n",
    "    if selected_word in w:\n",
    "        print('Contained in original: ', w)\n",
    "        continue\n",
    "    filtered_words.append(w)\n",
    "filtered_words"
   ]
  },
  {
   "cell_type": "markdown",
   "metadata": {},
   "source": [
    "## Account for different sofit letters (map to non-sofit)"
   ]
  },
  {
   "cell_type": "code",
   "execution_count": 8,
   "metadata": {},
   "outputs": [],
   "source": [
    "def filter_sofits(word):\n",
    "    from hebrew import FINAL_MINOR_LETTER_MAPPINGS as sofit_dict\n",
    "    final_letter = word[-1]\n",
    "    if final_letter in sofit_dict.keys():\n",
    "        filtered_word = word[:-1] + sofit_dict[final_letter]\n",
    "        return filtered_word\n",
    "    else:\n",
    "        return word"
   ]
  },
  {
   "cell_type": "code",
   "execution_count": 191,
   "metadata": {},
   "outputs": [
    {
     "name": "stdout",
     "output_type": "stream",
     "text": [
      "Contained in original:  כונה\n",
      "Contained in original:  מכונה\n",
      "Contained in original:  ומכונה\n",
      "Contained in original:  שכונה\n",
      "Contained in original:  המכונה\n",
      "Contained in original:  שמכונה\n"
     ]
    },
    {
     "data": {
      "text/plain": [
       "['נקרא',\n",
       " 'כונתה',\n",
       " 'קרוי',\n",
       " 'לכינוי',\n",
       " 'כונו',\n",
       " 'ונקרא',\n",
       " 'כינו',\n",
       " 'כינויו',\n",
       " 'בכינוי',\n",
       " 'כינה',\n",
       " 'שנקרא',\n",
       " 'שימש',\n",
       " 'הקרוי',\n",
       " 'הוחלף',\n",
       " 'שנודע',\n",
       " 'נקראה',\n",
       " 'הידוע',\n",
       " 'הוגדר',\n",
       " 'בכינויו',\n",
       " 'התפרסם',\n",
       " 'הוכר',\n",
       " 'הפך',\n",
       " 'נקראו',\n",
       " 'נודעה']"
      ]
     },
     "execution_count": 191,
     "metadata": {},
     "output_type": "execute_result"
    }
   ],
   "source": [
    "selected_word = 'כונה'\n",
    "# selected_word = get_display(selected_word)\n",
    "selected_word_id = nlp.vocab.strings[selected_word]\n",
    "sel_word_vec = nlp.vocab.vectors[selected_word_id]\n",
    "most_similar_words = nlp.vocab.vectors.most_similar(np.asarray([sel_word_vec]), n=30)\n",
    "words = [nlp.vocab.strings[w] for w in most_similar_words[0][0]]\n",
    "selected_filtered = filter_sofits(selected_word)\n",
    "filtered_words = []\n",
    "for w in words:\n",
    "    wf = filter_sofits(w)\n",
    "    if selected_filtered in wf:\n",
    "        print('Contained in original: ', w)\n",
    "        continue\n",
    "    filtered_words.append(w)\n",
    "filtered_words"
   ]
  },
  {
   "cell_type": "markdown",
   "metadata": {},
   "source": [
    "#### Reverse order: the most similar words are typically the ones with the same root, so not so interesting"
   ]
  },
  {
   "cell_type": "code",
   "execution_count": 193,
   "metadata": {},
   "outputs": [
    {
     "data": {
      "text/plain": [
       "['נודעה',\n",
       " 'נקראו',\n",
       " 'הפך',\n",
       " 'הוכר',\n",
       " 'התפרסם',\n",
       " 'בכינויו',\n",
       " 'הוגדר',\n",
       " 'הידוע',\n",
       " 'נקראה',\n",
       " 'שנודע',\n",
       " 'הוחלף',\n",
       " 'הקרוי',\n",
       " 'שימש',\n",
       " 'שנקרא',\n",
       " 'כינה',\n",
       " 'בכינוי',\n",
       " 'כינויו',\n",
       " 'כינו',\n",
       " 'ונקרא',\n",
       " 'כונו',\n",
       " 'לכינוי',\n",
       " 'קרוי',\n",
       " 'כונתה',\n",
       " 'נקרא']"
      ]
     },
     "execution_count": 193,
     "metadata": {},
     "output_type": "execute_result"
    }
   ],
   "source": [
    "filtered_words[::-1]"
   ]
  },
  {
   "cell_type": "markdown",
   "metadata": {},
   "source": [
    "#### Sampling randomly"
   ]
  },
  {
   "cell_type": "code",
   "execution_count": 196,
   "metadata": {},
   "outputs": [
    {
     "data": {
      "text/plain": [
       "['ונקרא', 'נודעה', 'נקראו', 'כונתה', 'בכינוי']"
      ]
     },
     "execution_count": 196,
     "metadata": {},
     "output_type": "execute_result"
    }
   ],
   "source": [
    "from random import sample\n",
    "sample(filtered_words, 5)"
   ]
  },
  {
   "cell_type": "markdown",
   "metadata": {},
   "source": [
    "# Advanced filtering OOB words\n",
    "\n",
    "OOB: Out-of-bag"
   ]
  },
  {
   "cell_type": "markdown",
   "metadata": {},
   "source": [
    "## With Google Translator API"
   ]
  },
  {
   "cell_type": "code",
   "execution_count": 7,
   "metadata": {},
   "outputs": [],
   "source": [
    "from googletrans import LANGUAGES"
   ]
  },
  {
   "cell_type": "code",
   "execution_count": null,
   "metadata": {},
   "outputs": [],
   "source": [
    "from googletrans import Translator\n",
    "translator = Translator()"
   ]
  },
  {
   "cell_type": "code",
   "execution_count": 60,
   "metadata": {},
   "outputs": [],
   "source": [
    "import asyncio\n",
    "from googletrans import Translator\n"
   ]
  },
  {
   "cell_type": "code",
   "execution_count": 158,
   "metadata": {},
   "outputs": [
    {
     "data": {
      "text/plain": [
       "15"
      ]
     },
     "execution_count": 158,
     "metadata": {},
     "output_type": "execute_result"
    }
   ],
   "source": [
    "len(filtered_words)"
   ]
  },
  {
   "cell_type": "code",
   "execution_count": 203,
   "metadata": {},
   "outputs": [
    {
     "name": "stdout",
     "output_type": "stream",
     "text": [
      "Translation: נקרא -> named\n",
      "Failed to translate: כונתה -> כונתה\n",
      "Translation: קרוי -> His nickname\n",
      "Translation: לכינוי -> To\n",
      "Translation: כונו -> Were called\n"
     ]
    },
    {
     "data": {
      "text/html": [
       "<div>\n",
       "<style scoped>\n",
       "    .dataframe tbody tr th:only-of-type {\n",
       "        vertical-align: middle;\n",
       "    }\n",
       "\n",
       "    .dataframe tbody tr th {\n",
       "        vertical-align: top;\n",
       "    }\n",
       "\n",
       "    .dataframe thead th {\n",
       "        text-align: right;\n",
       "    }\n",
       "</style>\n",
       "<table border=\"1\" class=\"dataframe\">\n",
       "  <thead>\n",
       "    <tr style=\"text-align: right;\">\n",
       "      <th></th>\n",
       "      <th>word_ll</th>\n",
       "      <th>word_ul</th>\n",
       "      <th>ui_language</th>\n",
       "      <th>learning_language</th>\n",
       "    </tr>\n",
       "  </thead>\n",
       "  <tbody>\n",
       "    <tr>\n",
       "      <th>0</th>\n",
       "      <td>קרוי</td>\n",
       "      <td>named</td>\n",
       "      <td>en</td>\n",
       "      <td>iw</td>\n",
       "    </tr>\n",
       "    <tr>\n",
       "      <th>1</th>\n",
       "      <td>כינויו</td>\n",
       "      <td>His nickname</td>\n",
       "      <td>en</td>\n",
       "      <td>iw</td>\n",
       "    </tr>\n",
       "    <tr>\n",
       "      <th>2</th>\n",
       "      <td>כונו</td>\n",
       "      <td>To</td>\n",
       "      <td>en</td>\n",
       "      <td>iw</td>\n",
       "    </tr>\n",
       "    <tr>\n",
       "      <th>3</th>\n",
       "      <td>נקראו</td>\n",
       "      <td>Were called</td>\n",
       "      <td>en</td>\n",
       "      <td>iw</td>\n",
       "    </tr>\n",
       "  </tbody>\n",
       "</table>\n",
       "</div>"
      ],
      "text/plain": [
       "  word_ll       word_ul ui_language learning_language\n",
       "0    קרוי         named          en                iw\n",
       "1  כינויו  His nickname          en                iw\n",
       "2    כונו            To          en                iw\n",
       "3   נקראו   Were called          en                iw"
      ]
     },
     "execution_count": 203,
     "metadata": {},
     "output_type": "execute_result"
    }
   ],
   "source": [
    "translator = Translator()\n",
    "\n",
    "possible_words = sample(filtered_words, 5)\n",
    "translations = await translator.translate(possible_words, dest='en')\n",
    "translated_words = [t.text for t in translations]\n",
    "lang_detection = await translator.detect(translated_words)\n",
    "detected_lang = [lang.lang for lang in lang_detection]\n",
    "\n",
    "gota = pd.DataFrame(columns=['word_ll', 'word_ul', 'ui_language', 'learning_language'])\n",
    "filtered_translations = []\n",
    "\n",
    "for i, (word_ll, word_ul, detected_lang) in enumerate(zip(filtered_words[:10], translated_words, detected_lang)):\n",
    "    if detected_lang == translations[0].src:\n",
    "        print(f\"Failed to translate: {word_ll} -> {word_ul}\")\n",
    "        possible_words.remove(word_ll)\n",
    "    else:\n",
    "        print(f\"Translation: {word_ll} -> {word_ul}\")\n",
    "        filtered_translations.append(word_ul)\n",
    "gota['word_ll'] = possible_words\n",
    "gota['word_ul'] = filtered_translations\n",
    "gota['ui_language'] = 'en'\n",
    "gota['learning_language'] = 'iw'\n",
    "gota"
   ]
  },
  {
   "cell_type": "markdown",
   "metadata": {},
   "source": [
    "## Test network plotting"
   ]
  },
  {
   "cell_type": "code",
   "execution_count": 207,
   "metadata": {},
   "outputs": [
    {
     "data": {
      "image/png": "[encoded data removed]",
      "text/plain": [
       "<Figure size 640x480 with 1 Axes>"
      ]
     },
     "metadata": {},
     "output_type": "display_data"
    }
   ],
   "source": [
    "import networkx as nx\n",
    "import matplotlib.pyplot as plt\n",
    "\n",
    "# 1. Build your graph\n",
    "G = nx.Graph()\n",
    "# Suppose you have a list of (word_a, word_b, similarity_score)\n",
    "edges = [\n",
    "    ('apple', 'pear', 0.78),\n",
    "    ('apple', 'banana', 0.65),\n",
    "    ('pear',  'peach', 0.92),\n",
    "    ('banana','mango', 0.10),\n",
    "]\n",
    "# Add edges with a weight attribute\n",
    "for a, b, w in edges:\n",
    "    G.add_edge(a, b, weight=w)\n",
    "\n",
    "# 2. Choose a layout\n",
    "pos = nx.spring_layout(G, k=0.5)  # force‐directed layout\n",
    "\n",
    "# 3. Draw nodes & edges\n",
    "nx.draw_networkx_nodes(G, pos, node_size=700)\n",
    "nx.draw_networkx_labels(G, pos, font_size=12)\n",
    "# scale edge widths by weight\n",
    "weights = [G[u][v]['weight']*5 for u, v in G.edges()]\n",
    "nx.draw_networkx_edges(G, pos, width=weights, alpha=0.6)\n",
    "\n",
    "# 4. Show\n",
    "plt.axis('off')\n",
    "plt.title(\"Word Similarity Network\")\n",
    "plt.show()\n"
   ]
  },
  {
   "cell_type": "code",
   "execution_count": 8,
   "metadata": {},
   "outputs": [],
   "source": [
    "import pandas as pd\n",
    "lippath = '/Users/pabloherrero/Documents/ManHatTan/mht/data/processed/LIPSTICK/hebrew_db_team.lip'\n",
    "lip = pd.read_csv(lippath)"
   ]
  },
  {
   "cell_type": "code",
   "execution_count": 11,
   "metadata": {},
   "outputs": [
    {
     "data": {
      "text/plain": [
       "0"
      ]
     },
     "execution_count": 11,
     "metadata": {},
     "output_type": "execute_result"
    }
   ],
   "source": [
    "lip = lip.drop(lip[lip['rebag'] == True].index)\n",
    "len(lip)"
   ]
  },
  {
   "cell_type": "code",
   "execution_count": 13,
   "metadata": {},
   "outputs": [
    {
     "ename": "IndexError",
     "evalue": "single positional indexer is out-of-bounds",
     "output_type": "error",
     "traceback": [
      "\u001b[0;31m---------------------------------------------------------------------------\u001b[0m",
      "\u001b[0;31mIndexError\u001b[0m                                Traceback (most recent call last)",
      "Cell \u001b[0;32mIn[13], line 1\u001b[0m\n\u001b[0;32m----> 1\u001b[0m \u001b[43mlip\u001b[49m\u001b[38;5;241;43m.\u001b[39;49m\u001b[43miloc\u001b[49m\u001b[43m[\u001b[49m\u001b[38;5;241;43m0\u001b[39;49m\u001b[43m]\u001b[49m\n",
      "File \u001b[0;32m~/Library/Python/3.9/lib/python/site-packages/pandas/core/indexing.py:1191\u001b[0m, in \u001b[0;36m_LocationIndexer.__getitem__\u001b[0;34m(self, key)\u001b[0m\n\u001b[1;32m   1189\u001b[0m maybe_callable \u001b[38;5;241m=\u001b[39m com\u001b[38;5;241m.\u001b[39mapply_if_callable(key, \u001b[38;5;28mself\u001b[39m\u001b[38;5;241m.\u001b[39mobj)\n\u001b[1;32m   1190\u001b[0m maybe_callable \u001b[38;5;241m=\u001b[39m \u001b[38;5;28mself\u001b[39m\u001b[38;5;241m.\u001b[39m_check_deprecated_callable_usage(key, maybe_callable)\n\u001b[0;32m-> 1191\u001b[0m \u001b[38;5;28;01mreturn\u001b[39;00m \u001b[38;5;28;43mself\u001b[39;49m\u001b[38;5;241;43m.\u001b[39;49m\u001b[43m_getitem_axis\u001b[49m\u001b[43m(\u001b[49m\u001b[43mmaybe_callable\u001b[49m\u001b[43m,\u001b[49m\u001b[43m \u001b[49m\u001b[43maxis\u001b[49m\u001b[38;5;241;43m=\u001b[39;49m\u001b[43maxis\u001b[49m\u001b[43m)\u001b[49m\n",
      "File \u001b[0;32m~/Library/Python/3.9/lib/python/site-packages/pandas/core/indexing.py:1752\u001b[0m, in \u001b[0;36m_iLocIndexer._getitem_axis\u001b[0;34m(self, key, axis)\u001b[0m\n\u001b[1;32m   1749\u001b[0m     \u001b[38;5;28;01mraise\u001b[39;00m \u001b[38;5;167;01mTypeError\u001b[39;00m(\u001b[38;5;124m\"\u001b[39m\u001b[38;5;124mCannot index by location index with a non-integer key\u001b[39m\u001b[38;5;124m\"\u001b[39m)\n\u001b[1;32m   1751\u001b[0m \u001b[38;5;66;03m# validate the location\u001b[39;00m\n\u001b[0;32m-> 1752\u001b[0m \u001b[38;5;28;43mself\u001b[39;49m\u001b[38;5;241;43m.\u001b[39;49m\u001b[43m_validate_integer\u001b[49m\u001b[43m(\u001b[49m\u001b[43mkey\u001b[49m\u001b[43m,\u001b[49m\u001b[43m \u001b[49m\u001b[43maxis\u001b[49m\u001b[43m)\u001b[49m\n\u001b[1;32m   1754\u001b[0m \u001b[38;5;28;01mreturn\u001b[39;00m \u001b[38;5;28mself\u001b[39m\u001b[38;5;241m.\u001b[39mobj\u001b[38;5;241m.\u001b[39m_ixs(key, axis\u001b[38;5;241m=\u001b[39maxis)\n",
      "File \u001b[0;32m~/Library/Python/3.9/lib/python/site-packages/pandas/core/indexing.py:1685\u001b[0m, in \u001b[0;36m_iLocIndexer._validate_integer\u001b[0;34m(self, key, axis)\u001b[0m\n\u001b[1;32m   1683\u001b[0m len_axis \u001b[38;5;241m=\u001b[39m \u001b[38;5;28mlen\u001b[39m(\u001b[38;5;28mself\u001b[39m\u001b[38;5;241m.\u001b[39mobj\u001b[38;5;241m.\u001b[39m_get_axis(axis))\n\u001b[1;32m   1684\u001b[0m \u001b[38;5;28;01mif\u001b[39;00m key \u001b[38;5;241m>\u001b[39m\u001b[38;5;241m=\u001b[39m len_axis \u001b[38;5;129;01mor\u001b[39;00m key \u001b[38;5;241m<\u001b[39m \u001b[38;5;241m-\u001b[39mlen_axis:\n\u001b[0;32m-> 1685\u001b[0m     \u001b[38;5;28;01mraise\u001b[39;00m \u001b[38;5;167;01mIndexError\u001b[39;00m(\u001b[38;5;124m\"\u001b[39m\u001b[38;5;124msingle positional indexer is out-of-bounds\u001b[39m\u001b[38;5;124m\"\u001b[39m)\n",
      "\u001b[0;31mIndexError\u001b[0m: single positional indexer is out-of-bounds"
     ]
    }
   ],
   "source": [
    "lip.iloc[0]"
   ]
  }
 ],
 "metadata": {
  "kernelspec": {
   "display_name": "Python 3",
   "language": "python",
   "name": "python3"
  },
  "language_info": {
   "codemirror_mode": {
    "name": "ipython",
    "version": 3
   },
   "file_extension": ".py",
   "mimetype": "text/x-python",
   "name": "python",
   "nbconvert_exporter": "python",
   "pygments_lexer": "ipython3",
   "version": "3.9.6"
  }
 },
 "nbformat": 4,
 "nbformat_minor": 2
}
